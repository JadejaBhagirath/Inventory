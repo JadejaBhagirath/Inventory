{
 "cells": [
  {
   "cell_type": "markdown",
   "id": "8c2b9525",
   "metadata": {},
   "source": [
    "<div style=\"text-align:center; background-color:royalblue; color:wheat; font-size:25px; padding:20px;\">\n",
    "    <strong>NMI CLASSFICATION</strong>\n",
    "</div>"
   ]
  },
  {
   "cell_type": "code",
   "execution_count": 89,
   "id": "d8fae847",
   "metadata": {},
   "outputs": [],
   "source": [
    "#importing Necessary libraries\n",
    "import pandas as pd\n",
    "import numpy as np\n",
    "import matplotlib.pyplot as plt\n",
    "import seaborn as sns\n",
    "import plotly.express as px\n",
    "\n",
    "from datetime import datetime\n",
    "import warnings\n",
    "warnings.filterwarnings(\"ignore\")"
   ]
  },
  {
   "cell_type": "markdown",
   "id": "b38dfee3",
   "metadata": {},
   "source": [
    "<div style=\"text-align:center; background-color:black; color:cyan; font-size:25px; padding:20px;\">\n",
    "    <strong>01. Load Consumption file</strong>\n",
    "</div>"
   ]
  },
  {
   "cell_type": "code",
   "execution_count": 2,
   "id": "c7098277",
   "metadata": {},
   "outputs": [],
   "source": [
    "#Reading a file\n",
    "df = pd.read_excel(\"issue1.xlsx\")"
   ]
  },
  {
   "cell_type": "code",
   "execution_count": 3,
   "id": "a1fb8af9",
   "metadata": {},
   "outputs": [
    {
     "data": {
      "text/html": [
       "<div>\n",
       "<style scoped>\n",
       "    .dataframe tbody tr th:only-of-type {\n",
       "        vertical-align: middle;\n",
       "    }\n",
       "\n",
       "    .dataframe tbody tr th {\n",
       "        vertical-align: top;\n",
       "    }\n",
       "\n",
       "    .dataframe thead th {\n",
       "        text-align: right;\n",
       "    }\n",
       "</style>\n",
       "<table border=\"1\" class=\"dataframe\">\n",
       "  <thead>\n",
       "    <tr style=\"text-align: right;\">\n",
       "      <th></th>\n",
       "      <th>Item Code</th>\n",
       "      <th>finaldate</th>\n",
       "      <th>Description</th>\n",
       "      <th>mvt</th>\n",
       "      <th>Issue Qty</th>\n",
       "      <th>Value (Cr,s)</th>\n",
       "      <th>Dept</th>\n",
       "      <th>Category</th>\n",
       "    </tr>\n",
       "  </thead>\n",
       "  <tbody>\n",
       "    <tr>\n",
       "      <th>0</th>\n",
       "      <td>1711015901</td>\n",
       "      <td>07.04.2020</td>\n",
       "      <td>CYL BRG OIL RG LP, DWG: A192.07.32E02</td>\n",
       "      <td>261</td>\n",
       "      <td>-4</td>\n",
       "      <td>1600000.0</td>\n",
       "      <td>MMD</td>\n",
       "      <td>Essential</td>\n",
       "    </tr>\n",
       "    <tr>\n",
       "      <th>1</th>\n",
       "      <td>2407912183</td>\n",
       "      <td>07.04.2020</td>\n",
       "      <td>FILL PACK M67, PN:PT NO # 80-43073-11</td>\n",
       "      <td>201</td>\n",
       "      <td>-23</td>\n",
       "      <td>1400000.0</td>\n",
       "      <td>C&amp;I</td>\n",
       "      <td>Essential</td>\n",
       "    </tr>\n",
       "    <tr>\n",
       "      <th>2</th>\n",
       "      <td>3290909113</td>\n",
       "      <td>07.04.2020</td>\n",
       "      <td>OIL FILTERATION PLANT, 6KLPH, GEE. DEE VAC</td>\n",
       "      <td>221</td>\n",
       "      <td>-1</td>\n",
       "      <td>1200000.0</td>\n",
       "      <td>CHM</td>\n",
       "      <td>Essential</td>\n",
       "    </tr>\n",
       "    <tr>\n",
       "      <th>3</th>\n",
       "      <td>7787931231</td>\n",
       "      <td>07.04.2020</td>\n",
       "      <td>DISK STACK,100DLC,2CH,6IN,. MM: 100 DLC-2CH</td>\n",
       "      <td>921</td>\n",
       "      <td>-1</td>\n",
       "      <td>1200000.0</td>\n",
       "      <td>MBO</td>\n",
       "      <td>Desirable</td>\n",
       "    </tr>\n",
       "    <tr>\n",
       "      <th>4</th>\n",
       "      <td>7190990173</td>\n",
       "      <td>03.04.2020</td>\n",
       "      <td>PLCC CARD P1LA RF AMPLIFIER FOR ETL-41</td>\n",
       "      <td>975</td>\n",
       "      <td>-2</td>\n",
       "      <td>1000000.0</td>\n",
       "      <td>EMD</td>\n",
       "      <td>Desirable</td>\n",
       "    </tr>\n",
       "  </tbody>\n",
       "</table>\n",
       "</div>"
      ],
      "text/plain": [
       "    Item Code   finaldate                                  Description  mvt  \\\n",
       "0  1711015901  07.04.2020        CYL BRG OIL RG LP, DWG: A192.07.32E02  261   \n",
       "1  2407912183  07.04.2020        FILL PACK M67, PN:PT NO # 80-43073-11  201   \n",
       "2  3290909113  07.04.2020   OIL FILTERATION PLANT, 6KLPH, GEE. DEE VAC  221   \n",
       "3  7787931231  07.04.2020  DISK STACK,100DLC,2CH,6IN,. MM: 100 DLC-2CH  921   \n",
       "4  7190990173  03.04.2020       PLCC CARD P1LA RF AMPLIFIER FOR ETL-41  975   \n",
       "\n",
       "   Issue Qty  Value (Cr,s) Dept   Category  \n",
       "0         -4     1600000.0  MMD  Essential  \n",
       "1        -23     1400000.0  C&I  Essential  \n",
       "2         -1     1200000.0  CHM  Essential  \n",
       "3         -1     1200000.0  MBO  Desirable  \n",
       "4         -2     1000000.0  EMD  Desirable  "
      ]
     },
     "execution_count": 3,
     "metadata": {},
     "output_type": "execute_result"
    }
   ],
   "source": [
    "# Check first 5  header of the dataset\n",
    "df.head()"
   ]
  },
  {
   "cell_type": "code",
   "execution_count": 4,
   "id": "be0d2d38",
   "metadata": {},
   "outputs": [],
   "source": [
    "#change / rename of column name\n",
    "df = df.rename(columns = {'finaldate': 'date', 'Item Code' : 'Material', 'Value (Cr,s)' : 'Consvalue' })"
   ]
  },
  {
   "cell_type": "code",
   "execution_count": 5,
   "id": "72af3bbc",
   "metadata": {},
   "outputs": [
    {
     "name": "stdout",
     "output_type": "stream",
     "text": [
      "<class 'pandas.core.frame.DataFrame'>\n",
      "RangeIndex: 122 entries, 0 to 121\n",
      "Data columns (total 8 columns):\n",
      " #   Column       Non-Null Count  Dtype  \n",
      "---  ------       --------------  -----  \n",
      " 0   Material     122 non-null    int64  \n",
      " 1   date         122 non-null    object \n",
      " 2   Description  122 non-null    object \n",
      " 3   mvt          122 non-null    int64  \n",
      " 4   Issue Qty    122 non-null    int64  \n",
      " 5   Consvalue    122 non-null    float64\n",
      " 6   Dept         122 non-null    object \n",
      " 7   Category     122 non-null    object \n",
      "dtypes: float64(1), int64(3), object(4)\n",
      "memory usage: 7.8+ KB\n"
     ]
    }
   ],
   "source": [
    "#checking data type and info of columns \n",
    "df.info()"
   ]
  },
  {
   "cell_type": "code",
   "execution_count": 6,
   "id": "f90466ec",
   "metadata": {},
   "outputs": [],
   "source": [
    "#Deliminator (,) we have to separate (if above qty and amount type is object than run bellow code)\n",
    "#df['Issue Qty'] =df['Issue Qty'].str.replace(\",\", \"\")\n",
    "#df['Consvalue'] =df['Consvalue'].str.replace(\",\", \"\")"
   ]
  },
  {
   "cell_type": "code",
   "execution_count": 7,
   "id": "7cc694a4",
   "metadata": {},
   "outputs": [],
   "source": [
    "# Converting Issue qty and Consvalue into float type data\n",
    "# df['Issue Qty'] =df['Issue Qty'].astype(float)\n",
    "# df['Consvalue'] =df['Consvalue'].astype(float)"
   ]
  },
  {
   "cell_type": "code",
   "execution_count": 8,
   "id": "dedf81c8",
   "metadata": {},
   "outputs": [],
   "source": [
    "#Deliminator Date columns (. to - )conversion\n",
    "df['date'] = df['date'].str.replace(\".\", \"-\")"
   ]
  },
  {
   "cell_type": "code",
   "execution_count": 9,
   "id": "d36a796f",
   "metadata": {},
   "outputs": [],
   "source": [
    "#Date into date time format\n",
    "df['date'] = pd.to_datetime(df['date'], format = '%d-%m-%Y')"
   ]
  },
  {
   "cell_type": "code",
   "execution_count": 10,
   "id": "0cb4215b",
   "metadata": {},
   "outputs": [],
   "source": [
    "#Function to convert date to Fiscal year / Academic year format\n",
    "def convert_to_year(date):\n",
    "    # Check if the month is greater than or equal to April (4)\n",
    "    if date.month >= 4:\n",
    "        return f\"{date.year}-{str(date.year + 1)[2:]}\"\n",
    "    else:\n",
    "        return f\"{date.year - 1}-{str(date.year)[2:]}\"\n",
    "\n",
    "# Apply the updated function to the 'date' column\n",
    "df['Fiscal_year'] = df['date'].apply(convert_to_year)\n"
   ]
  },
  {
   "cell_type": "code",
   "execution_count": 11,
   "id": "20665ae1",
   "metadata": {},
   "outputs": [
    {
     "data": {
      "text/plain": [
       "2021-22    41\n",
       "2022-23    41\n",
       "2020-21    40\n",
       "Name: Fiscal_year, dtype: int64"
      ]
     },
     "execution_count": 11,
     "metadata": {},
     "output_type": "execute_result"
    }
   ],
   "source": [
    "#Count of date in year (number of transaction)\n",
    "df['Fiscal_year'].value_counts()"
   ]
  },
  {
   "cell_type": "code",
   "execution_count": 12,
   "id": "b6aa509e",
   "metadata": {},
   "outputs": [
    {
     "data": {
      "text/html": [
       "<div>\n",
       "<style scoped>\n",
       "    .dataframe tbody tr th:only-of-type {\n",
       "        vertical-align: middle;\n",
       "    }\n",
       "\n",
       "    .dataframe tbody tr th {\n",
       "        vertical-align: top;\n",
       "    }\n",
       "\n",
       "    .dataframe thead th {\n",
       "        text-align: right;\n",
       "    }\n",
       "</style>\n",
       "<table border=\"1\" class=\"dataframe\">\n",
       "  <thead>\n",
       "    <tr style=\"text-align: right;\">\n",
       "      <th></th>\n",
       "      <th>Material</th>\n",
       "      <th>date</th>\n",
       "      <th>Description</th>\n",
       "      <th>mvt</th>\n",
       "      <th>Issue Qty</th>\n",
       "      <th>Consvalue</th>\n",
       "      <th>Dept</th>\n",
       "      <th>Category</th>\n",
       "      <th>Fiscal_year</th>\n",
       "    </tr>\n",
       "  </thead>\n",
       "  <tbody>\n",
       "    <tr>\n",
       "      <th>0</th>\n",
       "      <td>1711015901</td>\n",
       "      <td>2020-04-07</td>\n",
       "      <td>CYL BRG OIL RG LP, DWG: A192.07.32E02</td>\n",
       "      <td>261</td>\n",
       "      <td>-4</td>\n",
       "      <td>1600000.0</td>\n",
       "      <td>MMD</td>\n",
       "      <td>Essential</td>\n",
       "      <td>2020-21</td>\n",
       "    </tr>\n",
       "    <tr>\n",
       "      <th>1</th>\n",
       "      <td>2407912183</td>\n",
       "      <td>2020-04-07</td>\n",
       "      <td>FILL PACK M67, PN:PT NO # 80-43073-11</td>\n",
       "      <td>201</td>\n",
       "      <td>-23</td>\n",
       "      <td>1400000.0</td>\n",
       "      <td>C&amp;I</td>\n",
       "      <td>Essential</td>\n",
       "      <td>2020-21</td>\n",
       "    </tr>\n",
       "    <tr>\n",
       "      <th>2</th>\n",
       "      <td>3290909113</td>\n",
       "      <td>2020-04-07</td>\n",
       "      <td>OIL FILTERATION PLANT, 6KLPH, GEE. DEE VAC</td>\n",
       "      <td>221</td>\n",
       "      <td>-1</td>\n",
       "      <td>1200000.0</td>\n",
       "      <td>CHM</td>\n",
       "      <td>Essential</td>\n",
       "      <td>2020-21</td>\n",
       "    </tr>\n",
       "    <tr>\n",
       "      <th>3</th>\n",
       "      <td>7787931231</td>\n",
       "      <td>2020-04-07</td>\n",
       "      <td>DISK STACK,100DLC,2CH,6IN,. MM: 100 DLC-2CH</td>\n",
       "      <td>921</td>\n",
       "      <td>-1</td>\n",
       "      <td>1200000.0</td>\n",
       "      <td>MBO</td>\n",
       "      <td>Desirable</td>\n",
       "      <td>2020-21</td>\n",
       "    </tr>\n",
       "    <tr>\n",
       "      <th>4</th>\n",
       "      <td>7190990173</td>\n",
       "      <td>2020-04-03</td>\n",
       "      <td>PLCC CARD P1LA RF AMPLIFIER FOR ETL-41</td>\n",
       "      <td>975</td>\n",
       "      <td>-2</td>\n",
       "      <td>1000000.0</td>\n",
       "      <td>EMD</td>\n",
       "      <td>Desirable</td>\n",
       "      <td>2020-21</td>\n",
       "    </tr>\n",
       "  </tbody>\n",
       "</table>\n",
       "</div>"
      ],
      "text/plain": [
       "     Material       date                                  Description  mvt  \\\n",
       "0  1711015901 2020-04-07        CYL BRG OIL RG LP, DWG: A192.07.32E02  261   \n",
       "1  2407912183 2020-04-07        FILL PACK M67, PN:PT NO # 80-43073-11  201   \n",
       "2  3290909113 2020-04-07   OIL FILTERATION PLANT, 6KLPH, GEE. DEE VAC  221   \n",
       "3  7787931231 2020-04-07  DISK STACK,100DLC,2CH,6IN,. MM: 100 DLC-2CH  921   \n",
       "4  7190990173 2020-04-03       PLCC CARD P1LA RF AMPLIFIER FOR ETL-41  975   \n",
       "\n",
       "   Issue Qty  Consvalue Dept   Category Fiscal_year  \n",
       "0         -4  1600000.0  MMD  Essential     2020-21  \n",
       "1        -23  1400000.0  C&I  Essential     2020-21  \n",
       "2         -1  1200000.0  CHM  Essential     2020-21  \n",
       "3         -1  1200000.0  MBO  Desirable     2020-21  \n",
       "4         -2  1000000.0  EMD  Desirable     2020-21  "
      ]
     },
     "execution_count": 12,
     "metadata": {},
     "output_type": "execute_result"
    }
   ],
   "source": [
    "# display the fiscal year bracket\n",
    "df.head()"
   ]
  },
  {
   "cell_type": "code",
   "execution_count": 13,
   "id": "49f25cf6",
   "metadata": {},
   "outputs": [],
   "source": [
    "#Filter the data based on the specified movement types\n",
    "filtered_df = df[df['mvt'].isin([261,262,201,202,221,222,975,976,921,922])]"
   ]
  },
  {
   "cell_type": "code",
   "execution_count": 14,
   "id": "e8a05f48",
   "metadata": {},
   "outputs": [],
   "source": [
    "#grouped the data by material and year, and calculate the Total qty and movement count\n",
    "grouped_df = filtered_df.groupby(['Material', 'Fiscal_year']).agg(total_qty=('Issue Qty', 'sum'),\n",
    "    movement_count=('mvt', 'count')).reset_index()                   \n",
    "                                                                                                                    "
   ]
  },
  {
   "cell_type": "code",
   "execution_count": 15,
   "id": "c8e54dea",
   "metadata": {},
   "outputs": [
    {
     "data": {
      "text/html": [
       "<div>\n",
       "<style scoped>\n",
       "    .dataframe tbody tr th:only-of-type {\n",
       "        vertical-align: middle;\n",
       "    }\n",
       "\n",
       "    .dataframe tbody tr th {\n",
       "        vertical-align: top;\n",
       "    }\n",
       "\n",
       "    .dataframe thead th {\n",
       "        text-align: right;\n",
       "    }\n",
       "</style>\n",
       "<table border=\"1\" class=\"dataframe\">\n",
       "  <thead>\n",
       "    <tr style=\"text-align: right;\">\n",
       "      <th></th>\n",
       "      <th>Material</th>\n",
       "      <th>Fiscal_year</th>\n",
       "      <th>total_qty</th>\n",
       "      <th>movement_count</th>\n",
       "    </tr>\n",
       "  </thead>\n",
       "  <tbody>\n",
       "    <tr>\n",
       "      <th>0</th>\n",
       "      <td>1303100373</td>\n",
       "      <td>2020-21</td>\n",
       "      <td>-21</td>\n",
       "      <td>4</td>\n",
       "    </tr>\n",
       "    <tr>\n",
       "      <th>1</th>\n",
       "      <td>1303100373</td>\n",
       "      <td>2021-22</td>\n",
       "      <td>-21</td>\n",
       "      <td>4</td>\n",
       "    </tr>\n",
       "    <tr>\n",
       "      <th>2</th>\n",
       "      <td>1303100373</td>\n",
       "      <td>2022-23</td>\n",
       "      <td>-21</td>\n",
       "      <td>4</td>\n",
       "    </tr>\n",
       "    <tr>\n",
       "      <th>3</th>\n",
       "      <td>1711015901</td>\n",
       "      <td>2020-21</td>\n",
       "      <td>-12</td>\n",
       "      <td>3</td>\n",
       "    </tr>\n",
       "    <tr>\n",
       "      <th>4</th>\n",
       "      <td>1711015901</td>\n",
       "      <td>2021-22</td>\n",
       "      <td>-12</td>\n",
       "      <td>3</td>\n",
       "    </tr>\n",
       "  </tbody>\n",
       "</table>\n",
       "</div>"
      ],
      "text/plain": [
       "     Material Fiscal_year  total_qty  movement_count\n",
       "0  1303100373     2020-21        -21               4\n",
       "1  1303100373     2021-22        -21               4\n",
       "2  1303100373     2022-23        -21               4\n",
       "3  1711015901     2020-21        -12               3\n",
       "4  1711015901     2021-22        -12               3"
      ]
     },
     "execution_count": 15,
     "metadata": {},
     "output_type": "execute_result"
    }
   ],
   "source": [
    "grouped_df.head()"
   ]
  },
  {
   "cell_type": "code",
   "execution_count": 16,
   "id": "aeba647f",
   "metadata": {},
   "outputs": [],
   "source": [
    "#classify the material based on Total qty and movement count\n",
    "def classify_material(row):\n",
    "    if row['total_qty']==0:\n",
    "        return '0'\n",
    "    elif row['movement_count']>4:\n",
    "        return 'F'\n",
    "    elif row['movement_count']<=4:\n",
    "        return 'S'"
   ]
  },
  {
   "cell_type": "code",
   "execution_count": 17,
   "id": "117aa95c",
   "metadata": {},
   "outputs": [],
   "source": [
    "#Apply function to data\n",
    "grouped_df['Class'] = grouped_df.apply(classify_material, axis =1)"
   ]
  },
  {
   "cell_type": "code",
   "execution_count": 18,
   "id": "35cc7c0e",
   "metadata": {},
   "outputs": [],
   "source": [
    "#Filter the data based on the specified Fiscal year\n",
    "filtered_grouped_df = grouped_df[grouped_df['Fiscal_year'].isin(['2020-21','2021-22','2022-23'])]"
   ]
  },
  {
   "cell_type": "code",
   "execution_count": 19,
   "id": "f81696cb",
   "metadata": {},
   "outputs": [
    {
     "data": {
      "text/html": [
       "<div>\n",
       "<style scoped>\n",
       "    .dataframe tbody tr th:only-of-type {\n",
       "        vertical-align: middle;\n",
       "    }\n",
       "\n",
       "    .dataframe tbody tr th {\n",
       "        vertical-align: top;\n",
       "    }\n",
       "\n",
       "    .dataframe thead th {\n",
       "        text-align: right;\n",
       "    }\n",
       "</style>\n",
       "<table border=\"1\" class=\"dataframe\">\n",
       "  <thead>\n",
       "    <tr style=\"text-align: right;\">\n",
       "      <th></th>\n",
       "      <th>Material</th>\n",
       "      <th>Fiscal_year</th>\n",
       "      <th>total_qty</th>\n",
       "      <th>movement_count</th>\n",
       "      <th>Class</th>\n",
       "    </tr>\n",
       "  </thead>\n",
       "  <tbody>\n",
       "    <tr>\n",
       "      <th>0</th>\n",
       "      <td>1303100373</td>\n",
       "      <td>2020-21</td>\n",
       "      <td>-21</td>\n",
       "      <td>4</td>\n",
       "      <td>S</td>\n",
       "    </tr>\n",
       "    <tr>\n",
       "      <th>1</th>\n",
       "      <td>1303100373</td>\n",
       "      <td>2021-22</td>\n",
       "      <td>-21</td>\n",
       "      <td>4</td>\n",
       "      <td>S</td>\n",
       "    </tr>\n",
       "    <tr>\n",
       "      <th>2</th>\n",
       "      <td>1303100373</td>\n",
       "      <td>2022-23</td>\n",
       "      <td>-21</td>\n",
       "      <td>4</td>\n",
       "      <td>S</td>\n",
       "    </tr>\n",
       "    <tr>\n",
       "      <th>3</th>\n",
       "      <td>1711015901</td>\n",
       "      <td>2020-21</td>\n",
       "      <td>-12</td>\n",
       "      <td>3</td>\n",
       "      <td>S</td>\n",
       "    </tr>\n",
       "    <tr>\n",
       "      <th>4</th>\n",
       "      <td>1711015901</td>\n",
       "      <td>2021-22</td>\n",
       "      <td>-12</td>\n",
       "      <td>3</td>\n",
       "      <td>S</td>\n",
       "    </tr>\n",
       "  </tbody>\n",
       "</table>\n",
       "</div>"
      ],
      "text/plain": [
       "     Material Fiscal_year  total_qty  movement_count Class\n",
       "0  1303100373     2020-21        -21               4     S\n",
       "1  1303100373     2021-22        -21               4     S\n",
       "2  1303100373     2022-23        -21               4     S\n",
       "3  1711015901     2020-21        -12               3     S\n",
       "4  1711015901     2021-22        -12               3     S"
      ]
     },
     "execution_count": 19,
     "metadata": {},
     "output_type": "execute_result"
    }
   ],
   "source": [
    "filtered_grouped_df.head()"
   ]
  },
  {
   "cell_type": "code",
   "execution_count": 20,
   "id": "0e5a7515",
   "metadata": {},
   "outputs": [],
   "source": [
    "filtered_grouped_df.to_csv('Cons_total.csv', index = False)"
   ]
  },
  {
   "cell_type": "code",
   "execution_count": 21,
   "id": "b3a95a28",
   "metadata": {},
   "outputs": [
    {
     "data": {
      "text/plain": [
       "S    22\n",
       "F     8\n",
       "Name: Class, dtype: int64"
      ]
     },
     "execution_count": 21,
     "metadata": {},
     "output_type": "execute_result"
    }
   ],
   "source": [
    "filtered_grouped_df['Class'].value_counts()"
   ]
  },
  {
   "cell_type": "code",
   "execution_count": 22,
   "id": "c8dbd532",
   "metadata": {},
   "outputs": [],
   "source": [
    "transformed_df = filtered_grouped_df.pivot_table(index = 'Material', columns = 'Fiscal_year', values = 'Class',\n",
    "                                                aggfunc='first').reset_index()\n",
    "                                            "
   ]
  },
  {
   "cell_type": "code",
   "execution_count": 23,
   "id": "1cd09641",
   "metadata": {},
   "outputs": [],
   "source": [
    "#replacing null values with S\n",
    "transformed_df.fillna('S', inplace=True)"
   ]
  },
  {
   "cell_type": "code",
   "execution_count": 24,
   "id": "809c07ec",
   "metadata": {},
   "outputs": [
    {
     "data": {
      "text/html": [
       "<div>\n",
       "<style scoped>\n",
       "    .dataframe tbody tr th:only-of-type {\n",
       "        vertical-align: middle;\n",
       "    }\n",
       "\n",
       "    .dataframe tbody tr th {\n",
       "        vertical-align: top;\n",
       "    }\n",
       "\n",
       "    .dataframe thead th {\n",
       "        text-align: right;\n",
       "    }\n",
       "</style>\n",
       "<table border=\"1\" class=\"dataframe\">\n",
       "  <thead>\n",
       "    <tr style=\"text-align: right;\">\n",
       "      <th>Fiscal_year</th>\n",
       "      <th>Material</th>\n",
       "      <th>2020-21</th>\n",
       "      <th>2021-22</th>\n",
       "      <th>2022-23</th>\n",
       "    </tr>\n",
       "  </thead>\n",
       "  <tbody>\n",
       "    <tr>\n",
       "      <th>0</th>\n",
       "      <td>1303100373</td>\n",
       "      <td>S</td>\n",
       "      <td>S</td>\n",
       "      <td>S</td>\n",
       "    </tr>\n",
       "    <tr>\n",
       "      <th>1</th>\n",
       "      <td>1711015901</td>\n",
       "      <td>S</td>\n",
       "      <td>S</td>\n",
       "      <td>S</td>\n",
       "    </tr>\n",
       "    <tr>\n",
       "      <th>2</th>\n",
       "      <td>2407912183</td>\n",
       "      <td>S</td>\n",
       "      <td>S</td>\n",
       "      <td>S</td>\n",
       "    </tr>\n",
       "    <tr>\n",
       "      <th>3</th>\n",
       "      <td>3005114843</td>\n",
       "      <td>S</td>\n",
       "      <td>S</td>\n",
       "      <td>F</td>\n",
       "    </tr>\n",
       "    <tr>\n",
       "      <th>4</th>\n",
       "      <td>3042011033</td>\n",
       "      <td>S</td>\n",
       "      <td>S</td>\n",
       "      <td>F</td>\n",
       "    </tr>\n",
       "    <tr>\n",
       "      <th>5</th>\n",
       "      <td>3290909113</td>\n",
       "      <td>S</td>\n",
       "      <td>S</td>\n",
       "      <td>S</td>\n",
       "    </tr>\n",
       "    <tr>\n",
       "      <th>6</th>\n",
       "      <td>5872992143</td>\n",
       "      <td>S</td>\n",
       "      <td>S</td>\n",
       "      <td>S</td>\n",
       "    </tr>\n",
       "    <tr>\n",
       "      <th>7</th>\n",
       "      <td>7190990173</td>\n",
       "      <td>F</td>\n",
       "      <td>F</td>\n",
       "      <td>F</td>\n",
       "    </tr>\n",
       "    <tr>\n",
       "      <th>8</th>\n",
       "      <td>7787931231</td>\n",
       "      <td>F</td>\n",
       "      <td>F</td>\n",
       "      <td>F</td>\n",
       "    </tr>\n",
       "    <tr>\n",
       "      <th>9</th>\n",
       "      <td>9696501423</td>\n",
       "      <td>S</td>\n",
       "      <td>S</td>\n",
       "      <td>S</td>\n",
       "    </tr>\n",
       "  </tbody>\n",
       "</table>\n",
       "</div>"
      ],
      "text/plain": [
       "Fiscal_year    Material 2020-21 2021-22 2022-23\n",
       "0            1303100373       S       S       S\n",
       "1            1711015901       S       S       S\n",
       "2            2407912183       S       S       S\n",
       "3            3005114843       S       S       F\n",
       "4            3042011033       S       S       F\n",
       "5            3290909113       S       S       S\n",
       "6            5872992143       S       S       S\n",
       "7            7190990173       F       F       F\n",
       "8            7787931231       F       F       F\n",
       "9            9696501423       S       S       S"
      ]
     },
     "execution_count": 24,
     "metadata": {},
     "output_type": "execute_result"
    }
   ],
   "source": [
    "transformed_df"
   ]
  },
  {
   "cell_type": "code",
   "execution_count": 25,
   "id": "8a8fb441",
   "metadata": {},
   "outputs": [],
   "source": [
    "#using the prerviously obtained transformed_df Dataframe\n",
    "def determine_final_class(row):\n",
    "    if row['2020-21']=='F' and row['2021-22']=='F' and row['2022-23']=='F':\n",
    "        return 'F'\n",
    "    else:\n",
    "        return 'S'"
   ]
  },
  {
   "cell_type": "code",
   "execution_count": 26,
   "id": "39ac039e",
   "metadata": {},
   "outputs": [],
   "source": [
    "#Apply the function\n",
    "transformed_df['Final'] = transformed_df.apply(determine_final_class, axis = 1)"
   ]
  },
  {
   "cell_type": "code",
   "execution_count": 27,
   "id": "f0439b87",
   "metadata": {},
   "outputs": [
    {
     "data": {
      "text/html": [
       "<div>\n",
       "<style scoped>\n",
       "    .dataframe tbody tr th:only-of-type {\n",
       "        vertical-align: middle;\n",
       "    }\n",
       "\n",
       "    .dataframe tbody tr th {\n",
       "        vertical-align: top;\n",
       "    }\n",
       "\n",
       "    .dataframe thead th {\n",
       "        text-align: right;\n",
       "    }\n",
       "</style>\n",
       "<table border=\"1\" class=\"dataframe\">\n",
       "  <thead>\n",
       "    <tr style=\"text-align: right;\">\n",
       "      <th>Fiscal_year</th>\n",
       "      <th>Material</th>\n",
       "      <th>2020-21</th>\n",
       "      <th>2021-22</th>\n",
       "      <th>2022-23</th>\n",
       "      <th>Final</th>\n",
       "    </tr>\n",
       "  </thead>\n",
       "  <tbody>\n",
       "    <tr>\n",
       "      <th>0</th>\n",
       "      <td>1303100373</td>\n",
       "      <td>S</td>\n",
       "      <td>S</td>\n",
       "      <td>S</td>\n",
       "      <td>S</td>\n",
       "    </tr>\n",
       "    <tr>\n",
       "      <th>1</th>\n",
       "      <td>1711015901</td>\n",
       "      <td>S</td>\n",
       "      <td>S</td>\n",
       "      <td>S</td>\n",
       "      <td>S</td>\n",
       "    </tr>\n",
       "    <tr>\n",
       "      <th>2</th>\n",
       "      <td>2407912183</td>\n",
       "      <td>S</td>\n",
       "      <td>S</td>\n",
       "      <td>S</td>\n",
       "      <td>S</td>\n",
       "    </tr>\n",
       "    <tr>\n",
       "      <th>3</th>\n",
       "      <td>3005114843</td>\n",
       "      <td>S</td>\n",
       "      <td>S</td>\n",
       "      <td>F</td>\n",
       "      <td>S</td>\n",
       "    </tr>\n",
       "    <tr>\n",
       "      <th>4</th>\n",
       "      <td>3042011033</td>\n",
       "      <td>S</td>\n",
       "      <td>S</td>\n",
       "      <td>F</td>\n",
       "      <td>S</td>\n",
       "    </tr>\n",
       "    <tr>\n",
       "      <th>5</th>\n",
       "      <td>3290909113</td>\n",
       "      <td>S</td>\n",
       "      <td>S</td>\n",
       "      <td>S</td>\n",
       "      <td>S</td>\n",
       "    </tr>\n",
       "    <tr>\n",
       "      <th>6</th>\n",
       "      <td>5872992143</td>\n",
       "      <td>S</td>\n",
       "      <td>S</td>\n",
       "      <td>S</td>\n",
       "      <td>S</td>\n",
       "    </tr>\n",
       "    <tr>\n",
       "      <th>7</th>\n",
       "      <td>7190990173</td>\n",
       "      <td>F</td>\n",
       "      <td>F</td>\n",
       "      <td>F</td>\n",
       "      <td>F</td>\n",
       "    </tr>\n",
       "    <tr>\n",
       "      <th>8</th>\n",
       "      <td>7787931231</td>\n",
       "      <td>F</td>\n",
       "      <td>F</td>\n",
       "      <td>F</td>\n",
       "      <td>F</td>\n",
       "    </tr>\n",
       "    <tr>\n",
       "      <th>9</th>\n",
       "      <td>9696501423</td>\n",
       "      <td>S</td>\n",
       "      <td>S</td>\n",
       "      <td>S</td>\n",
       "      <td>S</td>\n",
       "    </tr>\n",
       "  </tbody>\n",
       "</table>\n",
       "</div>"
      ],
      "text/plain": [
       "Fiscal_year    Material 2020-21 2021-22 2022-23 Final\n",
       "0            1303100373       S       S       S     S\n",
       "1            1711015901       S       S       S     S\n",
       "2            2407912183       S       S       S     S\n",
       "3            3005114843       S       S       F     S\n",
       "4            3042011033       S       S       F     S\n",
       "5            3290909113       S       S       S     S\n",
       "6            5872992143       S       S       S     S\n",
       "7            7190990173       F       F       F     F\n",
       "8            7787931231       F       F       F     F\n",
       "9            9696501423       S       S       S     S"
      ]
     },
     "execution_count": 27,
     "metadata": {},
     "output_type": "execute_result"
    }
   ],
   "source": [
    "transformed_df"
   ]
  },
  {
   "cell_type": "code",
   "execution_count": 28,
   "id": "e8750ef8",
   "metadata": {},
   "outputs": [],
   "source": [
    "transformed_df.to_csv(\"NMIClass1.csv\", index = False)"
   ]
  },
  {
   "cell_type": "markdown",
   "id": "a617761e",
   "metadata": {},
   "source": [
    "<div style=\"text-align:center; background-color:black; color:cyan; font-size:25px; padding:20px;\">\n",
    "    <strong>02. Load Inventory file</strong>\n",
    "</div>"
   ]
  },
  {
   "cell_type": "code",
   "execution_count": 29,
   "id": "858ecc1d",
   "metadata": {},
   "outputs": [],
   "source": [
    "#Reading a file\n",
    "NMI = pd.read_csv('NMIClass1.csv')\n",
    "inv = pd.read_excel(\"inventory.xlsx\")"
   ]
  },
  {
   "cell_type": "code",
   "execution_count": 30,
   "id": "6b10fdfe",
   "metadata": {},
   "outputs": [
    {
     "data": {
      "text/html": [
       "<div>\n",
       "<style scoped>\n",
       "    .dataframe tbody tr th:only-of-type {\n",
       "        vertical-align: middle;\n",
       "    }\n",
       "\n",
       "    .dataframe tbody tr th {\n",
       "        vertical-align: top;\n",
       "    }\n",
       "\n",
       "    .dataframe thead th {\n",
       "        text-align: right;\n",
       "    }\n",
       "</style>\n",
       "<table border=\"1\" class=\"dataframe\">\n",
       "  <thead>\n",
       "    <tr style=\"text-align: right;\">\n",
       "      <th></th>\n",
       "      <th>Item Code</th>\n",
       "      <th>Description</th>\n",
       "      <th>UOM</th>\n",
       "      <th>InvQty</th>\n",
       "      <th>Value</th>\n",
       "      <th>Dept</th>\n",
       "      <th>Category</th>\n",
       "    </tr>\n",
       "  </thead>\n",
       "  <tbody>\n",
       "    <tr>\n",
       "      <th>0</th>\n",
       "      <td>1711015911</td>\n",
       "      <td>CYL BRG OIL RG LP, DWG: A192.07.32E02</td>\n",
       "      <td>EA</td>\n",
       "      <td>5</td>\n",
       "      <td>50000.0</td>\n",
       "      <td>MMD</td>\n",
       "      <td>Essential</td>\n",
       "    </tr>\n",
       "    <tr>\n",
       "      <th>1</th>\n",
       "      <td>2407912193</td>\n",
       "      <td>FILL PACK M67, PN:PT NO # 80-43073-11</td>\n",
       "      <td>EA</td>\n",
       "      <td>1</td>\n",
       "      <td>100000.0</td>\n",
       "      <td>C&amp;I</td>\n",
       "      <td>Essential</td>\n",
       "    </tr>\n",
       "    <tr>\n",
       "      <th>2</th>\n",
       "      <td>3290909123</td>\n",
       "      <td>OIL FILTERATION PLANT, 6KLPH, GEE. DEE VAC</td>\n",
       "      <td>EA</td>\n",
       "      <td>2</td>\n",
       "      <td>252520.0</td>\n",
       "      <td>CHM</td>\n",
       "      <td>Essential</td>\n",
       "    </tr>\n",
       "    <tr>\n",
       "      <th>3</th>\n",
       "      <td>7787931241</td>\n",
       "      <td>DISK STACK,100DLC,2CH,6IN,. MM: 100 DLC-2CH</td>\n",
       "      <td>EA</td>\n",
       "      <td>5</td>\n",
       "      <td>2555500.0</td>\n",
       "      <td>MBO</td>\n",
       "      <td>Desirable</td>\n",
       "    </tr>\n",
       "    <tr>\n",
       "      <th>4</th>\n",
       "      <td>7190990183</td>\n",
       "      <td>PLCC CARD P1LA RF AMPLIFIER FOR ETL-41</td>\n",
       "      <td>EA</td>\n",
       "      <td>9</td>\n",
       "      <td>1000000.0</td>\n",
       "      <td>EMD</td>\n",
       "      <td>Desirable</td>\n",
       "    </tr>\n",
       "  </tbody>\n",
       "</table>\n",
       "</div>"
      ],
      "text/plain": [
       "    Item Code                                  Description UOM  InvQty  \\\n",
       "0  1711015911        CYL BRG OIL RG LP, DWG: A192.07.32E02  EA       5   \n",
       "1  2407912193        FILL PACK M67, PN:PT NO # 80-43073-11  EA       1   \n",
       "2  3290909123   OIL FILTERATION PLANT, 6KLPH, GEE. DEE VAC  EA       2   \n",
       "3  7787931241  DISK STACK,100DLC,2CH,6IN,. MM: 100 DLC-2CH  EA       5   \n",
       "4  7190990183       PLCC CARD P1LA RF AMPLIFIER FOR ETL-41  EA       9   \n",
       "\n",
       "       Value Dept   Category  \n",
       "0    50000.0  MMD  Essential  \n",
       "1   100000.0  C&I  Essential  \n",
       "2   252520.0  CHM  Essential  \n",
       "3  2555500.0  MBO  Desirable  \n",
       "4  1000000.0  EMD  Desirable  "
      ]
     },
     "execution_count": 30,
     "metadata": {},
     "output_type": "execute_result"
    }
   ],
   "source": [
    "inv.head()"
   ]
  },
  {
   "cell_type": "code",
   "execution_count": 31,
   "id": "6f2cc678",
   "metadata": {},
   "outputs": [],
   "source": [
    "inv = inv.rename(columns = {'Item Code': 'Material'})"
   ]
  },
  {
   "cell_type": "code",
   "execution_count": 32,
   "id": "4ae0e33b",
   "metadata": {},
   "outputs": [],
   "source": [
    "#Merge class in inventory file \n",
    "result = inv.merge(NMI, on = 'Material', how = 'left', indicator = True)"
   ]
  },
  {
   "cell_type": "code",
   "execution_count": 33,
   "id": "e17c1119",
   "metadata": {},
   "outputs": [
    {
     "data": {
      "text/html": [
       "<div>\n",
       "<style scoped>\n",
       "    .dataframe tbody tr th:only-of-type {\n",
       "        vertical-align: middle;\n",
       "    }\n",
       "\n",
       "    .dataframe tbody tr th {\n",
       "        vertical-align: top;\n",
       "    }\n",
       "\n",
       "    .dataframe thead th {\n",
       "        text-align: right;\n",
       "    }\n",
       "</style>\n",
       "<table border=\"1\" class=\"dataframe\">\n",
       "  <thead>\n",
       "    <tr style=\"text-align: right;\">\n",
       "      <th></th>\n",
       "      <th>Material</th>\n",
       "      <th>Description</th>\n",
       "      <th>UOM</th>\n",
       "      <th>InvQty</th>\n",
       "      <th>Value</th>\n",
       "      <th>Dept</th>\n",
       "      <th>Category</th>\n",
       "      <th>2020-21</th>\n",
       "      <th>2021-22</th>\n",
       "      <th>2022-23</th>\n",
       "      <th>Final</th>\n",
       "      <th>_merge</th>\n",
       "    </tr>\n",
       "  </thead>\n",
       "  <tbody>\n",
       "    <tr>\n",
       "      <th>0</th>\n",
       "      <td>1711015911</td>\n",
       "      <td>CYL BRG OIL RG LP, DWG: A192.07.32E02</td>\n",
       "      <td>EA</td>\n",
       "      <td>5</td>\n",
       "      <td>50000.0</td>\n",
       "      <td>MMD</td>\n",
       "      <td>Essential</td>\n",
       "      <td>NaN</td>\n",
       "      <td>NaN</td>\n",
       "      <td>NaN</td>\n",
       "      <td>NaN</td>\n",
       "      <td>left_only</td>\n",
       "    </tr>\n",
       "    <tr>\n",
       "      <th>1</th>\n",
       "      <td>2407912193</td>\n",
       "      <td>FILL PACK M67, PN:PT NO # 80-43073-11</td>\n",
       "      <td>EA</td>\n",
       "      <td>1</td>\n",
       "      <td>100000.0</td>\n",
       "      <td>C&amp;I</td>\n",
       "      <td>Essential</td>\n",
       "      <td>NaN</td>\n",
       "      <td>NaN</td>\n",
       "      <td>NaN</td>\n",
       "      <td>NaN</td>\n",
       "      <td>left_only</td>\n",
       "    </tr>\n",
       "    <tr>\n",
       "      <th>2</th>\n",
       "      <td>3290909123</td>\n",
       "      <td>OIL FILTERATION PLANT, 6KLPH, GEE. DEE VAC</td>\n",
       "      <td>EA</td>\n",
       "      <td>2</td>\n",
       "      <td>252520.0</td>\n",
       "      <td>CHM</td>\n",
       "      <td>Essential</td>\n",
       "      <td>NaN</td>\n",
       "      <td>NaN</td>\n",
       "      <td>NaN</td>\n",
       "      <td>NaN</td>\n",
       "      <td>left_only</td>\n",
       "    </tr>\n",
       "    <tr>\n",
       "      <th>3</th>\n",
       "      <td>7787931241</td>\n",
       "      <td>DISK STACK,100DLC,2CH,6IN,. MM: 100 DLC-2CH</td>\n",
       "      <td>EA</td>\n",
       "      <td>5</td>\n",
       "      <td>2555500.0</td>\n",
       "      <td>MBO</td>\n",
       "      <td>Desirable</td>\n",
       "      <td>NaN</td>\n",
       "      <td>NaN</td>\n",
       "      <td>NaN</td>\n",
       "      <td>NaN</td>\n",
       "      <td>left_only</td>\n",
       "    </tr>\n",
       "    <tr>\n",
       "      <th>4</th>\n",
       "      <td>7190990183</td>\n",
       "      <td>PLCC CARD P1LA RF AMPLIFIER FOR ETL-41</td>\n",
       "      <td>EA</td>\n",
       "      <td>9</td>\n",
       "      <td>1000000.0</td>\n",
       "      <td>EMD</td>\n",
       "      <td>Desirable</td>\n",
       "      <td>NaN</td>\n",
       "      <td>NaN</td>\n",
       "      <td>NaN</td>\n",
       "      <td>NaN</td>\n",
       "      <td>left_only</td>\n",
       "    </tr>\n",
       "    <tr>\n",
       "      <th>...</th>\n",
       "      <td>...</td>\n",
       "      <td>...</td>\n",
       "      <td>...</td>\n",
       "      <td>...</td>\n",
       "      <td>...</td>\n",
       "      <td>...</td>\n",
       "      <td>...</td>\n",
       "      <td>...</td>\n",
       "      <td>...</td>\n",
       "      <td>...</td>\n",
       "      <td>...</td>\n",
       "      <td>...</td>\n",
       "    </tr>\n",
       "    <tr>\n",
       "      <th>160</th>\n",
       "      <td>3290909122</td>\n",
       "      <td>OIL FILTERATION PLANT, 6KLPH, GEE. DEE VAC</td>\n",
       "      <td>EA</td>\n",
       "      <td>9</td>\n",
       "      <td>500000.0</td>\n",
       "      <td>MMD</td>\n",
       "      <td>Essential</td>\n",
       "      <td>NaN</td>\n",
       "      <td>NaN</td>\n",
       "      <td>NaN</td>\n",
       "      <td>NaN</td>\n",
       "      <td>left_only</td>\n",
       "    </tr>\n",
       "    <tr>\n",
       "      <th>161</th>\n",
       "      <td>3290909123</td>\n",
       "      <td>OIL FILTERATION PLANT, 6KLPH, GEE. DEE VAC</td>\n",
       "      <td>EA</td>\n",
       "      <td>10</td>\n",
       "      <td>1700000.0</td>\n",
       "      <td>MMD</td>\n",
       "      <td>Essential</td>\n",
       "      <td>NaN</td>\n",
       "      <td>NaN</td>\n",
       "      <td>NaN</td>\n",
       "      <td>NaN</td>\n",
       "      <td>left_only</td>\n",
       "    </tr>\n",
       "    <tr>\n",
       "      <th>162</th>\n",
       "      <td>3290909124</td>\n",
       "      <td>OIL FILTERATION PLANT, 6KLPH, GEE. DEE VAC</td>\n",
       "      <td>EA</td>\n",
       "      <td>6</td>\n",
       "      <td>1800000.0</td>\n",
       "      <td>MMD</td>\n",
       "      <td>Essential</td>\n",
       "      <td>NaN</td>\n",
       "      <td>NaN</td>\n",
       "      <td>NaN</td>\n",
       "      <td>NaN</td>\n",
       "      <td>left_only</td>\n",
       "    </tr>\n",
       "    <tr>\n",
       "      <th>163</th>\n",
       "      <td>3290909125</td>\n",
       "      <td>OIL FILTERATION PLANT, 6KLPH, GEE. DEE VAC</td>\n",
       "      <td>EA</td>\n",
       "      <td>9</td>\n",
       "      <td>1900000.0</td>\n",
       "      <td>MMD</td>\n",
       "      <td>Essential</td>\n",
       "      <td>NaN</td>\n",
       "      <td>NaN</td>\n",
       "      <td>NaN</td>\n",
       "      <td>NaN</td>\n",
       "      <td>left_only</td>\n",
       "    </tr>\n",
       "    <tr>\n",
       "      <th>164</th>\n",
       "      <td>3290909126</td>\n",
       "      <td>OIL FILTERATION PLANT, 6KLPH, GEE. DEE VAC</td>\n",
       "      <td>EA</td>\n",
       "      <td>10</td>\n",
       "      <td>1600000.0</td>\n",
       "      <td>MMD</td>\n",
       "      <td>Essential</td>\n",
       "      <td>NaN</td>\n",
       "      <td>NaN</td>\n",
       "      <td>NaN</td>\n",
       "      <td>NaN</td>\n",
       "      <td>left_only</td>\n",
       "    </tr>\n",
       "  </tbody>\n",
       "</table>\n",
       "<p>165 rows × 12 columns</p>\n",
       "</div>"
      ],
      "text/plain": [
       "       Material                                  Description UOM  InvQty  \\\n",
       "0    1711015911        CYL BRG OIL RG LP, DWG: A192.07.32E02  EA       5   \n",
       "1    2407912193        FILL PACK M67, PN:PT NO # 80-43073-11  EA       1   \n",
       "2    3290909123   OIL FILTERATION PLANT, 6KLPH, GEE. DEE VAC  EA       2   \n",
       "3    7787931241  DISK STACK,100DLC,2CH,6IN,. MM: 100 DLC-2CH  EA       5   \n",
       "4    7190990183       PLCC CARD P1LA RF AMPLIFIER FOR ETL-41  EA       9   \n",
       "..          ...                                          ...  ..     ...   \n",
       "160  3290909122   OIL FILTERATION PLANT, 6KLPH, GEE. DEE VAC  EA       9   \n",
       "161  3290909123   OIL FILTERATION PLANT, 6KLPH, GEE. DEE VAC  EA      10   \n",
       "162  3290909124   OIL FILTERATION PLANT, 6KLPH, GEE. DEE VAC  EA       6   \n",
       "163  3290909125   OIL FILTERATION PLANT, 6KLPH, GEE. DEE VAC  EA       9   \n",
       "164  3290909126   OIL FILTERATION PLANT, 6KLPH, GEE. DEE VAC  EA      10   \n",
       "\n",
       "         Value Dept   Category 2020-21 2021-22 2022-23 Final     _merge  \n",
       "0      50000.0  MMD  Essential     NaN     NaN     NaN   NaN  left_only  \n",
       "1     100000.0  C&I  Essential     NaN     NaN     NaN   NaN  left_only  \n",
       "2     252520.0  CHM  Essential     NaN     NaN     NaN   NaN  left_only  \n",
       "3    2555500.0  MBO  Desirable     NaN     NaN     NaN   NaN  left_only  \n",
       "4    1000000.0  EMD  Desirable     NaN     NaN     NaN   NaN  left_only  \n",
       "..         ...  ...        ...     ...     ...     ...   ...        ...  \n",
       "160   500000.0  MMD  Essential     NaN     NaN     NaN   NaN  left_only  \n",
       "161  1700000.0  MMD  Essential     NaN     NaN     NaN   NaN  left_only  \n",
       "162  1800000.0  MMD  Essential     NaN     NaN     NaN   NaN  left_only  \n",
       "163  1900000.0  MMD  Essential     NaN     NaN     NaN   NaN  left_only  \n",
       "164  1600000.0  MMD  Essential     NaN     NaN     NaN   NaN  left_only  \n",
       "\n",
       "[165 rows x 12 columns]"
      ]
     },
     "execution_count": 33,
     "metadata": {},
     "output_type": "execute_result"
    }
   ],
   "source": [
    "result"
   ]
  },
  {
   "cell_type": "code",
   "execution_count": 34,
   "id": "2e573e15",
   "metadata": {},
   "outputs": [],
   "source": [
    "#Fill up data with N with Null values or Nan\n",
    "result.fillna('N', inplace=True)"
   ]
  },
  {
   "cell_type": "code",
   "execution_count": 35,
   "id": "356aa4ac",
   "metadata": {},
   "outputs": [],
   "source": [
    "result.to_csv(\"NMIclass2.csv\" , index = False)"
   ]
  },
  {
   "cell_type": "code",
   "execution_count": 36,
   "id": "12b3c2a6",
   "metadata": {},
   "outputs": [
    {
     "data": {
      "text/plain": [
       "S    84\n",
       "N    43\n",
       "F    38\n",
       "Name: Final, dtype: int64"
      ]
     },
     "execution_count": 36,
     "metadata": {},
     "output_type": "execute_result"
    }
   ],
   "source": [
    "result['Final'].value_counts()"
   ]
  },
  {
   "cell_type": "markdown",
   "id": "054f5b41",
   "metadata": {},
   "source": [
    "<div style=\"text-align:center; background-color:black; color:pink; font-size:25px; padding:20px;\">\n",
    "    <strong>03. Load Receipt file</strong>\n",
    "</div>"
   ]
  },
  {
   "cell_type": "code",
   "execution_count": 37,
   "id": "41031382",
   "metadata": {},
   "outputs": [],
   "source": [
    "# reading a receipt file\n",
    "df_receipt = pd.read_excel(\"Reciept.xlsx\")"
   ]
  },
  {
   "cell_type": "code",
   "execution_count": 38,
   "id": "2d3672d9",
   "metadata": {},
   "outputs": [
    {
     "data": {
      "text/html": [
       "<div>\n",
       "<style scoped>\n",
       "    .dataframe tbody tr th:only-of-type {\n",
       "        vertical-align: middle;\n",
       "    }\n",
       "\n",
       "    .dataframe tbody tr th {\n",
       "        vertical-align: top;\n",
       "    }\n",
       "\n",
       "    .dataframe thead th {\n",
       "        text-align: right;\n",
       "    }\n",
       "</style>\n",
       "<table border=\"1\" class=\"dataframe\">\n",
       "  <thead>\n",
       "    <tr style=\"text-align: right;\">\n",
       "      <th></th>\n",
       "      <th>Material</th>\n",
       "      <th>recdate</th>\n",
       "      <th>Description</th>\n",
       "      <th>UOM</th>\n",
       "      <th>mvt</th>\n",
       "      <th>RecQty</th>\n",
       "      <th>Recvalue</th>\n",
       "    </tr>\n",
       "  </thead>\n",
       "  <tbody>\n",
       "    <tr>\n",
       "      <th>0</th>\n",
       "      <td>3290909123</td>\n",
       "      <td>2022-10-01</td>\n",
       "      <td>OIL FILTERATION PLANT, 6KLPH, GEE. DEE VAC</td>\n",
       "      <td>EA</td>\n",
       "      <td>101</td>\n",
       "      <td>2</td>\n",
       "      <td>252520</td>\n",
       "    </tr>\n",
       "    <tr>\n",
       "      <th>1</th>\n",
       "      <td>7787931241</td>\n",
       "      <td>2022-09-15</td>\n",
       "      <td>DISK STACK,100DLC,2CH,6IN,. MM: 100 DLC-2CH</td>\n",
       "      <td>EA</td>\n",
       "      <td>101</td>\n",
       "      <td>5</td>\n",
       "      <td>2555500</td>\n",
       "    </tr>\n",
       "    <tr>\n",
       "      <th>2</th>\n",
       "      <td>7190990183</td>\n",
       "      <td>2023-02-15</td>\n",
       "      <td>PLCC CARD P1LA RF AMPLIFIER FOR ETL-41</td>\n",
       "      <td>EA</td>\n",
       "      <td>101</td>\n",
       "      <td>9</td>\n",
       "      <td>1000000</td>\n",
       "    </tr>\n",
       "    <tr>\n",
       "      <th>3</th>\n",
       "      <td>7190990183</td>\n",
       "      <td>2023-01-01</td>\n",
       "      <td>PLCC CARD P1LA RF AMPLIFIER FOR ETL-41</td>\n",
       "      <td>EA</td>\n",
       "      <td>101</td>\n",
       "      <td>5</td>\n",
       "      <td>1000000</td>\n",
       "    </tr>\n",
       "    <tr>\n",
       "      <th>4</th>\n",
       "      <td>7190990183</td>\n",
       "      <td>2023-04-04</td>\n",
       "      <td>PLCC CARD P1LA RF AMPLIFIER FOR ETL-41</td>\n",
       "      <td>EA</td>\n",
       "      <td>101</td>\n",
       "      <td>4</td>\n",
       "      <td>1000000</td>\n",
       "    </tr>\n",
       "    <tr>\n",
       "      <th>5</th>\n",
       "      <td>7190990183</td>\n",
       "      <td>2021-04-04</td>\n",
       "      <td>PLCC CARD P1LA RF AMPLIFIER FOR ETL-41</td>\n",
       "      <td>EA</td>\n",
       "      <td>101</td>\n",
       "      <td>5</td>\n",
       "      <td>1000000</td>\n",
       "    </tr>\n",
       "    <tr>\n",
       "      <th>6</th>\n",
       "      <td>5872992153</td>\n",
       "      <td>2021-04-04</td>\n",
       "      <td>BELT DRIVE REDUCER WITH MOTOR,F/HD BSC36</td>\n",
       "      <td>Set</td>\n",
       "      <td>101</td>\n",
       "      <td>6</td>\n",
       "      <td>1000000</td>\n",
       "    </tr>\n",
       "    <tr>\n",
       "      <th>7</th>\n",
       "      <td>5872992153</td>\n",
       "      <td>2021-04-04</td>\n",
       "      <td>BELT DRIVE REDUCER WITH MOTOR,F/HD BSC36</td>\n",
       "      <td>Set</td>\n",
       "      <td>102</td>\n",
       "      <td>-6</td>\n",
       "      <td>-1000000</td>\n",
       "    </tr>\n",
       "    <tr>\n",
       "      <th>8</th>\n",
       "      <td>9696501433</td>\n",
       "      <td>2021-04-04</td>\n",
       "      <td>IR ILLUMINATORS F/CCTV, WAVELENGTH:850NM</td>\n",
       "      <td>Set</td>\n",
       "      <td>101</td>\n",
       "      <td>8</td>\n",
       "      <td>900000</td>\n",
       "    </tr>\n",
       "    <tr>\n",
       "      <th>9</th>\n",
       "      <td>1303100383</td>\n",
       "      <td>2021-04-04</td>\n",
       "      <td>PUMP,SCREW,CAP:13.68M3/HR,4.8KW, 1400RPM</td>\n",
       "      <td>Set</td>\n",
       "      <td>101</td>\n",
       "      <td>9</td>\n",
       "      <td>900000</td>\n",
       "    </tr>\n",
       "  </tbody>\n",
       "</table>\n",
       "</div>"
      ],
      "text/plain": [
       "     Material    recdate                                  Description  UOM  \\\n",
       "0  3290909123 2022-10-01   OIL FILTERATION PLANT, 6KLPH, GEE. DEE VAC   EA   \n",
       "1  7787931241 2022-09-15  DISK STACK,100DLC,2CH,6IN,. MM: 100 DLC-2CH   EA   \n",
       "2  7190990183 2023-02-15       PLCC CARD P1LA RF AMPLIFIER FOR ETL-41   EA   \n",
       "3  7190990183 2023-01-01       PLCC CARD P1LA RF AMPLIFIER FOR ETL-41   EA   \n",
       "4  7190990183 2023-04-04       PLCC CARD P1LA RF AMPLIFIER FOR ETL-41   EA   \n",
       "5  7190990183 2021-04-04       PLCC CARD P1LA RF AMPLIFIER FOR ETL-41   EA   \n",
       "6  5872992153 2021-04-04     BELT DRIVE REDUCER WITH MOTOR,F/HD BSC36  Set   \n",
       "7  5872992153 2021-04-04     BELT DRIVE REDUCER WITH MOTOR,F/HD BSC36  Set   \n",
       "8  9696501433 2021-04-04     IR ILLUMINATORS F/CCTV, WAVELENGTH:850NM  Set   \n",
       "9  1303100383 2021-04-04     PUMP,SCREW,CAP:13.68M3/HR,4.8KW, 1400RPM  Set   \n",
       "\n",
       "   mvt  RecQty  Recvalue  \n",
       "0  101       2    252520  \n",
       "1  101       5   2555500  \n",
       "2  101       9   1000000  \n",
       "3  101       5   1000000  \n",
       "4  101       4   1000000  \n",
       "5  101       5   1000000  \n",
       "6  101       6   1000000  \n",
       "7  102      -6  -1000000  \n",
       "8  101       8    900000  \n",
       "9  101       9    900000  "
      ]
     },
     "execution_count": 38,
     "metadata": {},
     "output_type": "execute_result"
    }
   ],
   "source": [
    "df_receipt.head(10)"
   ]
  },
  {
   "cell_type": "code",
   "execution_count": 39,
   "id": "c5007458",
   "metadata": {},
   "outputs": [],
   "source": [
    "# converting date into date_time format\n",
    "df_receipt['recdate'] = pd.to_datetime(df_receipt['recdate'])"
   ]
  },
  {
   "cell_type": "code",
   "execution_count": 40,
   "id": "6ca88695",
   "metadata": {},
   "outputs": [],
   "source": [
    "#Filter and sum of 101-102\n",
    "df_receipt = df_receipt[df_receipt['mvt'].isin([101,102])].groupby('Material')['RecQty'].sum().reset_index()"
   ]
  },
  {
   "cell_type": "code",
   "execution_count": 41,
   "id": "6595a56a",
   "metadata": {},
   "outputs": [],
   "source": [
    "#merge the two datasets based on the material columns\n",
    "df_merged = pd.merge(result,df_receipt, on = 'Material', how = 'left')"
   ]
  },
  {
   "cell_type": "code",
   "execution_count": 42,
   "id": "2ba3bcdc",
   "metadata": {},
   "outputs": [
    {
     "data": {
      "text/html": [
       "<div>\n",
       "<style scoped>\n",
       "    .dataframe tbody tr th:only-of-type {\n",
       "        vertical-align: middle;\n",
       "    }\n",
       "\n",
       "    .dataframe tbody tr th {\n",
       "        vertical-align: top;\n",
       "    }\n",
       "\n",
       "    .dataframe thead th {\n",
       "        text-align: right;\n",
       "    }\n",
       "</style>\n",
       "<table border=\"1\" class=\"dataframe\">\n",
       "  <thead>\n",
       "    <tr style=\"text-align: right;\">\n",
       "      <th></th>\n",
       "      <th>Material</th>\n",
       "      <th>Description</th>\n",
       "      <th>UOM</th>\n",
       "      <th>InvQty</th>\n",
       "      <th>Value</th>\n",
       "      <th>Dept</th>\n",
       "      <th>Category</th>\n",
       "      <th>2020-21</th>\n",
       "      <th>2021-22</th>\n",
       "      <th>2022-23</th>\n",
       "      <th>Final</th>\n",
       "      <th>_merge</th>\n",
       "      <th>RecQty</th>\n",
       "    </tr>\n",
       "  </thead>\n",
       "  <tbody>\n",
       "    <tr>\n",
       "      <th>0</th>\n",
       "      <td>1711015911</td>\n",
       "      <td>CYL BRG OIL RG LP, DWG: A192.07.32E02</td>\n",
       "      <td>EA</td>\n",
       "      <td>5</td>\n",
       "      <td>50000.0</td>\n",
       "      <td>MMD</td>\n",
       "      <td>Essential</td>\n",
       "      <td>N</td>\n",
       "      <td>N</td>\n",
       "      <td>N</td>\n",
       "      <td>N</td>\n",
       "      <td>left_only</td>\n",
       "      <td>5.0</td>\n",
       "    </tr>\n",
       "    <tr>\n",
       "      <th>1</th>\n",
       "      <td>2407912193</td>\n",
       "      <td>FILL PACK M67, PN:PT NO # 80-43073-11</td>\n",
       "      <td>EA</td>\n",
       "      <td>1</td>\n",
       "      <td>100000.0</td>\n",
       "      <td>C&amp;I</td>\n",
       "      <td>Essential</td>\n",
       "      <td>N</td>\n",
       "      <td>N</td>\n",
       "      <td>N</td>\n",
       "      <td>N</td>\n",
       "      <td>left_only</td>\n",
       "      <td>6.0</td>\n",
       "    </tr>\n",
       "    <tr>\n",
       "      <th>2</th>\n",
       "      <td>3290909123</td>\n",
       "      <td>OIL FILTERATION PLANT, 6KLPH, GEE. DEE VAC</td>\n",
       "      <td>EA</td>\n",
       "      <td>2</td>\n",
       "      <td>252520.0</td>\n",
       "      <td>CHM</td>\n",
       "      <td>Essential</td>\n",
       "      <td>N</td>\n",
       "      <td>N</td>\n",
       "      <td>N</td>\n",
       "      <td>N</td>\n",
       "      <td>left_only</td>\n",
       "      <td>10.0</td>\n",
       "    </tr>\n",
       "    <tr>\n",
       "      <th>3</th>\n",
       "      <td>7787931241</td>\n",
       "      <td>DISK STACK,100DLC,2CH,6IN,. MM: 100 DLC-2CH</td>\n",
       "      <td>EA</td>\n",
       "      <td>5</td>\n",
       "      <td>2555500.0</td>\n",
       "      <td>MBO</td>\n",
       "      <td>Desirable</td>\n",
       "      <td>N</td>\n",
       "      <td>N</td>\n",
       "      <td>N</td>\n",
       "      <td>N</td>\n",
       "      <td>left_only</td>\n",
       "      <td>9.0</td>\n",
       "    </tr>\n",
       "    <tr>\n",
       "      <th>4</th>\n",
       "      <td>7190990183</td>\n",
       "      <td>PLCC CARD P1LA RF AMPLIFIER FOR ETL-41</td>\n",
       "      <td>EA</td>\n",
       "      <td>9</td>\n",
       "      <td>1000000.0</td>\n",
       "      <td>EMD</td>\n",
       "      <td>Desirable</td>\n",
       "      <td>N</td>\n",
       "      <td>N</td>\n",
       "      <td>N</td>\n",
       "      <td>N</td>\n",
       "      <td>left_only</td>\n",
       "      <td>32.0</td>\n",
       "    </tr>\n",
       "    <tr>\n",
       "      <th>...</th>\n",
       "      <td>...</td>\n",
       "      <td>...</td>\n",
       "      <td>...</td>\n",
       "      <td>...</td>\n",
       "      <td>...</td>\n",
       "      <td>...</td>\n",
       "      <td>...</td>\n",
       "      <td>...</td>\n",
       "      <td>...</td>\n",
       "      <td>...</td>\n",
       "      <td>...</td>\n",
       "      <td>...</td>\n",
       "      <td>...</td>\n",
       "    </tr>\n",
       "    <tr>\n",
       "      <th>160</th>\n",
       "      <td>3290909122</td>\n",
       "      <td>OIL FILTERATION PLANT, 6KLPH, GEE. DEE VAC</td>\n",
       "      <td>EA</td>\n",
       "      <td>9</td>\n",
       "      <td>500000.0</td>\n",
       "      <td>MMD</td>\n",
       "      <td>Essential</td>\n",
       "      <td>N</td>\n",
       "      <td>N</td>\n",
       "      <td>N</td>\n",
       "      <td>N</td>\n",
       "      <td>left_only</td>\n",
       "      <td>NaN</td>\n",
       "    </tr>\n",
       "    <tr>\n",
       "      <th>161</th>\n",
       "      <td>3290909123</td>\n",
       "      <td>OIL FILTERATION PLANT, 6KLPH, GEE. DEE VAC</td>\n",
       "      <td>EA</td>\n",
       "      <td>10</td>\n",
       "      <td>1700000.0</td>\n",
       "      <td>MMD</td>\n",
       "      <td>Essential</td>\n",
       "      <td>N</td>\n",
       "      <td>N</td>\n",
       "      <td>N</td>\n",
       "      <td>N</td>\n",
       "      <td>left_only</td>\n",
       "      <td>10.0</td>\n",
       "    </tr>\n",
       "    <tr>\n",
       "      <th>162</th>\n",
       "      <td>3290909124</td>\n",
       "      <td>OIL FILTERATION PLANT, 6KLPH, GEE. DEE VAC</td>\n",
       "      <td>EA</td>\n",
       "      <td>6</td>\n",
       "      <td>1800000.0</td>\n",
       "      <td>MMD</td>\n",
       "      <td>Essential</td>\n",
       "      <td>N</td>\n",
       "      <td>N</td>\n",
       "      <td>N</td>\n",
       "      <td>N</td>\n",
       "      <td>left_only</td>\n",
       "      <td>NaN</td>\n",
       "    </tr>\n",
       "    <tr>\n",
       "      <th>163</th>\n",
       "      <td>3290909125</td>\n",
       "      <td>OIL FILTERATION PLANT, 6KLPH, GEE. DEE VAC</td>\n",
       "      <td>EA</td>\n",
       "      <td>9</td>\n",
       "      <td>1900000.0</td>\n",
       "      <td>MMD</td>\n",
       "      <td>Essential</td>\n",
       "      <td>N</td>\n",
       "      <td>N</td>\n",
       "      <td>N</td>\n",
       "      <td>N</td>\n",
       "      <td>left_only</td>\n",
       "      <td>NaN</td>\n",
       "    </tr>\n",
       "    <tr>\n",
       "      <th>164</th>\n",
       "      <td>3290909126</td>\n",
       "      <td>OIL FILTERATION PLANT, 6KLPH, GEE. DEE VAC</td>\n",
       "      <td>EA</td>\n",
       "      <td>10</td>\n",
       "      <td>1600000.0</td>\n",
       "      <td>MMD</td>\n",
       "      <td>Essential</td>\n",
       "      <td>N</td>\n",
       "      <td>N</td>\n",
       "      <td>N</td>\n",
       "      <td>N</td>\n",
       "      <td>left_only</td>\n",
       "      <td>NaN</td>\n",
       "    </tr>\n",
       "  </tbody>\n",
       "</table>\n",
       "<p>165 rows × 13 columns</p>\n",
       "</div>"
      ],
      "text/plain": [
       "       Material                                  Description UOM  InvQty  \\\n",
       "0    1711015911        CYL BRG OIL RG LP, DWG: A192.07.32E02  EA       5   \n",
       "1    2407912193        FILL PACK M67, PN:PT NO # 80-43073-11  EA       1   \n",
       "2    3290909123   OIL FILTERATION PLANT, 6KLPH, GEE. DEE VAC  EA       2   \n",
       "3    7787931241  DISK STACK,100DLC,2CH,6IN,. MM: 100 DLC-2CH  EA       5   \n",
       "4    7190990183       PLCC CARD P1LA RF AMPLIFIER FOR ETL-41  EA       9   \n",
       "..          ...                                          ...  ..     ...   \n",
       "160  3290909122   OIL FILTERATION PLANT, 6KLPH, GEE. DEE VAC  EA       9   \n",
       "161  3290909123   OIL FILTERATION PLANT, 6KLPH, GEE. DEE VAC  EA      10   \n",
       "162  3290909124   OIL FILTERATION PLANT, 6KLPH, GEE. DEE VAC  EA       6   \n",
       "163  3290909125   OIL FILTERATION PLANT, 6KLPH, GEE. DEE VAC  EA       9   \n",
       "164  3290909126   OIL FILTERATION PLANT, 6KLPH, GEE. DEE VAC  EA      10   \n",
       "\n",
       "         Value Dept   Category 2020-21 2021-22 2022-23 Final     _merge  \\\n",
       "0      50000.0  MMD  Essential       N       N       N     N  left_only   \n",
       "1     100000.0  C&I  Essential       N       N       N     N  left_only   \n",
       "2     252520.0  CHM  Essential       N       N       N     N  left_only   \n",
       "3    2555500.0  MBO  Desirable       N       N       N     N  left_only   \n",
       "4    1000000.0  EMD  Desirable       N       N       N     N  left_only   \n",
       "..         ...  ...        ...     ...     ...     ...   ...        ...   \n",
       "160   500000.0  MMD  Essential       N       N       N     N  left_only   \n",
       "161  1700000.0  MMD  Essential       N       N       N     N  left_only   \n",
       "162  1800000.0  MMD  Essential       N       N       N     N  left_only   \n",
       "163  1900000.0  MMD  Essential       N       N       N     N  left_only   \n",
       "164  1600000.0  MMD  Essential       N       N       N     N  left_only   \n",
       "\n",
       "     RecQty  \n",
       "0       5.0  \n",
       "1       6.0  \n",
       "2      10.0  \n",
       "3       9.0  \n",
       "4      32.0  \n",
       "..      ...  \n",
       "160     NaN  \n",
       "161    10.0  \n",
       "162     NaN  \n",
       "163     NaN  \n",
       "164     NaN  \n",
       "\n",
       "[165 rows x 13 columns]"
      ]
     },
     "execution_count": 42,
     "metadata": {},
     "output_type": "execute_result"
    }
   ],
   "source": [
    "df_merged"
   ]
  },
  {
   "cell_type": "markdown",
   "id": "2edf2681",
   "metadata": {},
   "source": [
    "<div style=\"text-align:center; background-color:black; color:yellow; font-size:25px; padding:20px;\">\n",
    "    <strong>04. Load Opening file</strong>\n",
    "</div>"
   ]
  },
  {
   "cell_type": "code",
   "execution_count": 43,
   "id": "21464d09",
   "metadata": {},
   "outputs": [],
   "source": [
    "ope = pd.read_excel(\"ope.xlsx\")"
   ]
  },
  {
   "cell_type": "code",
   "execution_count": 44,
   "id": "811ea1cb",
   "metadata": {},
   "outputs": [],
   "source": [
    "ope = ope.rename(columns = {'Item Code':'Material'})"
   ]
  },
  {
   "cell_type": "code",
   "execution_count": 45,
   "id": "7e212e86",
   "metadata": {},
   "outputs": [],
   "source": [
    "#group the data by Material and year,and calculate Total qty and movement count\n",
    "Ope_grouped = ope.groupby('Material')['OpeQty'].sum().reset_index()"
   ]
  },
  {
   "cell_type": "code",
   "execution_count": 46,
   "id": "93a0d0b6",
   "metadata": {},
   "outputs": [],
   "source": [
    "merged_data = pd.merge(df_merged, Ope_grouped, on = 'Material', how = 'left')"
   ]
  },
  {
   "cell_type": "code",
   "execution_count": 47,
   "id": "813dcab5",
   "metadata": {},
   "outputs": [
    {
     "data": {
      "text/html": [
       "<div>\n",
       "<style scoped>\n",
       "    .dataframe tbody tr th:only-of-type {\n",
       "        vertical-align: middle;\n",
       "    }\n",
       "\n",
       "    .dataframe tbody tr th {\n",
       "        vertical-align: top;\n",
       "    }\n",
       "\n",
       "    .dataframe thead th {\n",
       "        text-align: right;\n",
       "    }\n",
       "</style>\n",
       "<table border=\"1\" class=\"dataframe\">\n",
       "  <thead>\n",
       "    <tr style=\"text-align: right;\">\n",
       "      <th></th>\n",
       "      <th>Material</th>\n",
       "      <th>Description</th>\n",
       "      <th>UOM</th>\n",
       "      <th>InvQty</th>\n",
       "      <th>Value</th>\n",
       "      <th>Dept</th>\n",
       "      <th>Category</th>\n",
       "      <th>2020-21</th>\n",
       "      <th>2021-22</th>\n",
       "      <th>2022-23</th>\n",
       "      <th>Final</th>\n",
       "      <th>_merge</th>\n",
       "      <th>RecQty</th>\n",
       "      <th>OpeQty</th>\n",
       "    </tr>\n",
       "  </thead>\n",
       "  <tbody>\n",
       "    <tr>\n",
       "      <th>0</th>\n",
       "      <td>1711015911</td>\n",
       "      <td>CYL BRG OIL RG LP, DWG: A192.07.32E02</td>\n",
       "      <td>EA</td>\n",
       "      <td>5</td>\n",
       "      <td>50000.0</td>\n",
       "      <td>MMD</td>\n",
       "      <td>Essential</td>\n",
       "      <td>N</td>\n",
       "      <td>N</td>\n",
       "      <td>N</td>\n",
       "      <td>N</td>\n",
       "      <td>left_only</td>\n",
       "      <td>5.0</td>\n",
       "      <td>5.0</td>\n",
       "    </tr>\n",
       "    <tr>\n",
       "      <th>1</th>\n",
       "      <td>2407912193</td>\n",
       "      <td>FILL PACK M67, PN:PT NO # 80-43073-11</td>\n",
       "      <td>EA</td>\n",
       "      <td>1</td>\n",
       "      <td>100000.0</td>\n",
       "      <td>C&amp;I</td>\n",
       "      <td>Essential</td>\n",
       "      <td>N</td>\n",
       "      <td>N</td>\n",
       "      <td>N</td>\n",
       "      <td>N</td>\n",
       "      <td>left_only</td>\n",
       "      <td>6.0</td>\n",
       "      <td>1.0</td>\n",
       "    </tr>\n",
       "    <tr>\n",
       "      <th>2</th>\n",
       "      <td>3290909123</td>\n",
       "      <td>OIL FILTERATION PLANT, 6KLPH, GEE. DEE VAC</td>\n",
       "      <td>EA</td>\n",
       "      <td>2</td>\n",
       "      <td>252520.0</td>\n",
       "      <td>CHM</td>\n",
       "      <td>Essential</td>\n",
       "      <td>N</td>\n",
       "      <td>N</td>\n",
       "      <td>N</td>\n",
       "      <td>N</td>\n",
       "      <td>left_only</td>\n",
       "      <td>10.0</td>\n",
       "      <td>12.0</td>\n",
       "    </tr>\n",
       "    <tr>\n",
       "      <th>3</th>\n",
       "      <td>7787931241</td>\n",
       "      <td>DISK STACK,100DLC,2CH,6IN,. MM: 100 DLC-2CH</td>\n",
       "      <td>EA</td>\n",
       "      <td>5</td>\n",
       "      <td>2555500.0</td>\n",
       "      <td>MBO</td>\n",
       "      <td>Desirable</td>\n",
       "      <td>N</td>\n",
       "      <td>N</td>\n",
       "      <td>N</td>\n",
       "      <td>N</td>\n",
       "      <td>left_only</td>\n",
       "      <td>9.0</td>\n",
       "      <td>5.0</td>\n",
       "    </tr>\n",
       "    <tr>\n",
       "      <th>4</th>\n",
       "      <td>7190990183</td>\n",
       "      <td>PLCC CARD P1LA RF AMPLIFIER FOR ETL-41</td>\n",
       "      <td>EA</td>\n",
       "      <td>9</td>\n",
       "      <td>1000000.0</td>\n",
       "      <td>EMD</td>\n",
       "      <td>Desirable</td>\n",
       "      <td>N</td>\n",
       "      <td>N</td>\n",
       "      <td>N</td>\n",
       "      <td>N</td>\n",
       "      <td>left_only</td>\n",
       "      <td>32.0</td>\n",
       "      <td>NaN</td>\n",
       "    </tr>\n",
       "    <tr>\n",
       "      <th>5</th>\n",
       "      <td>7190990183</td>\n",
       "      <td>PLCC CARD P1LA RF AMPLIFIER FOR ETL-41</td>\n",
       "      <td>EA</td>\n",
       "      <td>5</td>\n",
       "      <td>1000000.0</td>\n",
       "      <td>EMD</td>\n",
       "      <td>Desirable</td>\n",
       "      <td>N</td>\n",
       "      <td>N</td>\n",
       "      <td>N</td>\n",
       "      <td>N</td>\n",
       "      <td>left_only</td>\n",
       "      <td>32.0</td>\n",
       "      <td>NaN</td>\n",
       "    </tr>\n",
       "    <tr>\n",
       "      <th>6</th>\n",
       "      <td>7190990183</td>\n",
       "      <td>PLCC CARD P1LA RF AMPLIFIER FOR ETL-41</td>\n",
       "      <td>EA</td>\n",
       "      <td>4</td>\n",
       "      <td>1000000.0</td>\n",
       "      <td>EMD</td>\n",
       "      <td>Desirable</td>\n",
       "      <td>N</td>\n",
       "      <td>N</td>\n",
       "      <td>N</td>\n",
       "      <td>N</td>\n",
       "      <td>left_only</td>\n",
       "      <td>32.0</td>\n",
       "      <td>NaN</td>\n",
       "    </tr>\n",
       "    <tr>\n",
       "      <th>7</th>\n",
       "      <td>7190990183</td>\n",
       "      <td>PLCC CARD P1LA RF AMPLIFIER FOR ETL-41</td>\n",
       "      <td>EA</td>\n",
       "      <td>5</td>\n",
       "      <td>1000000.0</td>\n",
       "      <td>EMD</td>\n",
       "      <td>Desirable</td>\n",
       "      <td>N</td>\n",
       "      <td>N</td>\n",
       "      <td>N</td>\n",
       "      <td>N</td>\n",
       "      <td>left_only</td>\n",
       "      <td>32.0</td>\n",
       "      <td>NaN</td>\n",
       "    </tr>\n",
       "    <tr>\n",
       "      <th>8</th>\n",
       "      <td>5872992153</td>\n",
       "      <td>BELT DRIVE REDUCER WITH MOTOR,F/HD BSC36</td>\n",
       "      <td>Set</td>\n",
       "      <td>6</td>\n",
       "      <td>1000000.0</td>\n",
       "      <td>F&amp;S</td>\n",
       "      <td>Desirable</td>\n",
       "      <td>N</td>\n",
       "      <td>N</td>\n",
       "      <td>N</td>\n",
       "      <td>N</td>\n",
       "      <td>left_only</td>\n",
       "      <td>0.0</td>\n",
       "      <td>NaN</td>\n",
       "    </tr>\n",
       "    <tr>\n",
       "      <th>9</th>\n",
       "      <td>9696501433</td>\n",
       "      <td>IR ILLUMINATORS F/CCTV, WAVELENGTH:850NM</td>\n",
       "      <td>Set</td>\n",
       "      <td>8</td>\n",
       "      <td>900000.0</td>\n",
       "      <td>CMS</td>\n",
       "      <td>Desirable</td>\n",
       "      <td>N</td>\n",
       "      <td>N</td>\n",
       "      <td>N</td>\n",
       "      <td>N</td>\n",
       "      <td>left_only</td>\n",
       "      <td>8.0</td>\n",
       "      <td>NaN</td>\n",
       "    </tr>\n",
       "  </tbody>\n",
       "</table>\n",
       "</div>"
      ],
      "text/plain": [
       "     Material                                  Description  UOM  InvQty  \\\n",
       "0  1711015911        CYL BRG OIL RG LP, DWG: A192.07.32E02   EA       5   \n",
       "1  2407912193        FILL PACK M67, PN:PT NO # 80-43073-11   EA       1   \n",
       "2  3290909123   OIL FILTERATION PLANT, 6KLPH, GEE. DEE VAC   EA       2   \n",
       "3  7787931241  DISK STACK,100DLC,2CH,6IN,. MM: 100 DLC-2CH   EA       5   \n",
       "4  7190990183       PLCC CARD P1LA RF AMPLIFIER FOR ETL-41   EA       9   \n",
       "5  7190990183       PLCC CARD P1LA RF AMPLIFIER FOR ETL-41   EA       5   \n",
       "6  7190990183       PLCC CARD P1LA RF AMPLIFIER FOR ETL-41   EA       4   \n",
       "7  7190990183       PLCC CARD P1LA RF AMPLIFIER FOR ETL-41   EA       5   \n",
       "8  5872992153     BELT DRIVE REDUCER WITH MOTOR,F/HD BSC36  Set       6   \n",
       "9  9696501433     IR ILLUMINATORS F/CCTV, WAVELENGTH:850NM  Set       8   \n",
       "\n",
       "       Value Dept   Category 2020-21 2021-22 2022-23 Final     _merge  RecQty  \\\n",
       "0    50000.0  MMD  Essential       N       N       N     N  left_only     5.0   \n",
       "1   100000.0  C&I  Essential       N       N       N     N  left_only     6.0   \n",
       "2   252520.0  CHM  Essential       N       N       N     N  left_only    10.0   \n",
       "3  2555500.0  MBO  Desirable       N       N       N     N  left_only     9.0   \n",
       "4  1000000.0  EMD  Desirable       N       N       N     N  left_only    32.0   \n",
       "5  1000000.0  EMD  Desirable       N       N       N     N  left_only    32.0   \n",
       "6  1000000.0  EMD  Desirable       N       N       N     N  left_only    32.0   \n",
       "7  1000000.0  EMD  Desirable       N       N       N     N  left_only    32.0   \n",
       "8  1000000.0  F&S  Desirable       N       N       N     N  left_only     0.0   \n",
       "9   900000.0  CMS  Desirable       N       N       N     N  left_only     8.0   \n",
       "\n",
       "   OpeQty  \n",
       "0     5.0  \n",
       "1     1.0  \n",
       "2    12.0  \n",
       "3     5.0  \n",
       "4     NaN  \n",
       "5     NaN  \n",
       "6     NaN  \n",
       "7     NaN  \n",
       "8     NaN  \n",
       "9     NaN  "
      ]
     },
     "execution_count": 47,
     "metadata": {},
     "output_type": "execute_result"
    }
   ],
   "source": [
    "merged_data.head(10)"
   ]
  },
  {
   "cell_type": "code",
   "execution_count": 48,
   "id": "4b86b92a",
   "metadata": {},
   "outputs": [],
   "source": [
    "# Map consumption qty with inventory file \n",
    "cons = pd.read_csv('Cons_total.csv')"
   ]
  },
  {
   "cell_type": "code",
   "execution_count": 49,
   "id": "79808d00",
   "metadata": {},
   "outputs": [],
   "source": [
    "cons = cons.rename(columns = {'total_qty' : 'consqty'})"
   ]
  },
  {
   "cell_type": "code",
   "execution_count": 50,
   "id": "fe88641e",
   "metadata": {},
   "outputs": [
    {
     "data": {
      "text/html": [
       "<div>\n",
       "<style scoped>\n",
       "    .dataframe tbody tr th:only-of-type {\n",
       "        vertical-align: middle;\n",
       "    }\n",
       "\n",
       "    .dataframe tbody tr th {\n",
       "        vertical-align: top;\n",
       "    }\n",
       "\n",
       "    .dataframe thead th {\n",
       "        text-align: right;\n",
       "    }\n",
       "</style>\n",
       "<table border=\"1\" class=\"dataframe\">\n",
       "  <thead>\n",
       "    <tr style=\"text-align: right;\">\n",
       "      <th></th>\n",
       "      <th>Material</th>\n",
       "      <th>Fiscal_year</th>\n",
       "      <th>consqty</th>\n",
       "      <th>movement_count</th>\n",
       "      <th>Class</th>\n",
       "    </tr>\n",
       "  </thead>\n",
       "  <tbody>\n",
       "    <tr>\n",
       "      <th>0</th>\n",
       "      <td>1303100373</td>\n",
       "      <td>2020-21</td>\n",
       "      <td>-21</td>\n",
       "      <td>4</td>\n",
       "      <td>S</td>\n",
       "    </tr>\n",
       "    <tr>\n",
       "      <th>1</th>\n",
       "      <td>1303100373</td>\n",
       "      <td>2021-22</td>\n",
       "      <td>-21</td>\n",
       "      <td>4</td>\n",
       "      <td>S</td>\n",
       "    </tr>\n",
       "    <tr>\n",
       "      <th>2</th>\n",
       "      <td>1303100373</td>\n",
       "      <td>2022-23</td>\n",
       "      <td>-21</td>\n",
       "      <td>4</td>\n",
       "      <td>S</td>\n",
       "    </tr>\n",
       "    <tr>\n",
       "      <th>3</th>\n",
       "      <td>1711015901</td>\n",
       "      <td>2020-21</td>\n",
       "      <td>-12</td>\n",
       "      <td>3</td>\n",
       "      <td>S</td>\n",
       "    </tr>\n",
       "    <tr>\n",
       "      <th>4</th>\n",
       "      <td>1711015901</td>\n",
       "      <td>2021-22</td>\n",
       "      <td>-12</td>\n",
       "      <td>3</td>\n",
       "      <td>S</td>\n",
       "    </tr>\n",
       "  </tbody>\n",
       "</table>\n",
       "</div>"
      ],
      "text/plain": [
       "     Material Fiscal_year  consqty  movement_count Class\n",
       "0  1303100373     2020-21      -21               4     S\n",
       "1  1303100373     2021-22      -21               4     S\n",
       "2  1303100373     2022-23      -21               4     S\n",
       "3  1711015901     2020-21      -12               3     S\n",
       "4  1711015901     2021-22      -12               3     S"
      ]
     },
     "execution_count": 50,
     "metadata": {},
     "output_type": "execute_result"
    }
   ],
   "source": [
    "cons.head()"
   ]
  },
  {
   "cell_type": "code",
   "execution_count": 51,
   "id": "1d8edd00",
   "metadata": {},
   "outputs": [],
   "source": [
    "#we have to group the total consqty material wise\n",
    "cons = cons.groupby('Material')['consqty'].sum().reset_index()"
   ]
  },
  {
   "cell_type": "code",
   "execution_count": 53,
   "id": "e3580bfc",
   "metadata": {},
   "outputs": [],
   "source": [
    "#Merge the file with consumption data and original file of inventory\n",
    "merged_data1 = pd.merge(merged_data, cons, on = 'Material', how = 'left')"
   ]
  },
  {
   "cell_type": "code",
   "execution_count": 54,
   "id": "1d836e17",
   "metadata": {},
   "outputs": [
    {
     "data": {
      "text/html": [
       "<div>\n",
       "<style scoped>\n",
       "    .dataframe tbody tr th:only-of-type {\n",
       "        vertical-align: middle;\n",
       "    }\n",
       "\n",
       "    .dataframe tbody tr th {\n",
       "        vertical-align: top;\n",
       "    }\n",
       "\n",
       "    .dataframe thead th {\n",
       "        text-align: right;\n",
       "    }\n",
       "</style>\n",
       "<table border=\"1\" class=\"dataframe\">\n",
       "  <thead>\n",
       "    <tr style=\"text-align: right;\">\n",
       "      <th></th>\n",
       "      <th>Material</th>\n",
       "      <th>Description</th>\n",
       "      <th>UOM</th>\n",
       "      <th>InvQty</th>\n",
       "      <th>Value</th>\n",
       "      <th>Dept</th>\n",
       "      <th>Category</th>\n",
       "      <th>2020-21</th>\n",
       "      <th>2021-22</th>\n",
       "      <th>2022-23</th>\n",
       "      <th>Final</th>\n",
       "      <th>_merge</th>\n",
       "      <th>RecQty</th>\n",
       "      <th>OpeQty</th>\n",
       "      <th>consqty</th>\n",
       "    </tr>\n",
       "  </thead>\n",
       "  <tbody>\n",
       "    <tr>\n",
       "      <th>0</th>\n",
       "      <td>1711015911</td>\n",
       "      <td>CYL BRG OIL RG LP, DWG: A192.07.32E02</td>\n",
       "      <td>EA</td>\n",
       "      <td>5</td>\n",
       "      <td>50000.0</td>\n",
       "      <td>MMD</td>\n",
       "      <td>Essential</td>\n",
       "      <td>N</td>\n",
       "      <td>N</td>\n",
       "      <td>N</td>\n",
       "      <td>N</td>\n",
       "      <td>left_only</td>\n",
       "      <td>5.0</td>\n",
       "      <td>5.0</td>\n",
       "      <td>NaN</td>\n",
       "    </tr>\n",
       "    <tr>\n",
       "      <th>1</th>\n",
       "      <td>2407912193</td>\n",
       "      <td>FILL PACK M67, PN:PT NO # 80-43073-11</td>\n",
       "      <td>EA</td>\n",
       "      <td>1</td>\n",
       "      <td>100000.0</td>\n",
       "      <td>C&amp;I</td>\n",
       "      <td>Essential</td>\n",
       "      <td>N</td>\n",
       "      <td>N</td>\n",
       "      <td>N</td>\n",
       "      <td>N</td>\n",
       "      <td>left_only</td>\n",
       "      <td>6.0</td>\n",
       "      <td>1.0</td>\n",
       "      <td>NaN</td>\n",
       "    </tr>\n",
       "    <tr>\n",
       "      <th>2</th>\n",
       "      <td>3290909123</td>\n",
       "      <td>OIL FILTERATION PLANT, 6KLPH, GEE. DEE VAC</td>\n",
       "      <td>EA</td>\n",
       "      <td>2</td>\n",
       "      <td>252520.0</td>\n",
       "      <td>CHM</td>\n",
       "      <td>Essential</td>\n",
       "      <td>N</td>\n",
       "      <td>N</td>\n",
       "      <td>N</td>\n",
       "      <td>N</td>\n",
       "      <td>left_only</td>\n",
       "      <td>10.0</td>\n",
       "      <td>12.0</td>\n",
       "      <td>NaN</td>\n",
       "    </tr>\n",
       "    <tr>\n",
       "      <th>3</th>\n",
       "      <td>7787931241</td>\n",
       "      <td>DISK STACK,100DLC,2CH,6IN,. MM: 100 DLC-2CH</td>\n",
       "      <td>EA</td>\n",
       "      <td>5</td>\n",
       "      <td>2555500.0</td>\n",
       "      <td>MBO</td>\n",
       "      <td>Desirable</td>\n",
       "      <td>N</td>\n",
       "      <td>N</td>\n",
       "      <td>N</td>\n",
       "      <td>N</td>\n",
       "      <td>left_only</td>\n",
       "      <td>9.0</td>\n",
       "      <td>5.0</td>\n",
       "      <td>NaN</td>\n",
       "    </tr>\n",
       "    <tr>\n",
       "      <th>4</th>\n",
       "      <td>7190990183</td>\n",
       "      <td>PLCC CARD P1LA RF AMPLIFIER FOR ETL-41</td>\n",
       "      <td>EA</td>\n",
       "      <td>9</td>\n",
       "      <td>1000000.0</td>\n",
       "      <td>EMD</td>\n",
       "      <td>Desirable</td>\n",
       "      <td>N</td>\n",
       "      <td>N</td>\n",
       "      <td>N</td>\n",
       "      <td>N</td>\n",
       "      <td>left_only</td>\n",
       "      <td>32.0</td>\n",
       "      <td>NaN</td>\n",
       "      <td>NaN</td>\n",
       "    </tr>\n",
       "    <tr>\n",
       "      <th>5</th>\n",
       "      <td>7190990183</td>\n",
       "      <td>PLCC CARD P1LA RF AMPLIFIER FOR ETL-41</td>\n",
       "      <td>EA</td>\n",
       "      <td>5</td>\n",
       "      <td>1000000.0</td>\n",
       "      <td>EMD</td>\n",
       "      <td>Desirable</td>\n",
       "      <td>N</td>\n",
       "      <td>N</td>\n",
       "      <td>N</td>\n",
       "      <td>N</td>\n",
       "      <td>left_only</td>\n",
       "      <td>32.0</td>\n",
       "      <td>NaN</td>\n",
       "      <td>NaN</td>\n",
       "    </tr>\n",
       "    <tr>\n",
       "      <th>6</th>\n",
       "      <td>7190990183</td>\n",
       "      <td>PLCC CARD P1LA RF AMPLIFIER FOR ETL-41</td>\n",
       "      <td>EA</td>\n",
       "      <td>4</td>\n",
       "      <td>1000000.0</td>\n",
       "      <td>EMD</td>\n",
       "      <td>Desirable</td>\n",
       "      <td>N</td>\n",
       "      <td>N</td>\n",
       "      <td>N</td>\n",
       "      <td>N</td>\n",
       "      <td>left_only</td>\n",
       "      <td>32.0</td>\n",
       "      <td>NaN</td>\n",
       "      <td>NaN</td>\n",
       "    </tr>\n",
       "    <tr>\n",
       "      <th>7</th>\n",
       "      <td>7190990183</td>\n",
       "      <td>PLCC CARD P1LA RF AMPLIFIER FOR ETL-41</td>\n",
       "      <td>EA</td>\n",
       "      <td>5</td>\n",
       "      <td>1000000.0</td>\n",
       "      <td>EMD</td>\n",
       "      <td>Desirable</td>\n",
       "      <td>N</td>\n",
       "      <td>N</td>\n",
       "      <td>N</td>\n",
       "      <td>N</td>\n",
       "      <td>left_only</td>\n",
       "      <td>32.0</td>\n",
       "      <td>NaN</td>\n",
       "      <td>NaN</td>\n",
       "    </tr>\n",
       "    <tr>\n",
       "      <th>8</th>\n",
       "      <td>5872992153</td>\n",
       "      <td>BELT DRIVE REDUCER WITH MOTOR,F/HD BSC36</td>\n",
       "      <td>Set</td>\n",
       "      <td>6</td>\n",
       "      <td>1000000.0</td>\n",
       "      <td>F&amp;S</td>\n",
       "      <td>Desirable</td>\n",
       "      <td>N</td>\n",
       "      <td>N</td>\n",
       "      <td>N</td>\n",
       "      <td>N</td>\n",
       "      <td>left_only</td>\n",
       "      <td>0.0</td>\n",
       "      <td>NaN</td>\n",
       "      <td>NaN</td>\n",
       "    </tr>\n",
       "    <tr>\n",
       "      <th>9</th>\n",
       "      <td>9696501433</td>\n",
       "      <td>IR ILLUMINATORS F/CCTV, WAVELENGTH:850NM</td>\n",
       "      <td>Set</td>\n",
       "      <td>8</td>\n",
       "      <td>900000.0</td>\n",
       "      <td>CMS</td>\n",
       "      <td>Desirable</td>\n",
       "      <td>N</td>\n",
       "      <td>N</td>\n",
       "      <td>N</td>\n",
       "      <td>N</td>\n",
       "      <td>left_only</td>\n",
       "      <td>8.0</td>\n",
       "      <td>NaN</td>\n",
       "      <td>NaN</td>\n",
       "    </tr>\n",
       "  </tbody>\n",
       "</table>\n",
       "</div>"
      ],
      "text/plain": [
       "     Material                                  Description  UOM  InvQty  \\\n",
       "0  1711015911        CYL BRG OIL RG LP, DWG: A192.07.32E02   EA       5   \n",
       "1  2407912193        FILL PACK M67, PN:PT NO # 80-43073-11   EA       1   \n",
       "2  3290909123   OIL FILTERATION PLANT, 6KLPH, GEE. DEE VAC   EA       2   \n",
       "3  7787931241  DISK STACK,100DLC,2CH,6IN,. MM: 100 DLC-2CH   EA       5   \n",
       "4  7190990183       PLCC CARD P1LA RF AMPLIFIER FOR ETL-41   EA       9   \n",
       "5  7190990183       PLCC CARD P1LA RF AMPLIFIER FOR ETL-41   EA       5   \n",
       "6  7190990183       PLCC CARD P1LA RF AMPLIFIER FOR ETL-41   EA       4   \n",
       "7  7190990183       PLCC CARD P1LA RF AMPLIFIER FOR ETL-41   EA       5   \n",
       "8  5872992153     BELT DRIVE REDUCER WITH MOTOR,F/HD BSC36  Set       6   \n",
       "9  9696501433     IR ILLUMINATORS F/CCTV, WAVELENGTH:850NM  Set       8   \n",
       "\n",
       "       Value Dept   Category 2020-21 2021-22 2022-23 Final     _merge  RecQty  \\\n",
       "0    50000.0  MMD  Essential       N       N       N     N  left_only     5.0   \n",
       "1   100000.0  C&I  Essential       N       N       N     N  left_only     6.0   \n",
       "2   252520.0  CHM  Essential       N       N       N     N  left_only    10.0   \n",
       "3  2555500.0  MBO  Desirable       N       N       N     N  left_only     9.0   \n",
       "4  1000000.0  EMD  Desirable       N       N       N     N  left_only    32.0   \n",
       "5  1000000.0  EMD  Desirable       N       N       N     N  left_only    32.0   \n",
       "6  1000000.0  EMD  Desirable       N       N       N     N  left_only    32.0   \n",
       "7  1000000.0  EMD  Desirable       N       N       N     N  left_only    32.0   \n",
       "8  1000000.0  F&S  Desirable       N       N       N     N  left_only     0.0   \n",
       "9   900000.0  CMS  Desirable       N       N       N     N  left_only     8.0   \n",
       "\n",
       "   OpeQty  consqty  \n",
       "0     5.0      NaN  \n",
       "1     1.0      NaN  \n",
       "2    12.0      NaN  \n",
       "3     5.0      NaN  \n",
       "4     NaN      NaN  \n",
       "5     NaN      NaN  \n",
       "6     NaN      NaN  \n",
       "7     NaN      NaN  \n",
       "8     NaN      NaN  \n",
       "9     NaN      NaN  "
      ]
     },
     "execution_count": 54,
     "metadata": {},
     "output_type": "execute_result"
    }
   ],
   "source": [
    "merged_data1.head(10)"
   ]
  },
  {
   "cell_type": "code",
   "execution_count": 55,
   "id": "0dc067bc",
   "metadata": {},
   "outputs": [],
   "source": [
    "#fill Nan to zero values\n",
    "merged_data1['RecQty'] = merged_data1['RecQty'].fillna(0)\n",
    "merged_data1['OpeQty'] = merged_data1['OpeQty'].fillna(0)\n",
    "merged_data1['consqty'] = merged_data1['consqty'].fillna(0)"
   ]
  },
  {
   "cell_type": "code",
   "execution_count": 56,
   "id": "e9eb365e",
   "metadata": {},
   "outputs": [
    {
     "data": {
      "text/html": [
       "<div>\n",
       "<style scoped>\n",
       "    .dataframe tbody tr th:only-of-type {\n",
       "        vertical-align: middle;\n",
       "    }\n",
       "\n",
       "    .dataframe tbody tr th {\n",
       "        vertical-align: top;\n",
       "    }\n",
       "\n",
       "    .dataframe thead th {\n",
       "        text-align: right;\n",
       "    }\n",
       "</style>\n",
       "<table border=\"1\" class=\"dataframe\">\n",
       "  <thead>\n",
       "    <tr style=\"text-align: right;\">\n",
       "      <th></th>\n",
       "      <th>Material</th>\n",
       "      <th>Description</th>\n",
       "      <th>UOM</th>\n",
       "      <th>InvQty</th>\n",
       "      <th>Value</th>\n",
       "      <th>Dept</th>\n",
       "      <th>Category</th>\n",
       "      <th>2020-21</th>\n",
       "      <th>2021-22</th>\n",
       "      <th>2022-23</th>\n",
       "      <th>Final</th>\n",
       "      <th>_merge</th>\n",
       "      <th>RecQty</th>\n",
       "      <th>OpeQty</th>\n",
       "      <th>consqty</th>\n",
       "    </tr>\n",
       "  </thead>\n",
       "  <tbody>\n",
       "    <tr>\n",
       "      <th>0</th>\n",
       "      <td>1711015911</td>\n",
       "      <td>CYL BRG OIL RG LP, DWG: A192.07.32E02</td>\n",
       "      <td>EA</td>\n",
       "      <td>5</td>\n",
       "      <td>50000.0</td>\n",
       "      <td>MMD</td>\n",
       "      <td>Essential</td>\n",
       "      <td>N</td>\n",
       "      <td>N</td>\n",
       "      <td>N</td>\n",
       "      <td>N</td>\n",
       "      <td>left_only</td>\n",
       "      <td>5.0</td>\n",
       "      <td>5.0</td>\n",
       "      <td>0.0</td>\n",
       "    </tr>\n",
       "    <tr>\n",
       "      <th>1</th>\n",
       "      <td>2407912193</td>\n",
       "      <td>FILL PACK M67, PN:PT NO # 80-43073-11</td>\n",
       "      <td>EA</td>\n",
       "      <td>1</td>\n",
       "      <td>100000.0</td>\n",
       "      <td>C&amp;I</td>\n",
       "      <td>Essential</td>\n",
       "      <td>N</td>\n",
       "      <td>N</td>\n",
       "      <td>N</td>\n",
       "      <td>N</td>\n",
       "      <td>left_only</td>\n",
       "      <td>6.0</td>\n",
       "      <td>1.0</td>\n",
       "      <td>0.0</td>\n",
       "    </tr>\n",
       "    <tr>\n",
       "      <th>2</th>\n",
       "      <td>3290909123</td>\n",
       "      <td>OIL FILTERATION PLANT, 6KLPH, GEE. DEE VAC</td>\n",
       "      <td>EA</td>\n",
       "      <td>2</td>\n",
       "      <td>252520.0</td>\n",
       "      <td>CHM</td>\n",
       "      <td>Essential</td>\n",
       "      <td>N</td>\n",
       "      <td>N</td>\n",
       "      <td>N</td>\n",
       "      <td>N</td>\n",
       "      <td>left_only</td>\n",
       "      <td>10.0</td>\n",
       "      <td>12.0</td>\n",
       "      <td>0.0</td>\n",
       "    </tr>\n",
       "    <tr>\n",
       "      <th>3</th>\n",
       "      <td>7787931241</td>\n",
       "      <td>DISK STACK,100DLC,2CH,6IN,. MM: 100 DLC-2CH</td>\n",
       "      <td>EA</td>\n",
       "      <td>5</td>\n",
       "      <td>2555500.0</td>\n",
       "      <td>MBO</td>\n",
       "      <td>Desirable</td>\n",
       "      <td>N</td>\n",
       "      <td>N</td>\n",
       "      <td>N</td>\n",
       "      <td>N</td>\n",
       "      <td>left_only</td>\n",
       "      <td>9.0</td>\n",
       "      <td>5.0</td>\n",
       "      <td>0.0</td>\n",
       "    </tr>\n",
       "    <tr>\n",
       "      <th>4</th>\n",
       "      <td>7190990183</td>\n",
       "      <td>PLCC CARD P1LA RF AMPLIFIER FOR ETL-41</td>\n",
       "      <td>EA</td>\n",
       "      <td>9</td>\n",
       "      <td>1000000.0</td>\n",
       "      <td>EMD</td>\n",
       "      <td>Desirable</td>\n",
       "      <td>N</td>\n",
       "      <td>N</td>\n",
       "      <td>N</td>\n",
       "      <td>N</td>\n",
       "      <td>left_only</td>\n",
       "      <td>32.0</td>\n",
       "      <td>0.0</td>\n",
       "      <td>0.0</td>\n",
       "    </tr>\n",
       "    <tr>\n",
       "      <th>...</th>\n",
       "      <td>...</td>\n",
       "      <td>...</td>\n",
       "      <td>...</td>\n",
       "      <td>...</td>\n",
       "      <td>...</td>\n",
       "      <td>...</td>\n",
       "      <td>...</td>\n",
       "      <td>...</td>\n",
       "      <td>...</td>\n",
       "      <td>...</td>\n",
       "      <td>...</td>\n",
       "      <td>...</td>\n",
       "      <td>...</td>\n",
       "      <td>...</td>\n",
       "      <td>...</td>\n",
       "    </tr>\n",
       "    <tr>\n",
       "      <th>160</th>\n",
       "      <td>3290909122</td>\n",
       "      <td>OIL FILTERATION PLANT, 6KLPH, GEE. DEE VAC</td>\n",
       "      <td>EA</td>\n",
       "      <td>9</td>\n",
       "      <td>500000.0</td>\n",
       "      <td>MMD</td>\n",
       "      <td>Essential</td>\n",
       "      <td>N</td>\n",
       "      <td>N</td>\n",
       "      <td>N</td>\n",
       "      <td>N</td>\n",
       "      <td>left_only</td>\n",
       "      <td>0.0</td>\n",
       "      <td>9.0</td>\n",
       "      <td>0.0</td>\n",
       "    </tr>\n",
       "    <tr>\n",
       "      <th>161</th>\n",
       "      <td>3290909123</td>\n",
       "      <td>OIL FILTERATION PLANT, 6KLPH, GEE. DEE VAC</td>\n",
       "      <td>EA</td>\n",
       "      <td>10</td>\n",
       "      <td>1700000.0</td>\n",
       "      <td>MMD</td>\n",
       "      <td>Essential</td>\n",
       "      <td>N</td>\n",
       "      <td>N</td>\n",
       "      <td>N</td>\n",
       "      <td>N</td>\n",
       "      <td>left_only</td>\n",
       "      <td>10.0</td>\n",
       "      <td>12.0</td>\n",
       "      <td>0.0</td>\n",
       "    </tr>\n",
       "    <tr>\n",
       "      <th>162</th>\n",
       "      <td>3290909124</td>\n",
       "      <td>OIL FILTERATION PLANT, 6KLPH, GEE. DEE VAC</td>\n",
       "      <td>EA</td>\n",
       "      <td>6</td>\n",
       "      <td>1800000.0</td>\n",
       "      <td>MMD</td>\n",
       "      <td>Essential</td>\n",
       "      <td>N</td>\n",
       "      <td>N</td>\n",
       "      <td>N</td>\n",
       "      <td>N</td>\n",
       "      <td>left_only</td>\n",
       "      <td>0.0</td>\n",
       "      <td>6.0</td>\n",
       "      <td>0.0</td>\n",
       "    </tr>\n",
       "    <tr>\n",
       "      <th>163</th>\n",
       "      <td>3290909125</td>\n",
       "      <td>OIL FILTERATION PLANT, 6KLPH, GEE. DEE VAC</td>\n",
       "      <td>EA</td>\n",
       "      <td>9</td>\n",
       "      <td>1900000.0</td>\n",
       "      <td>MMD</td>\n",
       "      <td>Essential</td>\n",
       "      <td>N</td>\n",
       "      <td>N</td>\n",
       "      <td>N</td>\n",
       "      <td>N</td>\n",
       "      <td>left_only</td>\n",
       "      <td>0.0</td>\n",
       "      <td>9.0</td>\n",
       "      <td>0.0</td>\n",
       "    </tr>\n",
       "    <tr>\n",
       "      <th>164</th>\n",
       "      <td>3290909126</td>\n",
       "      <td>OIL FILTERATION PLANT, 6KLPH, GEE. DEE VAC</td>\n",
       "      <td>EA</td>\n",
       "      <td>10</td>\n",
       "      <td>1600000.0</td>\n",
       "      <td>MMD</td>\n",
       "      <td>Essential</td>\n",
       "      <td>N</td>\n",
       "      <td>N</td>\n",
       "      <td>N</td>\n",
       "      <td>N</td>\n",
       "      <td>left_only</td>\n",
       "      <td>0.0</td>\n",
       "      <td>10.0</td>\n",
       "      <td>0.0</td>\n",
       "    </tr>\n",
       "  </tbody>\n",
       "</table>\n",
       "<p>165 rows × 15 columns</p>\n",
       "</div>"
      ],
      "text/plain": [
       "       Material                                  Description UOM  InvQty  \\\n",
       "0    1711015911        CYL BRG OIL RG LP, DWG: A192.07.32E02  EA       5   \n",
       "1    2407912193        FILL PACK M67, PN:PT NO # 80-43073-11  EA       1   \n",
       "2    3290909123   OIL FILTERATION PLANT, 6KLPH, GEE. DEE VAC  EA       2   \n",
       "3    7787931241  DISK STACK,100DLC,2CH,6IN,. MM: 100 DLC-2CH  EA       5   \n",
       "4    7190990183       PLCC CARD P1LA RF AMPLIFIER FOR ETL-41  EA       9   \n",
       "..          ...                                          ...  ..     ...   \n",
       "160  3290909122   OIL FILTERATION PLANT, 6KLPH, GEE. DEE VAC  EA       9   \n",
       "161  3290909123   OIL FILTERATION PLANT, 6KLPH, GEE. DEE VAC  EA      10   \n",
       "162  3290909124   OIL FILTERATION PLANT, 6KLPH, GEE. DEE VAC  EA       6   \n",
       "163  3290909125   OIL FILTERATION PLANT, 6KLPH, GEE. DEE VAC  EA       9   \n",
       "164  3290909126   OIL FILTERATION PLANT, 6KLPH, GEE. DEE VAC  EA      10   \n",
       "\n",
       "         Value Dept   Category 2020-21 2021-22 2022-23 Final     _merge  \\\n",
       "0      50000.0  MMD  Essential       N       N       N     N  left_only   \n",
       "1     100000.0  C&I  Essential       N       N       N     N  left_only   \n",
       "2     252520.0  CHM  Essential       N       N       N     N  left_only   \n",
       "3    2555500.0  MBO  Desirable       N       N       N     N  left_only   \n",
       "4    1000000.0  EMD  Desirable       N       N       N     N  left_only   \n",
       "..         ...  ...        ...     ...     ...     ...   ...        ...   \n",
       "160   500000.0  MMD  Essential       N       N       N     N  left_only   \n",
       "161  1700000.0  MMD  Essential       N       N       N     N  left_only   \n",
       "162  1800000.0  MMD  Essential       N       N       N     N  left_only   \n",
       "163  1900000.0  MMD  Essential       N       N       N     N  left_only   \n",
       "164  1600000.0  MMD  Essential       N       N       N     N  left_only   \n",
       "\n",
       "     RecQty  OpeQty  consqty  \n",
       "0       5.0     5.0      0.0  \n",
       "1       6.0     1.0      0.0  \n",
       "2      10.0    12.0      0.0  \n",
       "3       9.0     5.0      0.0  \n",
       "4      32.0     0.0      0.0  \n",
       "..      ...     ...      ...  \n",
       "160     0.0     9.0      0.0  \n",
       "161    10.0    12.0      0.0  \n",
       "162     0.0     6.0      0.0  \n",
       "163     0.0     9.0      0.0  \n",
       "164     0.0    10.0      0.0  \n",
       "\n",
       "[165 rows x 15 columns]"
      ]
     },
     "execution_count": 56,
     "metadata": {},
     "output_type": "execute_result"
    }
   ],
   "source": [
    "merged_data1"
   ]
  },
  {
   "cell_type": "code",
   "execution_count": 57,
   "id": "ed1386d3",
   "metadata": {},
   "outputs": [],
   "source": [
    "#filter rows where 'recqty' is present and both 'Opeqty' and 'consqty' are either zero or Nan\n",
    "filtered_rows = merged_data1[(pd.notna(merged_data1['RecQty'])) & (merged_data1['OpeQty'].eq(0) |\n",
    "                                                                  pd.isna(merged_data1['OpeQty'])) &\n",
    "                            (merged_data1['consqty'].eq(0) | pd.isna(merged_data1['consqty']))]"
   ]
  },
  {
   "cell_type": "code",
   "execution_count": 58,
   "id": "ed3a70ea",
   "metadata": {},
   "outputs": [
    {
     "data": {
      "text/html": [
       "<div>\n",
       "<style scoped>\n",
       "    .dataframe tbody tr th:only-of-type {\n",
       "        vertical-align: middle;\n",
       "    }\n",
       "\n",
       "    .dataframe tbody tr th {\n",
       "        vertical-align: top;\n",
       "    }\n",
       "\n",
       "    .dataframe thead th {\n",
       "        text-align: right;\n",
       "    }\n",
       "</style>\n",
       "<table border=\"1\" class=\"dataframe\">\n",
       "  <thead>\n",
       "    <tr style=\"text-align: right;\">\n",
       "      <th></th>\n",
       "      <th>Material</th>\n",
       "      <th>Description</th>\n",
       "      <th>UOM</th>\n",
       "      <th>InvQty</th>\n",
       "      <th>Value</th>\n",
       "      <th>Dept</th>\n",
       "      <th>Category</th>\n",
       "      <th>2020-21</th>\n",
       "      <th>2021-22</th>\n",
       "      <th>2022-23</th>\n",
       "      <th>Final</th>\n",
       "      <th>_merge</th>\n",
       "      <th>RecQty</th>\n",
       "      <th>OpeQty</th>\n",
       "      <th>consqty</th>\n",
       "    </tr>\n",
       "  </thead>\n",
       "  <tbody>\n",
       "    <tr>\n",
       "      <th>4</th>\n",
       "      <td>7190990183</td>\n",
       "      <td>PLCC CARD P1LA RF AMPLIFIER FOR ETL-41</td>\n",
       "      <td>EA</td>\n",
       "      <td>9</td>\n",
       "      <td>1000000.0</td>\n",
       "      <td>EMD</td>\n",
       "      <td>Desirable</td>\n",
       "      <td>N</td>\n",
       "      <td>N</td>\n",
       "      <td>N</td>\n",
       "      <td>N</td>\n",
       "      <td>left_only</td>\n",
       "      <td>32.0</td>\n",
       "      <td>0.0</td>\n",
       "      <td>0.0</td>\n",
       "    </tr>\n",
       "    <tr>\n",
       "      <th>5</th>\n",
       "      <td>7190990183</td>\n",
       "      <td>PLCC CARD P1LA RF AMPLIFIER FOR ETL-41</td>\n",
       "      <td>EA</td>\n",
       "      <td>5</td>\n",
       "      <td>1000000.0</td>\n",
       "      <td>EMD</td>\n",
       "      <td>Desirable</td>\n",
       "      <td>N</td>\n",
       "      <td>N</td>\n",
       "      <td>N</td>\n",
       "      <td>N</td>\n",
       "      <td>left_only</td>\n",
       "      <td>32.0</td>\n",
       "      <td>0.0</td>\n",
       "      <td>0.0</td>\n",
       "    </tr>\n",
       "    <tr>\n",
       "      <th>6</th>\n",
       "      <td>7190990183</td>\n",
       "      <td>PLCC CARD P1LA RF AMPLIFIER FOR ETL-41</td>\n",
       "      <td>EA</td>\n",
       "      <td>4</td>\n",
       "      <td>1000000.0</td>\n",
       "      <td>EMD</td>\n",
       "      <td>Desirable</td>\n",
       "      <td>N</td>\n",
       "      <td>N</td>\n",
       "      <td>N</td>\n",
       "      <td>N</td>\n",
       "      <td>left_only</td>\n",
       "      <td>32.0</td>\n",
       "      <td>0.0</td>\n",
       "      <td>0.0</td>\n",
       "    </tr>\n",
       "    <tr>\n",
       "      <th>7</th>\n",
       "      <td>7190990183</td>\n",
       "      <td>PLCC CARD P1LA RF AMPLIFIER FOR ETL-41</td>\n",
       "      <td>EA</td>\n",
       "      <td>5</td>\n",
       "      <td>1000000.0</td>\n",
       "      <td>EMD</td>\n",
       "      <td>Desirable</td>\n",
       "      <td>N</td>\n",
       "      <td>N</td>\n",
       "      <td>N</td>\n",
       "      <td>N</td>\n",
       "      <td>left_only</td>\n",
       "      <td>32.0</td>\n",
       "      <td>0.0</td>\n",
       "      <td>0.0</td>\n",
       "    </tr>\n",
       "    <tr>\n",
       "      <th>8</th>\n",
       "      <td>5872992153</td>\n",
       "      <td>BELT DRIVE REDUCER WITH MOTOR,F/HD BSC36</td>\n",
       "      <td>Set</td>\n",
       "      <td>6</td>\n",
       "      <td>1000000.0</td>\n",
       "      <td>F&amp;S</td>\n",
       "      <td>Desirable</td>\n",
       "      <td>N</td>\n",
       "      <td>N</td>\n",
       "      <td>N</td>\n",
       "      <td>N</td>\n",
       "      <td>left_only</td>\n",
       "      <td>0.0</td>\n",
       "      <td>0.0</td>\n",
       "      <td>0.0</td>\n",
       "    </tr>\n",
       "  </tbody>\n",
       "</table>\n",
       "</div>"
      ],
      "text/plain": [
       "     Material                               Description  UOM  InvQty  \\\n",
       "4  7190990183    PLCC CARD P1LA RF AMPLIFIER FOR ETL-41   EA       9   \n",
       "5  7190990183    PLCC CARD P1LA RF AMPLIFIER FOR ETL-41   EA       5   \n",
       "6  7190990183    PLCC CARD P1LA RF AMPLIFIER FOR ETL-41   EA       4   \n",
       "7  7190990183    PLCC CARD P1LA RF AMPLIFIER FOR ETL-41   EA       5   \n",
       "8  5872992153  BELT DRIVE REDUCER WITH MOTOR,F/HD BSC36  Set       6   \n",
       "\n",
       "       Value Dept   Category 2020-21 2021-22 2022-23 Final     _merge  RecQty  \\\n",
       "4  1000000.0  EMD  Desirable       N       N       N     N  left_only    32.0   \n",
       "5  1000000.0  EMD  Desirable       N       N       N     N  left_only    32.0   \n",
       "6  1000000.0  EMD  Desirable       N       N       N     N  left_only    32.0   \n",
       "7  1000000.0  EMD  Desirable       N       N       N     N  left_only    32.0   \n",
       "8  1000000.0  F&S  Desirable       N       N       N     N  left_only     0.0   \n",
       "\n",
       "   OpeQty  consqty  \n",
       "4     0.0      0.0  \n",
       "5     0.0      0.0  \n",
       "6     0.0      0.0  \n",
       "7     0.0      0.0  \n",
       "8     0.0      0.0  "
      ]
     },
     "execution_count": 58,
     "metadata": {},
     "output_type": "execute_result"
    }
   ],
   "source": [
    "filtered_rows.head()"
   ]
  },
  {
   "cell_type": "code",
   "execution_count": 59,
   "id": "cde41d31",
   "metadata": {},
   "outputs": [],
   "source": [
    "#Create the new column and redife all as S category after filtering the above code\n",
    "filtered_rows['Final1'] = 'S'"
   ]
  },
  {
   "cell_type": "code",
   "execution_count": 60,
   "id": "09c55130",
   "metadata": {},
   "outputs": [],
   "source": [
    "#update the 'Final' column is the original Dataframe based on the filtered_rows\n",
    "merged_data1['Final'] = filtered_rows['Final1'].combine_first(merged_data1['Final'])"
   ]
  },
  {
   "cell_type": "code",
   "execution_count": 61,
   "id": "1093865d",
   "metadata": {},
   "outputs": [
    {
     "data": {
      "text/plain": [
       "S    103\n",
       "F     38\n",
       "N     24\n",
       "Name: Final, dtype: int64"
      ]
     },
     "execution_count": 61,
     "metadata": {},
     "output_type": "execute_result"
    }
   ],
   "source": [
    "merged_data1['Final'].value_counts()"
   ]
  },
  {
   "cell_type": "code",
   "execution_count": 62,
   "id": "0d4fe659",
   "metadata": {},
   "outputs": [
    {
     "data": {
      "text/plain": [
       "Index(['Material', 'Description', 'UOM', 'InvQty', 'Value', 'Dept', 'Category',\n",
       "       '2020-21', '2021-22', '2022-23', 'Final', '_merge', 'RecQty', 'OpeQty',\n",
       "       'consqty'],\n",
       "      dtype='object')"
      ]
     },
     "execution_count": 62,
     "metadata": {},
     "output_type": "execute_result"
    }
   ],
   "source": [
    "merged_data1.columns"
   ]
  },
  {
   "cell_type": "code",
   "execution_count": 63,
   "id": "86d5c308",
   "metadata": {},
   "outputs": [],
   "source": [
    "FinalNMI = merged_data1[['Material', 'Description', 'UOM', 'InvQty', 'Value', 'Final','Dept', 'Category']]"
   ]
  },
  {
   "cell_type": "code",
   "execution_count": 64,
   "id": "e29df6c8",
   "metadata": {},
   "outputs": [
    {
     "data": {
      "text/html": [
       "<div>\n",
       "<style scoped>\n",
       "    .dataframe tbody tr th:only-of-type {\n",
       "        vertical-align: middle;\n",
       "    }\n",
       "\n",
       "    .dataframe tbody tr th {\n",
       "        vertical-align: top;\n",
       "    }\n",
       "\n",
       "    .dataframe thead th {\n",
       "        text-align: right;\n",
       "    }\n",
       "</style>\n",
       "<table border=\"1\" class=\"dataframe\">\n",
       "  <thead>\n",
       "    <tr style=\"text-align: right;\">\n",
       "      <th></th>\n",
       "      <th>Material</th>\n",
       "      <th>Description</th>\n",
       "      <th>UOM</th>\n",
       "      <th>InvQty</th>\n",
       "      <th>Value</th>\n",
       "      <th>Final</th>\n",
       "      <th>Dept</th>\n",
       "      <th>Category</th>\n",
       "    </tr>\n",
       "  </thead>\n",
       "  <tbody>\n",
       "    <tr>\n",
       "      <th>0</th>\n",
       "      <td>1711015911</td>\n",
       "      <td>CYL BRG OIL RG LP, DWG: A192.07.32E02</td>\n",
       "      <td>EA</td>\n",
       "      <td>5</td>\n",
       "      <td>50000.0</td>\n",
       "      <td>N</td>\n",
       "      <td>MMD</td>\n",
       "      <td>Essential</td>\n",
       "    </tr>\n",
       "    <tr>\n",
       "      <th>1</th>\n",
       "      <td>2407912193</td>\n",
       "      <td>FILL PACK M67, PN:PT NO # 80-43073-11</td>\n",
       "      <td>EA</td>\n",
       "      <td>1</td>\n",
       "      <td>100000.0</td>\n",
       "      <td>N</td>\n",
       "      <td>C&amp;I</td>\n",
       "      <td>Essential</td>\n",
       "    </tr>\n",
       "    <tr>\n",
       "      <th>2</th>\n",
       "      <td>3290909123</td>\n",
       "      <td>OIL FILTERATION PLANT, 6KLPH, GEE. DEE VAC</td>\n",
       "      <td>EA</td>\n",
       "      <td>2</td>\n",
       "      <td>252520.0</td>\n",
       "      <td>N</td>\n",
       "      <td>CHM</td>\n",
       "      <td>Essential</td>\n",
       "    </tr>\n",
       "    <tr>\n",
       "      <th>3</th>\n",
       "      <td>7787931241</td>\n",
       "      <td>DISK STACK,100DLC,2CH,6IN,. MM: 100 DLC-2CH</td>\n",
       "      <td>EA</td>\n",
       "      <td>5</td>\n",
       "      <td>2555500.0</td>\n",
       "      <td>N</td>\n",
       "      <td>MBO</td>\n",
       "      <td>Desirable</td>\n",
       "    </tr>\n",
       "    <tr>\n",
       "      <th>4</th>\n",
       "      <td>7190990183</td>\n",
       "      <td>PLCC CARD P1LA RF AMPLIFIER FOR ETL-41</td>\n",
       "      <td>EA</td>\n",
       "      <td>9</td>\n",
       "      <td>1000000.0</td>\n",
       "      <td>S</td>\n",
       "      <td>EMD</td>\n",
       "      <td>Desirable</td>\n",
       "    </tr>\n",
       "    <tr>\n",
       "      <th>...</th>\n",
       "      <td>...</td>\n",
       "      <td>...</td>\n",
       "      <td>...</td>\n",
       "      <td>...</td>\n",
       "      <td>...</td>\n",
       "      <td>...</td>\n",
       "      <td>...</td>\n",
       "      <td>...</td>\n",
       "    </tr>\n",
       "    <tr>\n",
       "      <th>160</th>\n",
       "      <td>3290909122</td>\n",
       "      <td>OIL FILTERATION PLANT, 6KLPH, GEE. DEE VAC</td>\n",
       "      <td>EA</td>\n",
       "      <td>9</td>\n",
       "      <td>500000.0</td>\n",
       "      <td>N</td>\n",
       "      <td>MMD</td>\n",
       "      <td>Essential</td>\n",
       "    </tr>\n",
       "    <tr>\n",
       "      <th>161</th>\n",
       "      <td>3290909123</td>\n",
       "      <td>OIL FILTERATION PLANT, 6KLPH, GEE. DEE VAC</td>\n",
       "      <td>EA</td>\n",
       "      <td>10</td>\n",
       "      <td>1700000.0</td>\n",
       "      <td>N</td>\n",
       "      <td>MMD</td>\n",
       "      <td>Essential</td>\n",
       "    </tr>\n",
       "    <tr>\n",
       "      <th>162</th>\n",
       "      <td>3290909124</td>\n",
       "      <td>OIL FILTERATION PLANT, 6KLPH, GEE. DEE VAC</td>\n",
       "      <td>EA</td>\n",
       "      <td>6</td>\n",
       "      <td>1800000.0</td>\n",
       "      <td>N</td>\n",
       "      <td>MMD</td>\n",
       "      <td>Essential</td>\n",
       "    </tr>\n",
       "    <tr>\n",
       "      <th>163</th>\n",
       "      <td>3290909125</td>\n",
       "      <td>OIL FILTERATION PLANT, 6KLPH, GEE. DEE VAC</td>\n",
       "      <td>EA</td>\n",
       "      <td>9</td>\n",
       "      <td>1900000.0</td>\n",
       "      <td>N</td>\n",
       "      <td>MMD</td>\n",
       "      <td>Essential</td>\n",
       "    </tr>\n",
       "    <tr>\n",
       "      <th>164</th>\n",
       "      <td>3290909126</td>\n",
       "      <td>OIL FILTERATION PLANT, 6KLPH, GEE. DEE VAC</td>\n",
       "      <td>EA</td>\n",
       "      <td>10</td>\n",
       "      <td>1600000.0</td>\n",
       "      <td>N</td>\n",
       "      <td>MMD</td>\n",
       "      <td>Essential</td>\n",
       "    </tr>\n",
       "  </tbody>\n",
       "</table>\n",
       "<p>165 rows × 8 columns</p>\n",
       "</div>"
      ],
      "text/plain": [
       "       Material                                  Description UOM  InvQty  \\\n",
       "0    1711015911        CYL BRG OIL RG LP, DWG: A192.07.32E02  EA       5   \n",
       "1    2407912193        FILL PACK M67, PN:PT NO # 80-43073-11  EA       1   \n",
       "2    3290909123   OIL FILTERATION PLANT, 6KLPH, GEE. DEE VAC  EA       2   \n",
       "3    7787931241  DISK STACK,100DLC,2CH,6IN,. MM: 100 DLC-2CH  EA       5   \n",
       "4    7190990183       PLCC CARD P1LA RF AMPLIFIER FOR ETL-41  EA       9   \n",
       "..          ...                                          ...  ..     ...   \n",
       "160  3290909122   OIL FILTERATION PLANT, 6KLPH, GEE. DEE VAC  EA       9   \n",
       "161  3290909123   OIL FILTERATION PLANT, 6KLPH, GEE. DEE VAC  EA      10   \n",
       "162  3290909124   OIL FILTERATION PLANT, 6KLPH, GEE. DEE VAC  EA       6   \n",
       "163  3290909125   OIL FILTERATION PLANT, 6KLPH, GEE. DEE VAC  EA       9   \n",
       "164  3290909126   OIL FILTERATION PLANT, 6KLPH, GEE. DEE VAC  EA      10   \n",
       "\n",
       "         Value Final Dept   Category  \n",
       "0      50000.0     N  MMD  Essential  \n",
       "1     100000.0     N  C&I  Essential  \n",
       "2     252520.0     N  CHM  Essential  \n",
       "3    2555500.0     N  MBO  Desirable  \n",
       "4    1000000.0     S  EMD  Desirable  \n",
       "..         ...   ...  ...        ...  \n",
       "160   500000.0     N  MMD  Essential  \n",
       "161  1700000.0     N  MMD  Essential  \n",
       "162  1800000.0     N  MMD  Essential  \n",
       "163  1900000.0     N  MMD  Essential  \n",
       "164  1600000.0     N  MMD  Essential  \n",
       "\n",
       "[165 rows x 8 columns]"
      ]
     },
     "execution_count": 64,
     "metadata": {},
     "output_type": "execute_result"
    }
   ],
   "source": [
    "FinalNMI"
   ]
  },
  {
   "cell_type": "code",
   "execution_count": 65,
   "id": "6808956b",
   "metadata": {},
   "outputs": [],
   "source": [
    "FinalNMI.to_csv('FinalClass.csv')"
   ]
  },
  {
   "cell_type": "code",
   "execution_count": 66,
   "id": "deee9f62",
   "metadata": {},
   "outputs": [
    {
     "data": {
      "image/png": "[encoded data removed]",
      "text/plain": [
       "<Figure size 1000x800 with 1 Axes>"
      ]
     },
     "metadata": {},
     "output_type": "display_data"
    }
   ],
   "source": [
    "colors = ['cornflowerblue', 'cyan', 'slateblue']\n",
    "explode = (0.001, 0.001,0.1)\n",
    "plt.figure(figsize = (10,8))\n",
    "FinalNMI['Final'].value_counts().plot.pie(autopct = '%1.1f%%', shadow = True, explode = explode, colors = colors)\n",
    "plt.title(\"FSN Class Distribution\")\n",
    "plt.show()"
   ]
  },
  {
   "cell_type": "code",
   "execution_count": 67,
   "id": "07f44324",
   "metadata": {},
   "outputs": [],
   "source": [
    "VED_group = FinalNMI.groupby(['Final', 'Category'])['Value'].sum().reset_index()"
   ]
  },
  {
   "cell_type": "code",
   "execution_count": 68,
   "id": "d0cbe4d9",
   "metadata": {},
   "outputs": [
    {
     "data": {
      "text/html": [
       "<div>\n",
       "<style scoped>\n",
       "    .dataframe tbody tr th:only-of-type {\n",
       "        vertical-align: middle;\n",
       "    }\n",
       "\n",
       "    .dataframe tbody tr th {\n",
       "        vertical-align: top;\n",
       "    }\n",
       "\n",
       "    .dataframe thead th {\n",
       "        text-align: right;\n",
       "    }\n",
       "</style>\n",
       "<table border=\"1\" class=\"dataframe\">\n",
       "  <thead>\n",
       "    <tr style=\"text-align: right;\">\n",
       "      <th></th>\n",
       "      <th>0</th>\n",
       "      <th>1</th>\n",
       "      <th>2</th>\n",
       "      <th>3</th>\n",
       "      <th>4</th>\n",
       "    </tr>\n",
       "  </thead>\n",
       "  <tbody>\n",
       "    <tr>\n",
       "      <th>Final</th>\n",
       "      <td>F</td>\n",
       "      <td>N</td>\n",
       "      <td>N</td>\n",
       "      <td>S</td>\n",
       "      <td>S</td>\n",
       "    </tr>\n",
       "    <tr>\n",
       "      <th>Category</th>\n",
       "      <td>Desirable</td>\n",
       "      <td>Desirable</td>\n",
       "      <td>Essential</td>\n",
       "      <td>Desirable</td>\n",
       "      <td>Essential</td>\n",
       "    </tr>\n",
       "    <tr>\n",
       "      <th>Value</th>\n",
       "      <td>52600000.0</td>\n",
       "      <td>4155500.0</td>\n",
       "      <td>25282520.0</td>\n",
       "      <td>43600000.0</td>\n",
       "      <td>78200000.0</td>\n",
       "    </tr>\n",
       "    <tr>\n",
       "      <th>Total in Crs</th>\n",
       "      <td>5.26</td>\n",
       "      <td>0.41555</td>\n",
       "      <td>2.528252</td>\n",
       "      <td>4.36</td>\n",
       "      <td>7.82</td>\n",
       "    </tr>\n",
       "  </tbody>\n",
       "</table>\n",
       "</div>"
      ],
      "text/plain": [
       "                       0          1           2           3           4\n",
       "Final                  F          N           N           S           S\n",
       "Category       Desirable  Desirable   Essential   Desirable   Essential\n",
       "Value         52600000.0  4155500.0  25282520.0  43600000.0  78200000.0\n",
       "Total in Crs        5.26    0.41555    2.528252        4.36        7.82"
      ]
     },
     "execution_count": 68,
     "metadata": {},
     "output_type": "execute_result"
    }
   ],
   "source": [
    "VED_group['Total in Crs'] = VED_group['Value']/1e7\n",
    "VED_group.T"
   ]
  },
  {
   "cell_type": "markdown",
   "id": "bc4b8580",
   "metadata": {},
   "source": [
    "<div style=\"text-align:center; background-color:black; color:orange; font-size:25px; padding:20px;\">\n",
    "    <strong>===========X===========X===========X=========X========</strong>\n",
    "</div>"
   ]
  },
  {
   "cell_type": "markdown",
   "id": "82fdcbbe",
   "metadata": {},
   "source": [
    "<div style=\"text-align:center; background-color:black; color:lightgreen; font-size:45px; padding:20px;\">\n",
    "    <strong>Visualization</strong>\n",
    "</div>"
   ]
  },
  {
   "cell_type": "code",
   "execution_count": 90,
   "id": "b2d1cffe",
   "metadata": {},
   "outputs": [],
   "source": [
    "#filter Datafrom for 'F' ,'S' and 'N' Categories\n",
    "df_s = FinalNMI[FinalNMI['Final'] == 'S']\n",
    "df_n = FinalNMI[FinalNMI['Final'] == 'N']\n",
    "df_f = FinalNMI[FinalNMI['Final'] == 'F']\n"
   ]
  },
  {
   "cell_type": "markdown",
   "id": "fa047dbc",
   "metadata": {},
   "source": [
    "<div style=\"text-align:center; color:darkblue; font-size:20px; padding:20px;\">\n",
    "    <strong>Visualization Deparment wise </strong>\n",
    "</div>"
   ]
  },
  {
   "cell_type": "code",
   "execution_count": 94,
   "id": "94e390cd",
   "metadata": {},
   "outputs": [
    {
     "data": {
      "application/vnd.plotly.v1+json": {
       "config": {
        "plotlyServerURL": "https://plot.ly"
       },
       "data": [
        {
         "domain": {
          "x": [
           0,
           1
          ],
          "y": [
           0,
           1
          ]
         },
         "hole": 0.4,
         "hovertemplate": "Dept=%{label}<extra></extra>",
         "labels": [
          "EMD",
          "EMD",
          "EMD",
          "EMD",
          "F&S",
          "CMS",
          "SEC",
          "STR",
          "CHM",
          "CCO",
          "MBO",
          "SEC",
          "MBO",
          "EYS",
          "EMD",
          "CMS",
          "SEC",
          "STR",
          "CHM",
          "MMD",
          "C&I",
          "CHM",
          "F&S",
          "CMS",
          "SEC",
          "STR",
          "CHM",
          "BA6",
          "MT6",
          "MMD",
          "MBO",
          "SEC",
          "MBO",
          "EYS",
          "EMD",
          "CMS",
          "SEC",
          "STR",
          "CHM",
          "BA6",
          "MT6",
          "MMD",
          "MBO",
          "SEC",
          "MBO",
          "EYS",
          "EMD",
          "MMD",
          "C&I",
          "CHM",
          "F&S",
          "CMS",
          "SEC",
          "STR",
          "CHM",
          "BA6",
          "MT6",
          "MMD",
          "MBO",
          "SEC",
          "MBO",
          "EYS",
          "EMD",
          "CMS",
          "SEC",
          "STR",
          "CHM",
          "BA6",
          "MT6",
          "MMD",
          "MBO",
          "SEC",
          "MBO",
          "EYS",
          "EMD",
          "MMD",
          "C&I",
          "CHM",
          "F&S",
          "CMS",
          "SEC",
          "STR",
          "CHM",
          "BA6",
          "MT6",
          "MMD",
          "MBO",
          "SEC",
          "MBO",
          "EYS",
          "EMD",
          "CMS",
          "SEC",
          "STR",
          "CHM",
          "BA6",
          "MT6",
          "MMD",
          "MBO",
          "SEC",
          "MBO",
          "EYS",
          "EMD"
         ],
         "legendgroup": "",
         "name": "",
         "showlegend": true,
         "type": "pie"
        }
       ],
       "layout": {
        "legend": {
         "title": {
          "text": "Department"
         },
         "tracegroupgap": 0
        },
        "piecolorway": [
         "skyblue"
        ],
        "showlegend": true,
        "template": {
         "data": {
          "bar": [
           {
            "error_x": {
             "color": "#2a3f5f"
            },
            "error_y": {
             "color": "#2a3f5f"
            },
            "marker": {
             "line": {
              "color": "#E5ECF6",
              "width": 0.5
             },
             "pattern": {
              "fillmode": "overlay",
              "size": 10,
              "solidity": 0.2
             }
            },
            "type": "bar"
           }
          ],
          "barpolar": [
           {
            "marker": {
             "line": {
              "color": "#E5ECF6",
              "width": 0.5
             },
             "pattern": {
              "fillmode": "overlay",
              "size": 10,
              "solidity": 0.2
             }
            },
            "type": "barpolar"
           }
          ],
          "carpet": [
           {
            "aaxis": {
             "endlinecolor": "#2a3f5f",
             "gridcolor": "white",
             "linecolor": "white",
             "minorgridcolor": "white",
             "startlinecolor": "#2a3f5f"
            },
            "baxis": {
             "endlinecolor": "#2a3f5f",
             "gridcolor": "white",
             "linecolor": "white",
             "minorgridcolor": "white",
             "startlinecolor": "#2a3f5f"
            },
            "type": "carpet"
           }
          ],
          "choropleth": [
           {
            "colorbar": {
             "outlinewidth": 0,
             "ticks": ""
            },
            "type": "choropleth"
           }
          ],
          "contour": [
           {
            "colorbar": {
             "outlinewidth": 0,
             "ticks": ""
            },
            "colorscale": [
             [
              0,
              "#0d0887"
             ],
             [
              0.1111111111111111,
              "#46039f"
             ],
             [
              0.2222222222222222,
              "#7201a8"
             ],
             [
              0.3333333333333333,
              "#9c179e"
             ],
             [
              0.4444444444444444,
              "#bd3786"
             ],
             [
              0.5555555555555556,
              "#d8576b"
             ],
             [
              0.6666666666666666,
              "#ed7953"
             ],
             [
              0.7777777777777778,
              "#fb9f3a"
             ],
             [
              0.8888888888888888,
              "#fdca26"
             ],
             [
              1,
              "#f0f921"
             ]
            ],
            "type": "contour"
           }
          ],
          "contourcarpet": [
           {
            "colorbar": {
             "outlinewidth": 0,
             "ticks": ""
            },
            "type": "contourcarpet"
           }
          ],
          "heatmap": [
           {
            "colorbar": {
             "outlinewidth": 0,
             "ticks": ""
            },
            "colorscale": [
             [
              0,
              "#0d0887"
             ],
             [
              0.1111111111111111,
              "#46039f"
             ],
             [
              0.2222222222222222,
              "#7201a8"
             ],
             [
              0.3333333333333333,
              "#9c179e"
             ],
             [
              0.4444444444444444,
              "#bd3786"
             ],
             [
              0.5555555555555556,
              "#d8576b"
             ],
             [
              0.6666666666666666,
              "#ed7953"
             ],
             [
              0.7777777777777778,
              "#fb9f3a"
             ],
             [
              0.8888888888888888,
              "#fdca26"
             ],
             [
              1,
              "#f0f921"
             ]
            ],
            "type": "heatmap"
           }
          ],
          "heatmapgl": [
           {
            "colorbar": {
             "outlinewidth": 0,
             "ticks": ""
            },
            "colorscale": [
             [
              0,
              "#0d0887"
             ],
             [
              0.1111111111111111,
              "#46039f"
             ],
             [
              0.2222222222222222,
              "#7201a8"
             ],
             [
              0.3333333333333333,
              "#9c179e"
             ],
             [
              0.4444444444444444,
              "#bd3786"
             ],
             [
              0.5555555555555556,
              "#d8576b"
             ],
             [
              0.6666666666666666,
              "#ed7953"
             ],
             [
              0.7777777777777778,
              "#fb9f3a"
             ],
             [
              0.8888888888888888,
              "#fdca26"
             ],
             [
              1,
              "#f0f921"
             ]
            ],
            "type": "heatmapgl"
           }
          ],
          "histogram": [
           {
            "marker": {
             "pattern": {
              "fillmode": "overlay",
              "size": 10,
              "solidity": 0.2
             }
            },
            "type": "histogram"
           }
          ],
          "histogram2d": [
           {
            "colorbar": {
             "outlinewidth": 0,
             "ticks": ""
            },
            "colorscale": [
             [
              0,
              "#0d0887"
             ],
             [
              0.1111111111111111,
              "#46039f"
             ],
             [
              0.2222222222222222,
              "#7201a8"
             ],
             [
              0.3333333333333333,
              "#9c179e"
             ],
             [
              0.4444444444444444,
              "#bd3786"
             ],
             [
              0.5555555555555556,
              "#d8576b"
             ],
             [
              0.6666666666666666,
              "#ed7953"
             ],
             [
              0.7777777777777778,
              "#fb9f3a"
             ],
             [
              0.8888888888888888,
              "#fdca26"
             ],
             [
              1,
              "#f0f921"
             ]
            ],
            "type": "histogram2d"
           }
          ],
          "histogram2dcontour": [
           {
            "colorbar": {
             "outlinewidth": 0,
             "ticks": ""
            },
            "colorscale": [
             [
              0,
              "#0d0887"
             ],
             [
              0.1111111111111111,
              "#46039f"
             ],
             [
              0.2222222222222222,
              "#7201a8"
             ],
             [
              0.3333333333333333,
              "#9c179e"
             ],
             [
              0.4444444444444444,
              "#bd3786"
             ],
             [
              0.5555555555555556,
              "#d8576b"
             ],
             [
              0.6666666666666666,
              "#ed7953"
             ],
             [
              0.7777777777777778,
              "#fb9f3a"
             ],
             [
              0.8888888888888888,
              "#fdca26"
             ],
             [
              1,
              "#f0f921"
             ]
            ],
            "type": "histogram2dcontour"
           }
          ],
          "mesh3d": [
           {
            "colorbar": {
             "outlinewidth": 0,
             "ticks": ""
            },
            "type": "mesh3d"
           }
          ],
          "parcoords": [
           {
            "line": {
             "colorbar": {
              "outlinewidth": 0,
              "ticks": ""
             }
            },
            "type": "parcoords"
           }
          ],
          "pie": [
           {
            "automargin": true,
            "type": "pie"
           }
          ],
          "scatter": [
           {
            "fillpattern": {
             "fillmode": "overlay",
             "size": 10,
             "solidity": 0.2
            },
            "type": "scatter"
           }
          ],
          "scatter3d": [
           {
            "line": {
             "colorbar": {
              "outlinewidth": 0,
              "ticks": ""
             }
            },
            "marker": {
             "colorbar": {
              "outlinewidth": 0,
              "ticks": ""
             }
            },
            "type": "scatter3d"
           }
          ],
          "scattercarpet": [
           {
            "marker": {
             "colorbar": {
              "outlinewidth": 0,
              "ticks": ""
             }
            },
            "type": "scattercarpet"
           }
          ],
          "scattergeo": [
           {
            "marker": {
             "colorbar": {
              "outlinewidth": 0,
              "ticks": ""
             }
            },
            "type": "scattergeo"
           }
          ],
          "scattergl": [
           {
            "marker": {
             "colorbar": {
              "outlinewidth": 0,
              "ticks": ""
             }
            },
            "type": "scattergl"
           }
          ],
          "scattermapbox": [
           {
            "marker": {
             "colorbar": {
              "outlinewidth": 0,
              "ticks": ""
             }
            },
            "type": "scattermapbox"
           }
          ],
          "scatterpolar": [
           {
            "marker": {
             "colorbar": {
              "outlinewidth": 0,
              "ticks": ""
             }
            },
            "type": "scatterpolar"
           }
          ],
          "scatterpolargl": [
           {
            "marker": {
             "colorbar": {
              "outlinewidth": 0,
              "ticks": ""
             }
            },
            "type": "scatterpolargl"
           }
          ],
          "scatterternary": [
           {
            "marker": {
             "colorbar": {
              "outlinewidth": 0,
              "ticks": ""
             }
            },
            "type": "scatterternary"
           }
          ],
          "surface": [
           {
            "colorbar": {
             "outlinewidth": 0,
             "ticks": ""
            },
            "colorscale": [
             [
              0,
              "#0d0887"
             ],
             [
              0.1111111111111111,
              "#46039f"
             ],
             [
              0.2222222222222222,
              "#7201a8"
             ],
             [
              0.3333333333333333,
              "#9c179e"
             ],
             [
              0.4444444444444444,
              "#bd3786"
             ],
             [
              0.5555555555555556,
              "#d8576b"
             ],
             [
              0.6666666666666666,
              "#ed7953"
             ],
             [
              0.7777777777777778,
              "#fb9f3a"
             ],
             [
              0.8888888888888888,
              "#fdca26"
             ],
             [
              1,
              "#f0f921"
             ]
            ],
            "type": "surface"
           }
          ],
          "table": [
           {
            "cells": {
             "fill": {
              "color": "#EBF0F8"
             },
             "line": {
              "color": "white"
             }
            },
            "header": {
             "fill": {
              "color": "#C8D4E3"
             },
             "line": {
              "color": "white"
             }
            },
            "type": "table"
           }
          ]
         },
         "layout": {
          "annotationdefaults": {
           "arrowcolor": "#2a3f5f",
           "arrowhead": 0,
           "arrowwidth": 1
          },
          "autotypenumbers": "strict",
          "coloraxis": {
           "colorbar": {
            "outlinewidth": 0,
            "ticks": ""
           }
          },
          "colorscale": {
           "diverging": [
            [
             0,
             "#8e0152"
            ],
            [
             0.1,
             "#c51b7d"
            ],
            [
             0.2,
             "#de77ae"
            ],
            [
             0.3,
             "#f1b6da"
            ],
            [
             0.4,
             "#fde0ef"
            ],
            [
             0.5,
             "#f7f7f7"
            ],
            [
             0.6,
             "#e6f5d0"
            ],
            [
             0.7,
             "#b8e186"
            ],
            [
             0.8,
             "#7fbc41"
            ],
            [
             0.9,
             "#4d9221"
            ],
            [
             1,
             "#276419"
            ]
           ],
           "sequential": [
            [
             0,
             "#0d0887"
            ],
            [
             0.1111111111111111,
             "#46039f"
            ],
            [
             0.2222222222222222,
             "#7201a8"
            ],
            [
             0.3333333333333333,
             "#9c179e"
            ],
            [
             0.4444444444444444,
             "#bd3786"
            ],
            [
             0.5555555555555556,
             "#d8576b"
            ],
            [
             0.6666666666666666,
             "#ed7953"
            ],
            [
             0.7777777777777778,
             "#fb9f3a"
            ],
            [
             0.8888888888888888,
             "#fdca26"
            ],
            [
             1,
             "#f0f921"
            ]
           ],
           "sequentialminus": [
            [
             0,
             "#0d0887"
            ],
            [
             0.1111111111111111,
             "#46039f"
            ],
            [
             0.2222222222222222,
             "#7201a8"
            ],
            [
             0.3333333333333333,
             "#9c179e"
            ],
            [
             0.4444444444444444,
             "#bd3786"
            ],
            [
             0.5555555555555556,
             "#d8576b"
            ],
            [
             0.6666666666666666,
             "#ed7953"
            ],
            [
             0.7777777777777778,
             "#fb9f3a"
            ],
            [
             0.8888888888888888,
             "#fdca26"
            ],
            [
             1,
             "#f0f921"
            ]
           ]
          },
          "colorway": [
           "#636efa",
           "#EF553B",
           "#00cc96",
           "#ab63fa",
           "#FFA15A",
           "#19d3f3",
           "#FF6692",
           "#B6E880",
           "#FF97FF",
           "#FECB52"
          ],
          "font": {
           "color": "#2a3f5f"
          },
          "geo": {
           "bgcolor": "white",
           "lakecolor": "white",
           "landcolor": "#E5ECF6",
           "showlakes": true,
           "showland": true,
           "subunitcolor": "white"
          },
          "hoverlabel": {
           "align": "left"
          },
          "hovermode": "closest",
          "mapbox": {
           "style": "light"
          },
          "paper_bgcolor": "white",
          "plot_bgcolor": "#E5ECF6",
          "polar": {
           "angularaxis": {
            "gridcolor": "white",
            "linecolor": "white",
            "ticks": ""
           },
           "bgcolor": "#E5ECF6",
           "radialaxis": {
            "gridcolor": "white",
            "linecolor": "white",
            "ticks": ""
           }
          },
          "scene": {
           "xaxis": {
            "backgroundcolor": "#E5ECF6",
            "gridcolor": "white",
            "gridwidth": 2,
            "linecolor": "white",
            "showbackground": true,
            "ticks": "",
            "zerolinecolor": "white"
           },
           "yaxis": {
            "backgroundcolor": "#E5ECF6",
            "gridcolor": "white",
            "gridwidth": 2,
            "linecolor": "white",
            "showbackground": true,
            "ticks": "",
            "zerolinecolor": "white"
           },
           "zaxis": {
            "backgroundcolor": "#E5ECF6",
            "gridcolor": "white",
            "gridwidth": 2,
            "linecolor": "white",
            "showbackground": true,
            "ticks": "",
            "zerolinecolor": "white"
           }
          },
          "shapedefaults": {
           "line": {
            "color": "#2a3f5f"
           }
          },
          "ternary": {
           "aaxis": {
            "gridcolor": "white",
            "linecolor": "white",
            "ticks": ""
           },
           "baxis": {
            "gridcolor": "white",
            "linecolor": "white",
            "ticks": ""
           },
           "bgcolor": "#E5ECF6",
           "caxis": {
            "gridcolor": "white",
            "linecolor": "white",
            "ticks": ""
           }
          },
          "title": {
           "x": 0.05
          },
          "xaxis": {
           "automargin": true,
           "gridcolor": "white",
           "linecolor": "white",
           "ticks": "",
           "title": {
            "standoff": 15
           },
           "zerolinecolor": "white",
           "zerolinewidth": 2
          },
          "yaxis": {
           "automargin": true,
           "gridcolor": "white",
           "linecolor": "white",
           "ticks": "",
           "title": {
            "standoff": 15
           },
           "zerolinecolor": "white",
           "zerolinewidth": 2
          }
         }
        },
        "title": {
         "text": "Fsn Distribution-Category S"
        }
       }
      },
      "text/html": [
       "<div>                            <div id=\"b6984d17-682a-46da-943d-75ccdcd469fa\" class=\"plotly-graph-div\" style=\"height:525px; width:100%;\"></div>            <script type=\"text/javascript\">                require([\"plotly\"], function(Plotly) {                    window.PLOTLYENV=window.PLOTLYENV || {};                                    if (document.getElementById(\"b6984d17-682a-46da-943d-75ccdcd469fa\")) {                    Plotly.newPlot(                        \"b6984d17-682a-46da-943d-75ccdcd469fa\",                        [{\"domain\":{\"x\":[0.0,1.0],\"y\":[0.0,1.0]},\"hole\":0.4,\"hovertemplate\":\"Dept=%{label}<extra></extra>\",\"labels\":[\"EMD\",\"EMD\",\"EMD\",\"EMD\",\"F&S\",\"CMS\",\"SEC\",\"STR\",\"CHM\",\"CCO\",\"MBO\",\"SEC\",\"MBO\",\"EYS\",\"EMD\",\"CMS\",\"SEC\",\"STR\",\"CHM\",\"MMD\",\"C&I\",\"CHM\",\"F&S\",\"CMS\",\"SEC\",\"STR\",\"CHM\",\"BA6\",\"MT6\",\"MMD\",\"MBO\",\"SEC\",\"MBO\",\"EYS\",\"EMD\",\"CMS\",\"SEC\",\"STR\",\"CHM\",\"BA6\",\"MT6\",\"MMD\",\"MBO\",\"SEC\",\"MBO\",\"EYS\",\"EMD\",\"MMD\",\"C&I\",\"CHM\",\"F&S\",\"CMS\",\"SEC\",\"STR\",\"CHM\",\"BA6\",\"MT6\",\"MMD\",\"MBO\",\"SEC\",\"MBO\",\"EYS\",\"EMD\",\"CMS\",\"SEC\",\"STR\",\"CHM\",\"BA6\",\"MT6\",\"MMD\",\"MBO\",\"SEC\",\"MBO\",\"EYS\",\"EMD\",\"MMD\",\"C&I\",\"CHM\",\"F&S\",\"CMS\",\"SEC\",\"STR\",\"CHM\",\"BA6\",\"MT6\",\"MMD\",\"MBO\",\"SEC\",\"MBO\",\"EYS\",\"EMD\",\"CMS\",\"SEC\",\"STR\",\"CHM\",\"BA6\",\"MT6\",\"MMD\",\"MBO\",\"SEC\",\"MBO\",\"EYS\",\"EMD\"],\"legendgroup\":\"\",\"name\":\"\",\"showlegend\":true,\"type\":\"pie\"}],                        {\"template\":{\"data\":{\"histogram2dcontour\":[{\"type\":\"histogram2dcontour\",\"colorbar\":{\"outlinewidth\":0,\"ticks\":\"\"},\"colorscale\":[[0.0,\"#0d0887\"],[0.1111111111111111,\"#46039f\"],[0.2222222222222222,\"#7201a8\"],[0.3333333333333333,\"#9c179e\"],[0.4444444444444444,\"#bd3786\"],[0.5555555555555556,\"#d8576b\"],[0.6666666666666666,\"#ed7953\"],[0.7777777777777778,\"#fb9f3a\"],[0.8888888888888888,\"#fdca26\"],[1.0,\"#f0f921\"]]}],\"choropleth\":[{\"type\":\"choropleth\",\"colorbar\":{\"outlinewidth\":0,\"ticks\":\"\"}}],\"histogram2d\":[{\"type\":\"histogram2d\",\"colorbar\":{\"outlinewidth\":0,\"ticks\":\"\"},\"colorscale\":[[0.0,\"#0d0887\"],[0.1111111111111111,\"#46039f\"],[0.2222222222222222,\"#7201a8\"],[0.3333333333333333,\"#9c179e\"],[0.4444444444444444,\"#bd3786\"],[0.5555555555555556,\"#d8576b\"],[0.6666666666666666,\"#ed7953\"],[0.7777777777777778,\"#fb9f3a\"],[0.8888888888888888,\"#fdca26\"],[1.0,\"#f0f921\"]]}],\"heatmap\":[{\"type\":\"heatmap\",\"colorbar\":{\"outlinewidth\":0,\"ticks\":\"\"},\"colorscale\":[[0.0,\"#0d0887\"],[0.1111111111111111,\"#46039f\"],[0.2222222222222222,\"#7201a8\"],[0.3333333333333333,\"#9c179e\"],[0.4444444444444444,\"#bd3786\"],[0.5555555555555556,\"#d8576b\"],[0.6666666666666666,\"#ed7953\"],[0.7777777777777778,\"#fb9f3a\"],[0.8888888888888888,\"#fdca26\"],[1.0,\"#f0f921\"]]}],\"heatmapgl\":[{\"type\":\"heatmapgl\",\"colorbar\":{\"outlinewidth\":0,\"ticks\":\"\"},\"colorscale\":[[0.0,\"#0d0887\"],[0.1111111111111111,\"#46039f\"],[0.2222222222222222,\"#7201a8\"],[0.3333333333333333,\"#9c179e\"],[0.4444444444444444,\"#bd3786\"],[0.5555555555555556,\"#d8576b\"],[0.6666666666666666,\"#ed7953\"],[0.7777777777777778,\"#fb9f3a\"],[0.8888888888888888,\"#fdca26\"],[1.0,\"#f0f921\"]]}],\"contourcarpet\":[{\"type\":\"contourcarpet\",\"colorbar\":{\"outlinewidth\":0,\"ticks\":\"\"}}],\"contour\":[{\"type\":\"contour\",\"colorbar\":{\"outlinewidth\":0,\"ticks\":\"\"},\"colorscale\":[[0.0,\"#0d0887\"],[0.1111111111111111,\"#46039f\"],[0.2222222222222222,\"#7201a8\"],[0.3333333333333333,\"#9c179e\"],[0.4444444444444444,\"#bd3786\"],[0.5555555555555556,\"#d8576b\"],[0.6666666666666666,\"#ed7953\"],[0.7777777777777778,\"#fb9f3a\"],[0.8888888888888888,\"#fdca26\"],[1.0,\"#f0f921\"]]}],\"surface\":[{\"type\":\"surface\",\"colorbar\":{\"outlinewidth\":0,\"ticks\":\"\"},\"colorscale\":[[0.0,\"#0d0887\"],[0.1111111111111111,\"#46039f\"],[0.2222222222222222,\"#7201a8\"],[0.3333333333333333,\"#9c179e\"],[0.4444444444444444,\"#bd3786\"],[0.5555555555555556,\"#d8576b\"],[0.6666666666666666,\"#ed7953\"],[0.7777777777777778,\"#fb9f3a\"],[0.8888888888888888,\"#fdca26\"],[1.0,\"#f0f921\"]]}],\"mesh3d\":[{\"type\":\"mesh3d\",\"colorbar\":{\"outlinewidth\":0,\"ticks\":\"\"}}],\"scatter\":[{\"fillpattern\":{\"fillmode\":\"overlay\",\"size\":10,\"solidity\":0.2},\"type\":\"scatter\"}],\"parcoords\":[{\"type\":\"parcoords\",\"line\":{\"colorbar\":{\"outlinewidth\":0,\"ticks\":\"\"}}}],\"scatterpolargl\":[{\"type\":\"scatterpolargl\",\"marker\":{\"colorbar\":{\"outlinewidth\":0,\"ticks\":\"\"}}}],\"bar\":[{\"error_x\":{\"color\":\"#2a3f5f\"},\"error_y\":{\"color\":\"#2a3f5f\"},\"marker\":{\"line\":{\"color\":\"#E5ECF6\",\"width\":0.5},\"pattern\":{\"fillmode\":\"overlay\",\"size\":10,\"solidity\":0.2}},\"type\":\"bar\"}],\"scattergeo\":[{\"type\":\"scattergeo\",\"marker\":{\"colorbar\":{\"outlinewidth\":0,\"ticks\":\"\"}}}],\"scatterpolar\":[{\"type\":\"scatterpolar\",\"marker\":{\"colorbar\":{\"outlinewidth\":0,\"ticks\":\"\"}}}],\"histogram\":[{\"marker\":{\"pattern\":{\"fillmode\":\"overlay\",\"size\":10,\"solidity\":0.2}},\"type\":\"histogram\"}],\"scattergl\":[{\"type\":\"scattergl\",\"marker\":{\"colorbar\":{\"outlinewidth\":0,\"ticks\":\"\"}}}],\"scatter3d\":[{\"type\":\"scatter3d\",\"line\":{\"colorbar\":{\"outlinewidth\":0,\"ticks\":\"\"}},\"marker\":{\"colorbar\":{\"outlinewidth\":0,\"ticks\":\"\"}}}],\"scattermapbox\":[{\"type\":\"scattermapbox\",\"marker\":{\"colorbar\":{\"outlinewidth\":0,\"ticks\":\"\"}}}],\"scatterternary\":[{\"type\":\"scatterternary\",\"marker\":{\"colorbar\":{\"outlinewidth\":0,\"ticks\":\"\"}}}],\"scattercarpet\":[{\"type\":\"scattercarpet\",\"marker\":{\"colorbar\":{\"outlinewidth\":0,\"ticks\":\"\"}}}],\"carpet\":[{\"aaxis\":{\"endlinecolor\":\"#2a3f5f\",\"gridcolor\":\"white\",\"linecolor\":\"white\",\"minorgridcolor\":\"white\",\"startlinecolor\":\"#2a3f5f\"},\"baxis\":{\"endlinecolor\":\"#2a3f5f\",\"gridcolor\":\"white\",\"linecolor\":\"white\",\"minorgridcolor\":\"white\",\"startlinecolor\":\"#2a3f5f\"},\"type\":\"carpet\"}],\"table\":[{\"cells\":{\"fill\":{\"color\":\"#EBF0F8\"},\"line\":{\"color\":\"white\"}},\"header\":{\"fill\":{\"color\":\"#C8D4E3\"},\"line\":{\"color\":\"white\"}},\"type\":\"table\"}],\"barpolar\":[{\"marker\":{\"line\":{\"color\":\"#E5ECF6\",\"width\":0.5},\"pattern\":{\"fillmode\":\"overlay\",\"size\":10,\"solidity\":0.2}},\"type\":\"barpolar\"}],\"pie\":[{\"automargin\":true,\"type\":\"pie\"}]},\"layout\":{\"autotypenumbers\":\"strict\",\"colorway\":[\"#636efa\",\"#EF553B\",\"#00cc96\",\"#ab63fa\",\"#FFA15A\",\"#19d3f3\",\"#FF6692\",\"#B6E880\",\"#FF97FF\",\"#FECB52\"],\"font\":{\"color\":\"#2a3f5f\"},\"hovermode\":\"closest\",\"hoverlabel\":{\"align\":\"left\"},\"paper_bgcolor\":\"white\",\"plot_bgcolor\":\"#E5ECF6\",\"polar\":{\"bgcolor\":\"#E5ECF6\",\"angularaxis\":{\"gridcolor\":\"white\",\"linecolor\":\"white\",\"ticks\":\"\"},\"radialaxis\":{\"gridcolor\":\"white\",\"linecolor\":\"white\",\"ticks\":\"\"}},\"ternary\":{\"bgcolor\":\"#E5ECF6\",\"aaxis\":{\"gridcolor\":\"white\",\"linecolor\":\"white\",\"ticks\":\"\"},\"baxis\":{\"gridcolor\":\"white\",\"linecolor\":\"white\",\"ticks\":\"\"},\"caxis\":{\"gridcolor\":\"white\",\"linecolor\":\"white\",\"ticks\":\"\"}},\"coloraxis\":{\"colorbar\":{\"outlinewidth\":0,\"ticks\":\"\"}},\"colorscale\":{\"sequential\":[[0.0,\"#0d0887\"],[0.1111111111111111,\"#46039f\"],[0.2222222222222222,\"#7201a8\"],[0.3333333333333333,\"#9c179e\"],[0.4444444444444444,\"#bd3786\"],[0.5555555555555556,\"#d8576b\"],[0.6666666666666666,\"#ed7953\"],[0.7777777777777778,\"#fb9f3a\"],[0.8888888888888888,\"#fdca26\"],[1.0,\"#f0f921\"]],\"sequentialminus\":[[0.0,\"#0d0887\"],[0.1111111111111111,\"#46039f\"],[0.2222222222222222,\"#7201a8\"],[0.3333333333333333,\"#9c179e\"],[0.4444444444444444,\"#bd3786\"],[0.5555555555555556,\"#d8576b\"],[0.6666666666666666,\"#ed7953\"],[0.7777777777777778,\"#fb9f3a\"],[0.8888888888888888,\"#fdca26\"],[1.0,\"#f0f921\"]],\"diverging\":[[0,\"#8e0152\"],[0.1,\"#c51b7d\"],[0.2,\"#de77ae\"],[0.3,\"#f1b6da\"],[0.4,\"#fde0ef\"],[0.5,\"#f7f7f7\"],[0.6,\"#e6f5d0\"],[0.7,\"#b8e186\"],[0.8,\"#7fbc41\"],[0.9,\"#4d9221\"],[1,\"#276419\"]]},\"xaxis\":{\"gridcolor\":\"white\",\"linecolor\":\"white\",\"ticks\":\"\",\"title\":{\"standoff\":15},\"zerolinecolor\":\"white\",\"automargin\":true,\"zerolinewidth\":2},\"yaxis\":{\"gridcolor\":\"white\",\"linecolor\":\"white\",\"ticks\":\"\",\"title\":{\"standoff\":15},\"zerolinecolor\":\"white\",\"automargin\":true,\"zerolinewidth\":2},\"scene\":{\"xaxis\":{\"backgroundcolor\":\"#E5ECF6\",\"gridcolor\":\"white\",\"linecolor\":\"white\",\"showbackground\":true,\"ticks\":\"\",\"zerolinecolor\":\"white\",\"gridwidth\":2},\"yaxis\":{\"backgroundcolor\":\"#E5ECF6\",\"gridcolor\":\"white\",\"linecolor\":\"white\",\"showbackground\":true,\"ticks\":\"\",\"zerolinecolor\":\"white\",\"gridwidth\":2},\"zaxis\":{\"backgroundcolor\":\"#E5ECF6\",\"gridcolor\":\"white\",\"linecolor\":\"white\",\"showbackground\":true,\"ticks\":\"\",\"zerolinecolor\":\"white\",\"gridwidth\":2}},\"shapedefaults\":{\"line\":{\"color\":\"#2a3f5f\"}},\"annotationdefaults\":{\"arrowcolor\":\"#2a3f5f\",\"arrowhead\":0,\"arrowwidth\":1},\"geo\":{\"bgcolor\":\"white\",\"landcolor\":\"#E5ECF6\",\"subunitcolor\":\"white\",\"showland\":true,\"showlakes\":true,\"lakecolor\":\"white\"},\"title\":{\"x\":0.05},\"mapbox\":{\"style\":\"light\"}}},\"legend\":{\"tracegroupgap\":0,\"title\":{\"text\":\"Department\"}},\"title\":{\"text\":\"Fsn Distribution-Category S\"},\"piecolorway\":[\"skyblue\"],\"showlegend\":true},                        {\"responsive\": true}                    ).then(function(){\n",
       "                            \n",
       "var gd = document.getElementById('b6984d17-682a-46da-943d-75ccdcd469fa');\n",
       "var x = new MutationObserver(function (mutations, observer) {{\n",
       "        var display = window.getComputedStyle(gd).display;\n",
       "        if (!display || display === 'none') {{\n",
       "            console.log([gd, 'removed!']);\n",
       "            Plotly.purge(gd);\n",
       "            observer.disconnect();\n",
       "        }}\n",
       "}});\n",
       "\n",
       "// Listen for the removal of the full notebook cells\n",
       "var notebookContainer = gd.closest('#notebook-container');\n",
       "if (notebookContainer) {{\n",
       "    x.observe(notebookContainer, {childList: true});\n",
       "}}\n",
       "\n",
       "// Listen for the clearing of the current output cell\n",
       "var outputEl = gd.closest('.output');\n",
       "if (outputEl) {{\n",
       "    x.observe(outputEl, {childList: true});\n",
       "}}\n",
       "\n",
       "                        })                };                });            </script>        </div>"
      ]
     },
     "metadata": {},
     "output_type": "display_data"
    }
   ],
   "source": [
    "#Pie chart for 'S' Category\n",
    "fig_s = px.pie(df_s, names = 'Dept', title = 'Fsn Distribution-Category S', hole = .4,\n",
    "              color_discrete_sequence = ['skyblue'])\n",
    "fig_s.update_layout(showlegend = True, legend = dict(title='Department'))\n",
    "fig_s.show()\n"
   ]
  },
  {
   "cell_type": "code",
   "execution_count": 96,
   "id": "a1b82581",
   "metadata": {},
   "outputs": [
    {
     "data": {
      "application/vnd.plotly.v1+json": {
       "config": {
        "plotlyServerURL": "https://plot.ly"
       },
       "data": [
        {
         "domain": {
          "x": [
           0,
           1
          ],
          "y": [
           0,
           1
          ]
         },
         "hole": 0.4,
         "hovertemplate": "Dept=%{label}<extra></extra>",
         "labels": [
          "MMD",
          "C&I",
          "CHM",
          "MBO",
          "BA6",
          "MT6",
          "MMD",
          "CCO",
          "BA6",
          "MT6",
          "MMD",
          "MMD",
          "MMD",
          "MMD",
          "MMD",
          "MMD",
          "MMD",
          "MMD",
          "MMD",
          "MMD",
          "MMD",
          "MMD",
          "MMD",
          "MMD"
         ],
         "legendgroup": "",
         "name": "",
         "showlegend": true,
         "type": "pie"
        }
       ],
       "layout": {
        "legend": {
         "title": {
          "text": "Department"
         },
         "tracegroupgap": 0
        },
        "piecolorway": [
         "lightcoral"
        ],
        "showlegend": true,
        "template": {
         "data": {
          "bar": [
           {
            "error_x": {
             "color": "#2a3f5f"
            },
            "error_y": {
             "color": "#2a3f5f"
            },
            "marker": {
             "line": {
              "color": "#E5ECF6",
              "width": 0.5
             },
             "pattern": {
              "fillmode": "overlay",
              "size": 10,
              "solidity": 0.2
             }
            },
            "type": "bar"
           }
          ],
          "barpolar": [
           {
            "marker": {
             "line": {
              "color": "#E5ECF6",
              "width": 0.5
             },
             "pattern": {
              "fillmode": "overlay",
              "size": 10,
              "solidity": 0.2
             }
            },
            "type": "barpolar"
           }
          ],
          "carpet": [
           {
            "aaxis": {
             "endlinecolor": "#2a3f5f",
             "gridcolor": "white",
             "linecolor": "white",
             "minorgridcolor": "white",
             "startlinecolor": "#2a3f5f"
            },
            "baxis": {
             "endlinecolor": "#2a3f5f",
             "gridcolor": "white",
             "linecolor": "white",
             "minorgridcolor": "white",
             "startlinecolor": "#2a3f5f"
            },
            "type": "carpet"
           }
          ],
          "choropleth": [
           {
            "colorbar": {
             "outlinewidth": 0,
             "ticks": ""
            },
            "type": "choropleth"
           }
          ],
          "contour": [
           {
            "colorbar": {
             "outlinewidth": 0,
             "ticks": ""
            },
            "colorscale": [
             [
              0,
              "#0d0887"
             ],
             [
              0.1111111111111111,
              "#46039f"
             ],
             [
              0.2222222222222222,
              "#7201a8"
             ],
             [
              0.3333333333333333,
              "#9c179e"
             ],
             [
              0.4444444444444444,
              "#bd3786"
             ],
             [
              0.5555555555555556,
              "#d8576b"
             ],
             [
              0.6666666666666666,
              "#ed7953"
             ],
             [
              0.7777777777777778,
              "#fb9f3a"
             ],
             [
              0.8888888888888888,
              "#fdca26"
             ],
             [
              1,
              "#f0f921"
             ]
            ],
            "type": "contour"
           }
          ],
          "contourcarpet": [
           {
            "colorbar": {
             "outlinewidth": 0,
             "ticks": ""
            },
            "type": "contourcarpet"
           }
          ],
          "heatmap": [
           {
            "colorbar": {
             "outlinewidth": 0,
             "ticks": ""
            },
            "colorscale": [
             [
              0,
              "#0d0887"
             ],
             [
              0.1111111111111111,
              "#46039f"
             ],
             [
              0.2222222222222222,
              "#7201a8"
             ],
             [
              0.3333333333333333,
              "#9c179e"
             ],
             [
              0.4444444444444444,
              "#bd3786"
             ],
             [
              0.5555555555555556,
              "#d8576b"
             ],
             [
              0.6666666666666666,
              "#ed7953"
             ],
             [
              0.7777777777777778,
              "#fb9f3a"
             ],
             [
              0.8888888888888888,
              "#fdca26"
             ],
             [
              1,
              "#f0f921"
             ]
            ],
            "type": "heatmap"
           }
          ],
          "heatmapgl": [
           {
            "colorbar": {
             "outlinewidth": 0,
             "ticks": ""
            },
            "colorscale": [
             [
              0,
              "#0d0887"
             ],
             [
              0.1111111111111111,
              "#46039f"
             ],
             [
              0.2222222222222222,
              "#7201a8"
             ],
             [
              0.3333333333333333,
              "#9c179e"
             ],
             [
              0.4444444444444444,
              "#bd3786"
             ],
             [
              0.5555555555555556,
              "#d8576b"
             ],
             [
              0.6666666666666666,
              "#ed7953"
             ],
             [
              0.7777777777777778,
              "#fb9f3a"
             ],
             [
              0.8888888888888888,
              "#fdca26"
             ],
             [
              1,
              "#f0f921"
             ]
            ],
            "type": "heatmapgl"
           }
          ],
          "histogram": [
           {
            "marker": {
             "pattern": {
              "fillmode": "overlay",
              "size": 10,
              "solidity": 0.2
             }
            },
            "type": "histogram"
           }
          ],
          "histogram2d": [
           {
            "colorbar": {
             "outlinewidth": 0,
             "ticks": ""
            },
            "colorscale": [
             [
              0,
              "#0d0887"
             ],
             [
              0.1111111111111111,
              "#46039f"
             ],
             [
              0.2222222222222222,
              "#7201a8"
             ],
             [
              0.3333333333333333,
              "#9c179e"
             ],
             [
              0.4444444444444444,
              "#bd3786"
             ],
             [
              0.5555555555555556,
              "#d8576b"
             ],
             [
              0.6666666666666666,
              "#ed7953"
             ],
             [
              0.7777777777777778,
              "#fb9f3a"
             ],
             [
              0.8888888888888888,
              "#fdca26"
             ],
             [
              1,
              "#f0f921"
             ]
            ],
            "type": "histogram2d"
           }
          ],
          "histogram2dcontour": [
           {
            "colorbar": {
             "outlinewidth": 0,
             "ticks": ""
            },
            "colorscale": [
             [
              0,
              "#0d0887"
             ],
             [
              0.1111111111111111,
              "#46039f"
             ],
             [
              0.2222222222222222,
              "#7201a8"
             ],
             [
              0.3333333333333333,
              "#9c179e"
             ],
             [
              0.4444444444444444,
              "#bd3786"
             ],
             [
              0.5555555555555556,
              "#d8576b"
             ],
             [
              0.6666666666666666,
              "#ed7953"
             ],
             [
              0.7777777777777778,
              "#fb9f3a"
             ],
             [
              0.8888888888888888,
              "#fdca26"
             ],
             [
              1,
              "#f0f921"
             ]
            ],
            "type": "histogram2dcontour"
           }
          ],
          "mesh3d": [
           {
            "colorbar": {
             "outlinewidth": 0,
             "ticks": ""
            },
            "type": "mesh3d"
           }
          ],
          "parcoords": [
           {
            "line": {
             "colorbar": {
              "outlinewidth": 0,
              "ticks": ""
             }
            },
            "type": "parcoords"
           }
          ],
          "pie": [
           {
            "automargin": true,
            "type": "pie"
           }
          ],
          "scatter": [
           {
            "fillpattern": {
             "fillmode": "overlay",
             "size": 10,
             "solidity": 0.2
            },
            "type": "scatter"
           }
          ],
          "scatter3d": [
           {
            "line": {
             "colorbar": {
              "outlinewidth": 0,
              "ticks": ""
             }
            },
            "marker": {
             "colorbar": {
              "outlinewidth": 0,
              "ticks": ""
             }
            },
            "type": "scatter3d"
           }
          ],
          "scattercarpet": [
           {
            "marker": {
             "colorbar": {
              "outlinewidth": 0,
              "ticks": ""
             }
            },
            "type": "scattercarpet"
           }
          ],
          "scattergeo": [
           {
            "marker": {
             "colorbar": {
              "outlinewidth": 0,
              "ticks": ""
             }
            },
            "type": "scattergeo"
           }
          ],
          "scattergl": [
           {
            "marker": {
             "colorbar": {
              "outlinewidth": 0,
              "ticks": ""
             }
            },
            "type": "scattergl"
           }
          ],
          "scattermapbox": [
           {
            "marker": {
             "colorbar": {
              "outlinewidth": 0,
              "ticks": ""
             }
            },
            "type": "scattermapbox"
           }
          ],
          "scatterpolar": [
           {
            "marker": {
             "colorbar": {
              "outlinewidth": 0,
              "ticks": ""
             }
            },
            "type": "scatterpolar"
           }
          ],
          "scatterpolargl": [
           {
            "marker": {
             "colorbar": {
              "outlinewidth": 0,
              "ticks": ""
             }
            },
            "type": "scatterpolargl"
           }
          ],
          "scatterternary": [
           {
            "marker": {
             "colorbar": {
              "outlinewidth": 0,
              "ticks": ""
             }
            },
            "type": "scatterternary"
           }
          ],
          "surface": [
           {
            "colorbar": {
             "outlinewidth": 0,
             "ticks": ""
            },
            "colorscale": [
             [
              0,
              "#0d0887"
             ],
             [
              0.1111111111111111,
              "#46039f"
             ],
             [
              0.2222222222222222,
              "#7201a8"
             ],
             [
              0.3333333333333333,
              "#9c179e"
             ],
             [
              0.4444444444444444,
              "#bd3786"
             ],
             [
              0.5555555555555556,
              "#d8576b"
             ],
             [
              0.6666666666666666,
              "#ed7953"
             ],
             [
              0.7777777777777778,
              "#fb9f3a"
             ],
             [
              0.8888888888888888,
              "#fdca26"
             ],
             [
              1,
              "#f0f921"
             ]
            ],
            "type": "surface"
           }
          ],
          "table": [
           {
            "cells": {
             "fill": {
              "color": "#EBF0F8"
             },
             "line": {
              "color": "white"
             }
            },
            "header": {
             "fill": {
              "color": "#C8D4E3"
             },
             "line": {
              "color": "white"
             }
            },
            "type": "table"
           }
          ]
         },
         "layout": {
          "annotationdefaults": {
           "arrowcolor": "#2a3f5f",
           "arrowhead": 0,
           "arrowwidth": 1
          },
          "autotypenumbers": "strict",
          "coloraxis": {
           "colorbar": {
            "outlinewidth": 0,
            "ticks": ""
           }
          },
          "colorscale": {
           "diverging": [
            [
             0,
             "#8e0152"
            ],
            [
             0.1,
             "#c51b7d"
            ],
            [
             0.2,
             "#de77ae"
            ],
            [
             0.3,
             "#f1b6da"
            ],
            [
             0.4,
             "#fde0ef"
            ],
            [
             0.5,
             "#f7f7f7"
            ],
            [
             0.6,
             "#e6f5d0"
            ],
            [
             0.7,
             "#b8e186"
            ],
            [
             0.8,
             "#7fbc41"
            ],
            [
             0.9,
             "#4d9221"
            ],
            [
             1,
             "#276419"
            ]
           ],
           "sequential": [
            [
             0,
             "#0d0887"
            ],
            [
             0.1111111111111111,
             "#46039f"
            ],
            [
             0.2222222222222222,
             "#7201a8"
            ],
            [
             0.3333333333333333,
             "#9c179e"
            ],
            [
             0.4444444444444444,
             "#bd3786"
            ],
            [
             0.5555555555555556,
             "#d8576b"
            ],
            [
             0.6666666666666666,
             "#ed7953"
            ],
            [
             0.7777777777777778,
             "#fb9f3a"
            ],
            [
             0.8888888888888888,
             "#fdca26"
            ],
            [
             1,
             "#f0f921"
            ]
           ],
           "sequentialminus": [
            [
             0,
             "#0d0887"
            ],
            [
             0.1111111111111111,
             "#46039f"
            ],
            [
             0.2222222222222222,
             "#7201a8"
            ],
            [
             0.3333333333333333,
             "#9c179e"
            ],
            [
             0.4444444444444444,
             "#bd3786"
            ],
            [
             0.5555555555555556,
             "#d8576b"
            ],
            [
             0.6666666666666666,
             "#ed7953"
            ],
            [
             0.7777777777777778,
             "#fb9f3a"
            ],
            [
             0.8888888888888888,
             "#fdca26"
            ],
            [
             1,
             "#f0f921"
            ]
           ]
          },
          "colorway": [
           "#636efa",
           "#EF553B",
           "#00cc96",
           "#ab63fa",
           "#FFA15A",
           "#19d3f3",
           "#FF6692",
           "#B6E880",
           "#FF97FF",
           "#FECB52"
          ],
          "font": {
           "color": "#2a3f5f"
          },
          "geo": {
           "bgcolor": "white",
           "lakecolor": "white",
           "landcolor": "#E5ECF6",
           "showlakes": true,
           "showland": true,
           "subunitcolor": "white"
          },
          "hoverlabel": {
           "align": "left"
          },
          "hovermode": "closest",
          "mapbox": {
           "style": "light"
          },
          "paper_bgcolor": "white",
          "plot_bgcolor": "#E5ECF6",
          "polar": {
           "angularaxis": {
            "gridcolor": "white",
            "linecolor": "white",
            "ticks": ""
           },
           "bgcolor": "#E5ECF6",
           "radialaxis": {
            "gridcolor": "white",
            "linecolor": "white",
            "ticks": ""
           }
          },
          "scene": {
           "xaxis": {
            "backgroundcolor": "#E5ECF6",
            "gridcolor": "white",
            "gridwidth": 2,
            "linecolor": "white",
            "showbackground": true,
            "ticks": "",
            "zerolinecolor": "white"
           },
           "yaxis": {
            "backgroundcolor": "#E5ECF6",
            "gridcolor": "white",
            "gridwidth": 2,
            "linecolor": "white",
            "showbackground": true,
            "ticks": "",
            "zerolinecolor": "white"
           },
           "zaxis": {
            "backgroundcolor": "#E5ECF6",
            "gridcolor": "white",
            "gridwidth": 2,
            "linecolor": "white",
            "showbackground": true,
            "ticks": "",
            "zerolinecolor": "white"
           }
          },
          "shapedefaults": {
           "line": {
            "color": "#2a3f5f"
           }
          },
          "ternary": {
           "aaxis": {
            "gridcolor": "white",
            "linecolor": "white",
            "ticks": ""
           },
           "baxis": {
            "gridcolor": "white",
            "linecolor": "white",
            "ticks": ""
           },
           "bgcolor": "#E5ECF6",
           "caxis": {
            "gridcolor": "white",
            "linecolor": "white",
            "ticks": ""
           }
          },
          "title": {
           "x": 0.05
          },
          "xaxis": {
           "automargin": true,
           "gridcolor": "white",
           "linecolor": "white",
           "ticks": "",
           "title": {
            "standoff": 15
           },
           "zerolinecolor": "white",
           "zerolinewidth": 2
          },
          "yaxis": {
           "automargin": true,
           "gridcolor": "white",
           "linecolor": "white",
           "ticks": "",
           "title": {
            "standoff": 15
           },
           "zerolinecolor": "white",
           "zerolinewidth": 2
          }
         }
        },
        "title": {
         "text": "Fsn Distribution-Category N"
        }
       }
      },
      "text/html": [
       "<div>                            <div id=\"4179e35f-1279-4b96-99d2-ad8fdaa28535\" class=\"plotly-graph-div\" style=\"height:525px; width:100%;\"></div>            <script type=\"text/javascript\">                require([\"plotly\"], function(Plotly) {                    window.PLOTLYENV=window.PLOTLYENV || {};                                    if (document.getElementById(\"4179e35f-1279-4b96-99d2-ad8fdaa28535\")) {                    Plotly.newPlot(                        \"4179e35f-1279-4b96-99d2-ad8fdaa28535\",                        [{\"domain\":{\"x\":[0.0,1.0],\"y\":[0.0,1.0]},\"hole\":0.4,\"hovertemplate\":\"Dept=%{label}<extra></extra>\",\"labels\":[\"MMD\",\"C&I\",\"CHM\",\"MBO\",\"BA6\",\"MT6\",\"MMD\",\"CCO\",\"BA6\",\"MT6\",\"MMD\",\"MMD\",\"MMD\",\"MMD\",\"MMD\",\"MMD\",\"MMD\",\"MMD\",\"MMD\",\"MMD\",\"MMD\",\"MMD\",\"MMD\",\"MMD\"],\"legendgroup\":\"\",\"name\":\"\",\"showlegend\":true,\"type\":\"pie\"}],                        {\"template\":{\"data\":{\"histogram2dcontour\":[{\"type\":\"histogram2dcontour\",\"colorbar\":{\"outlinewidth\":0,\"ticks\":\"\"},\"colorscale\":[[0.0,\"#0d0887\"],[0.1111111111111111,\"#46039f\"],[0.2222222222222222,\"#7201a8\"],[0.3333333333333333,\"#9c179e\"],[0.4444444444444444,\"#bd3786\"],[0.5555555555555556,\"#d8576b\"],[0.6666666666666666,\"#ed7953\"],[0.7777777777777778,\"#fb9f3a\"],[0.8888888888888888,\"#fdca26\"],[1.0,\"#f0f921\"]]}],\"choropleth\":[{\"type\":\"choropleth\",\"colorbar\":{\"outlinewidth\":0,\"ticks\":\"\"}}],\"histogram2d\":[{\"type\":\"histogram2d\",\"colorbar\":{\"outlinewidth\":0,\"ticks\":\"\"},\"colorscale\":[[0.0,\"#0d0887\"],[0.1111111111111111,\"#46039f\"],[0.2222222222222222,\"#7201a8\"],[0.3333333333333333,\"#9c179e\"],[0.4444444444444444,\"#bd3786\"],[0.5555555555555556,\"#d8576b\"],[0.6666666666666666,\"#ed7953\"],[0.7777777777777778,\"#fb9f3a\"],[0.8888888888888888,\"#fdca26\"],[1.0,\"#f0f921\"]]}],\"heatmap\":[{\"type\":\"heatmap\",\"colorbar\":{\"outlinewidth\":0,\"ticks\":\"\"},\"colorscale\":[[0.0,\"#0d0887\"],[0.1111111111111111,\"#46039f\"],[0.2222222222222222,\"#7201a8\"],[0.3333333333333333,\"#9c179e\"],[0.4444444444444444,\"#bd3786\"],[0.5555555555555556,\"#d8576b\"],[0.6666666666666666,\"#ed7953\"],[0.7777777777777778,\"#fb9f3a\"],[0.8888888888888888,\"#fdca26\"],[1.0,\"#f0f921\"]]}],\"heatmapgl\":[{\"type\":\"heatmapgl\",\"colorbar\":{\"outlinewidth\":0,\"ticks\":\"\"},\"colorscale\":[[0.0,\"#0d0887\"],[0.1111111111111111,\"#46039f\"],[0.2222222222222222,\"#7201a8\"],[0.3333333333333333,\"#9c179e\"],[0.4444444444444444,\"#bd3786\"],[0.5555555555555556,\"#d8576b\"],[0.6666666666666666,\"#ed7953\"],[0.7777777777777778,\"#fb9f3a\"],[0.8888888888888888,\"#fdca26\"],[1.0,\"#f0f921\"]]}],\"contourcarpet\":[{\"type\":\"contourcarpet\",\"colorbar\":{\"outlinewidth\":0,\"ticks\":\"\"}}],\"contour\":[{\"type\":\"contour\",\"colorbar\":{\"outlinewidth\":0,\"ticks\":\"\"},\"colorscale\":[[0.0,\"#0d0887\"],[0.1111111111111111,\"#46039f\"],[0.2222222222222222,\"#7201a8\"],[0.3333333333333333,\"#9c179e\"],[0.4444444444444444,\"#bd3786\"],[0.5555555555555556,\"#d8576b\"],[0.6666666666666666,\"#ed7953\"],[0.7777777777777778,\"#fb9f3a\"],[0.8888888888888888,\"#fdca26\"],[1.0,\"#f0f921\"]]}],\"surface\":[{\"type\":\"surface\",\"colorbar\":{\"outlinewidth\":0,\"ticks\":\"\"},\"colorscale\":[[0.0,\"#0d0887\"],[0.1111111111111111,\"#46039f\"],[0.2222222222222222,\"#7201a8\"],[0.3333333333333333,\"#9c179e\"],[0.4444444444444444,\"#bd3786\"],[0.5555555555555556,\"#d8576b\"],[0.6666666666666666,\"#ed7953\"],[0.7777777777777778,\"#fb9f3a\"],[0.8888888888888888,\"#fdca26\"],[1.0,\"#f0f921\"]]}],\"mesh3d\":[{\"type\":\"mesh3d\",\"colorbar\":{\"outlinewidth\":0,\"ticks\":\"\"}}],\"scatter\":[{\"fillpattern\":{\"fillmode\":\"overlay\",\"size\":10,\"solidity\":0.2},\"type\":\"scatter\"}],\"parcoords\":[{\"type\":\"parcoords\",\"line\":{\"colorbar\":{\"outlinewidth\":0,\"ticks\":\"\"}}}],\"scatterpolargl\":[{\"type\":\"scatterpolargl\",\"marker\":{\"colorbar\":{\"outlinewidth\":0,\"ticks\":\"\"}}}],\"bar\":[{\"error_x\":{\"color\":\"#2a3f5f\"},\"error_y\":{\"color\":\"#2a3f5f\"},\"marker\":{\"line\":{\"color\":\"#E5ECF6\",\"width\":0.5},\"pattern\":{\"fillmode\":\"overlay\",\"size\":10,\"solidity\":0.2}},\"type\":\"bar\"}],\"scattergeo\":[{\"type\":\"scattergeo\",\"marker\":{\"colorbar\":{\"outlinewidth\":0,\"ticks\":\"\"}}}],\"scatterpolar\":[{\"type\":\"scatterpolar\",\"marker\":{\"colorbar\":{\"outlinewidth\":0,\"ticks\":\"\"}}}],\"histogram\":[{\"marker\":{\"pattern\":{\"fillmode\":\"overlay\",\"size\":10,\"solidity\":0.2}},\"type\":\"histogram\"}],\"scattergl\":[{\"type\":\"scattergl\",\"marker\":{\"colorbar\":{\"outlinewidth\":0,\"ticks\":\"\"}}}],\"scatter3d\":[{\"type\":\"scatter3d\",\"line\":{\"colorbar\":{\"outlinewidth\":0,\"ticks\":\"\"}},\"marker\":{\"colorbar\":{\"outlinewidth\":0,\"ticks\":\"\"}}}],\"scattermapbox\":[{\"type\":\"scattermapbox\",\"marker\":{\"colorbar\":{\"outlinewidth\":0,\"ticks\":\"\"}}}],\"scatterternary\":[{\"type\":\"scatterternary\",\"marker\":{\"colorbar\":{\"outlinewidth\":0,\"ticks\":\"\"}}}],\"scattercarpet\":[{\"type\":\"scattercarpet\",\"marker\":{\"colorbar\":{\"outlinewidth\":0,\"ticks\":\"\"}}}],\"carpet\":[{\"aaxis\":{\"endlinecolor\":\"#2a3f5f\",\"gridcolor\":\"white\",\"linecolor\":\"white\",\"minorgridcolor\":\"white\",\"startlinecolor\":\"#2a3f5f\"},\"baxis\":{\"endlinecolor\":\"#2a3f5f\",\"gridcolor\":\"white\",\"linecolor\":\"white\",\"minorgridcolor\":\"white\",\"startlinecolor\":\"#2a3f5f\"},\"type\":\"carpet\"}],\"table\":[{\"cells\":{\"fill\":{\"color\":\"#EBF0F8\"},\"line\":{\"color\":\"white\"}},\"header\":{\"fill\":{\"color\":\"#C8D4E3\"},\"line\":{\"color\":\"white\"}},\"type\":\"table\"}],\"barpolar\":[{\"marker\":{\"line\":{\"color\":\"#E5ECF6\",\"width\":0.5},\"pattern\":{\"fillmode\":\"overlay\",\"size\":10,\"solidity\":0.2}},\"type\":\"barpolar\"}],\"pie\":[{\"automargin\":true,\"type\":\"pie\"}]},\"layout\":{\"autotypenumbers\":\"strict\",\"colorway\":[\"#636efa\",\"#EF553B\",\"#00cc96\",\"#ab63fa\",\"#FFA15A\",\"#19d3f3\",\"#FF6692\",\"#B6E880\",\"#FF97FF\",\"#FECB52\"],\"font\":{\"color\":\"#2a3f5f\"},\"hovermode\":\"closest\",\"hoverlabel\":{\"align\":\"left\"},\"paper_bgcolor\":\"white\",\"plot_bgcolor\":\"#E5ECF6\",\"polar\":{\"bgcolor\":\"#E5ECF6\",\"angularaxis\":{\"gridcolor\":\"white\",\"linecolor\":\"white\",\"ticks\":\"\"},\"radialaxis\":{\"gridcolor\":\"white\",\"linecolor\":\"white\",\"ticks\":\"\"}},\"ternary\":{\"bgcolor\":\"#E5ECF6\",\"aaxis\":{\"gridcolor\":\"white\",\"linecolor\":\"white\",\"ticks\":\"\"},\"baxis\":{\"gridcolor\":\"white\",\"linecolor\":\"white\",\"ticks\":\"\"},\"caxis\":{\"gridcolor\":\"white\",\"linecolor\":\"white\",\"ticks\":\"\"}},\"coloraxis\":{\"colorbar\":{\"outlinewidth\":0,\"ticks\":\"\"}},\"colorscale\":{\"sequential\":[[0.0,\"#0d0887\"],[0.1111111111111111,\"#46039f\"],[0.2222222222222222,\"#7201a8\"],[0.3333333333333333,\"#9c179e\"],[0.4444444444444444,\"#bd3786\"],[0.5555555555555556,\"#d8576b\"],[0.6666666666666666,\"#ed7953\"],[0.7777777777777778,\"#fb9f3a\"],[0.8888888888888888,\"#fdca26\"],[1.0,\"#f0f921\"]],\"sequentialminus\":[[0.0,\"#0d0887\"],[0.1111111111111111,\"#46039f\"],[0.2222222222222222,\"#7201a8\"],[0.3333333333333333,\"#9c179e\"],[0.4444444444444444,\"#bd3786\"],[0.5555555555555556,\"#d8576b\"],[0.6666666666666666,\"#ed7953\"],[0.7777777777777778,\"#fb9f3a\"],[0.8888888888888888,\"#fdca26\"],[1.0,\"#f0f921\"]],\"diverging\":[[0,\"#8e0152\"],[0.1,\"#c51b7d\"],[0.2,\"#de77ae\"],[0.3,\"#f1b6da\"],[0.4,\"#fde0ef\"],[0.5,\"#f7f7f7\"],[0.6,\"#e6f5d0\"],[0.7,\"#b8e186\"],[0.8,\"#7fbc41\"],[0.9,\"#4d9221\"],[1,\"#276419\"]]},\"xaxis\":{\"gridcolor\":\"white\",\"linecolor\":\"white\",\"ticks\":\"\",\"title\":{\"standoff\":15},\"zerolinecolor\":\"white\",\"automargin\":true,\"zerolinewidth\":2},\"yaxis\":{\"gridcolor\":\"white\",\"linecolor\":\"white\",\"ticks\":\"\",\"title\":{\"standoff\":15},\"zerolinecolor\":\"white\",\"automargin\":true,\"zerolinewidth\":2},\"scene\":{\"xaxis\":{\"backgroundcolor\":\"#E5ECF6\",\"gridcolor\":\"white\",\"linecolor\":\"white\",\"showbackground\":true,\"ticks\":\"\",\"zerolinecolor\":\"white\",\"gridwidth\":2},\"yaxis\":{\"backgroundcolor\":\"#E5ECF6\",\"gridcolor\":\"white\",\"linecolor\":\"white\",\"showbackground\":true,\"ticks\":\"\",\"zerolinecolor\":\"white\",\"gridwidth\":2},\"zaxis\":{\"backgroundcolor\":\"#E5ECF6\",\"gridcolor\":\"white\",\"linecolor\":\"white\",\"showbackground\":true,\"ticks\":\"\",\"zerolinecolor\":\"white\",\"gridwidth\":2}},\"shapedefaults\":{\"line\":{\"color\":\"#2a3f5f\"}},\"annotationdefaults\":{\"arrowcolor\":\"#2a3f5f\",\"arrowhead\":0,\"arrowwidth\":1},\"geo\":{\"bgcolor\":\"white\",\"landcolor\":\"#E5ECF6\",\"subunitcolor\":\"white\",\"showland\":true,\"showlakes\":true,\"lakecolor\":\"white\"},\"title\":{\"x\":0.05},\"mapbox\":{\"style\":\"light\"}}},\"legend\":{\"tracegroupgap\":0,\"title\":{\"text\":\"Department\"}},\"title\":{\"text\":\"Fsn Distribution-Category N\"},\"piecolorway\":[\"lightcoral\"],\"showlegend\":true},                        {\"responsive\": true}                    ).then(function(){\n",
       "                            \n",
       "var gd = document.getElementById('4179e35f-1279-4b96-99d2-ad8fdaa28535');\n",
       "var x = new MutationObserver(function (mutations, observer) {{\n",
       "        var display = window.getComputedStyle(gd).display;\n",
       "        if (!display || display === 'none') {{\n",
       "            console.log([gd, 'removed!']);\n",
       "            Plotly.purge(gd);\n",
       "            observer.disconnect();\n",
       "        }}\n",
       "}});\n",
       "\n",
       "// Listen for the removal of the full notebook cells\n",
       "var notebookContainer = gd.closest('#notebook-container');\n",
       "if (notebookContainer) {{\n",
       "    x.observe(notebookContainer, {childList: true});\n",
       "}}\n",
       "\n",
       "// Listen for the clearing of the current output cell\n",
       "var outputEl = gd.closest('.output');\n",
       "if (outputEl) {{\n",
       "    x.observe(outputEl, {childList: true});\n",
       "}}\n",
       "\n",
       "                        })                };                });            </script>        </div>"
      ]
     },
     "metadata": {},
     "output_type": "display_data"
    }
   ],
   "source": [
    "#Pie chart for 'N' Category\n",
    "fig_n = px.pie(df_n, names = 'Dept', title = 'Fsn Distribution-Category N', hole = .4,\n",
    "              color_discrete_sequence = ['lightcoral'])\n",
    "fig_n.update_layout(showlegend = True, legend = dict(title='Department'))\n",
    "fig_n.show()\n"
   ]
  },
  {
   "cell_type": "code",
   "execution_count": 98,
   "id": "3555be00",
   "metadata": {},
   "outputs": [
    {
     "data": {
      "application/vnd.plotly.v1+json": {
       "config": {
        "plotlyServerURL": "https://plot.ly"
       },
       "data": [
        {
         "domain": {
          "x": [
           0,
           1
          ],
          "y": [
           0,
           1
          ]
         },
         "hole": 0.4,
         "hovertemplate": "Dept=%{label}<extra></extra>",
         "labels": [
          "MBO",
          "EMD",
          "EMD",
          "EMD",
          "EMD",
          "CCO",
          "CCO",
          "CCO",
          "CCO",
          "CCO",
          "CCO",
          "CCO",
          "CCO",
          "CCO",
          "MBO",
          "MBO",
          "MBO",
          "MBO",
          "MBO",
          "EMD",
          "EMD",
          "EMD",
          "EMD",
          "CCO",
          "CCO",
          "CCO",
          "CCO",
          "MBO",
          "EMD",
          "CCO",
          "CCO",
          "CCO",
          "CCO",
          "CCO",
          "CCO",
          "CCO",
          "CCO",
          "CCO"
         ],
         "legendgroup": "",
         "name": "",
         "showlegend": true,
         "type": "pie"
        }
       ],
       "layout": {
        "legend": {
         "title": {
          "text": "Department"
         },
         "tracegroupgap": 0
        },
        "piecolorway": [
         "darkgreen"
        ],
        "showlegend": true,
        "template": {
         "data": {
          "bar": [
           {
            "error_x": {
             "color": "#2a3f5f"
            },
            "error_y": {
             "color": "#2a3f5f"
            },
            "marker": {
             "line": {
              "color": "#E5ECF6",
              "width": 0.5
             },
             "pattern": {
              "fillmode": "overlay",
              "size": 10,
              "solidity": 0.2
             }
            },
            "type": "bar"
           }
          ],
          "barpolar": [
           {
            "marker": {
             "line": {
              "color": "#E5ECF6",
              "width": 0.5
             },
             "pattern": {
              "fillmode": "overlay",
              "size": 10,
              "solidity": 0.2
             }
            },
            "type": "barpolar"
           }
          ],
          "carpet": [
           {
            "aaxis": {
             "endlinecolor": "#2a3f5f",
             "gridcolor": "white",
             "linecolor": "white",
             "minorgridcolor": "white",
             "startlinecolor": "#2a3f5f"
            },
            "baxis": {
             "endlinecolor": "#2a3f5f",
             "gridcolor": "white",
             "linecolor": "white",
             "minorgridcolor": "white",
             "startlinecolor": "#2a3f5f"
            },
            "type": "carpet"
           }
          ],
          "choropleth": [
           {
            "colorbar": {
             "outlinewidth": 0,
             "ticks": ""
            },
            "type": "choropleth"
           }
          ],
          "contour": [
           {
            "colorbar": {
             "outlinewidth": 0,
             "ticks": ""
            },
            "colorscale": [
             [
              0,
              "#0d0887"
             ],
             [
              0.1111111111111111,
              "#46039f"
             ],
             [
              0.2222222222222222,
              "#7201a8"
             ],
             [
              0.3333333333333333,
              "#9c179e"
             ],
             [
              0.4444444444444444,
              "#bd3786"
             ],
             [
              0.5555555555555556,
              "#d8576b"
             ],
             [
              0.6666666666666666,
              "#ed7953"
             ],
             [
              0.7777777777777778,
              "#fb9f3a"
             ],
             [
              0.8888888888888888,
              "#fdca26"
             ],
             [
              1,
              "#f0f921"
             ]
            ],
            "type": "contour"
           }
          ],
          "contourcarpet": [
           {
            "colorbar": {
             "outlinewidth": 0,
             "ticks": ""
            },
            "type": "contourcarpet"
           }
          ],
          "heatmap": [
           {
            "colorbar": {
             "outlinewidth": 0,
             "ticks": ""
            },
            "colorscale": [
             [
              0,
              "#0d0887"
             ],
             [
              0.1111111111111111,
              "#46039f"
             ],
             [
              0.2222222222222222,
              "#7201a8"
             ],
             [
              0.3333333333333333,
              "#9c179e"
             ],
             [
              0.4444444444444444,
              "#bd3786"
             ],
             [
              0.5555555555555556,
              "#d8576b"
             ],
             [
              0.6666666666666666,
              "#ed7953"
             ],
             [
              0.7777777777777778,
              "#fb9f3a"
             ],
             [
              0.8888888888888888,
              "#fdca26"
             ],
             [
              1,
              "#f0f921"
             ]
            ],
            "type": "heatmap"
           }
          ],
          "heatmapgl": [
           {
            "colorbar": {
             "outlinewidth": 0,
             "ticks": ""
            },
            "colorscale": [
             [
              0,
              "#0d0887"
             ],
             [
              0.1111111111111111,
              "#46039f"
             ],
             [
              0.2222222222222222,
              "#7201a8"
             ],
             [
              0.3333333333333333,
              "#9c179e"
             ],
             [
              0.4444444444444444,
              "#bd3786"
             ],
             [
              0.5555555555555556,
              "#d8576b"
             ],
             [
              0.6666666666666666,
              "#ed7953"
             ],
             [
              0.7777777777777778,
              "#fb9f3a"
             ],
             [
              0.8888888888888888,
              "#fdca26"
             ],
             [
              1,
              "#f0f921"
             ]
            ],
            "type": "heatmapgl"
           }
          ],
          "histogram": [
           {
            "marker": {
             "pattern": {
              "fillmode": "overlay",
              "size": 10,
              "solidity": 0.2
             }
            },
            "type": "histogram"
           }
          ],
          "histogram2d": [
           {
            "colorbar": {
             "outlinewidth": 0,
             "ticks": ""
            },
            "colorscale": [
             [
              0,
              "#0d0887"
             ],
             [
              0.1111111111111111,
              "#46039f"
             ],
             [
              0.2222222222222222,
              "#7201a8"
             ],
             [
              0.3333333333333333,
              "#9c179e"
             ],
             [
              0.4444444444444444,
              "#bd3786"
             ],
             [
              0.5555555555555556,
              "#d8576b"
             ],
             [
              0.6666666666666666,
              "#ed7953"
             ],
             [
              0.7777777777777778,
              "#fb9f3a"
             ],
             [
              0.8888888888888888,
              "#fdca26"
             ],
             [
              1,
              "#f0f921"
             ]
            ],
            "type": "histogram2d"
           }
          ],
          "histogram2dcontour": [
           {
            "colorbar": {
             "outlinewidth": 0,
             "ticks": ""
            },
            "colorscale": [
             [
              0,
              "#0d0887"
             ],
             [
              0.1111111111111111,
              "#46039f"
             ],
             [
              0.2222222222222222,
              "#7201a8"
             ],
             [
              0.3333333333333333,
              "#9c179e"
             ],
             [
              0.4444444444444444,
              "#bd3786"
             ],
             [
              0.5555555555555556,
              "#d8576b"
             ],
             [
              0.6666666666666666,
              "#ed7953"
             ],
             [
              0.7777777777777778,
              "#fb9f3a"
             ],
             [
              0.8888888888888888,
              "#fdca26"
             ],
             [
              1,
              "#f0f921"
             ]
            ],
            "type": "histogram2dcontour"
           }
          ],
          "mesh3d": [
           {
            "colorbar": {
             "outlinewidth": 0,
             "ticks": ""
            },
            "type": "mesh3d"
           }
          ],
          "parcoords": [
           {
            "line": {
             "colorbar": {
              "outlinewidth": 0,
              "ticks": ""
             }
            },
            "type": "parcoords"
           }
          ],
          "pie": [
           {
            "automargin": true,
            "type": "pie"
           }
          ],
          "scatter": [
           {
            "fillpattern": {
             "fillmode": "overlay",
             "size": 10,
             "solidity": 0.2
            },
            "type": "scatter"
           }
          ],
          "scatter3d": [
           {
            "line": {
             "colorbar": {
              "outlinewidth": 0,
              "ticks": ""
             }
            },
            "marker": {
             "colorbar": {
              "outlinewidth": 0,
              "ticks": ""
             }
            },
            "type": "scatter3d"
           }
          ],
          "scattercarpet": [
           {
            "marker": {
             "colorbar": {
              "outlinewidth": 0,
              "ticks": ""
             }
            },
            "type": "scattercarpet"
           }
          ],
          "scattergeo": [
           {
            "marker": {
             "colorbar": {
              "outlinewidth": 0,
              "ticks": ""
             }
            },
            "type": "scattergeo"
           }
          ],
          "scattergl": [
           {
            "marker": {
             "colorbar": {
              "outlinewidth": 0,
              "ticks": ""
             }
            },
            "type": "scattergl"
           }
          ],
          "scattermapbox": [
           {
            "marker": {
             "colorbar": {
              "outlinewidth": 0,
              "ticks": ""
             }
            },
            "type": "scattermapbox"
           }
          ],
          "scatterpolar": [
           {
            "marker": {
             "colorbar": {
              "outlinewidth": 0,
              "ticks": ""
             }
            },
            "type": "scatterpolar"
           }
          ],
          "scatterpolargl": [
           {
            "marker": {
             "colorbar": {
              "outlinewidth": 0,
              "ticks": ""
             }
            },
            "type": "scatterpolargl"
           }
          ],
          "scatterternary": [
           {
            "marker": {
             "colorbar": {
              "outlinewidth": 0,
              "ticks": ""
             }
            },
            "type": "scatterternary"
           }
          ],
          "surface": [
           {
            "colorbar": {
             "outlinewidth": 0,
             "ticks": ""
            },
            "colorscale": [
             [
              0,
              "#0d0887"
             ],
             [
              0.1111111111111111,
              "#46039f"
             ],
             [
              0.2222222222222222,
              "#7201a8"
             ],
             [
              0.3333333333333333,
              "#9c179e"
             ],
             [
              0.4444444444444444,
              "#bd3786"
             ],
             [
              0.5555555555555556,
              "#d8576b"
             ],
             [
              0.6666666666666666,
              "#ed7953"
             ],
             [
              0.7777777777777778,
              "#fb9f3a"
             ],
             [
              0.8888888888888888,
              "#fdca26"
             ],
             [
              1,
              "#f0f921"
             ]
            ],
            "type": "surface"
           }
          ],
          "table": [
           {
            "cells": {
             "fill": {
              "color": "#EBF0F8"
             },
             "line": {
              "color": "white"
             }
            },
            "header": {
             "fill": {
              "color": "#C8D4E3"
             },
             "line": {
              "color": "white"
             }
            },
            "type": "table"
           }
          ]
         },
         "layout": {
          "annotationdefaults": {
           "arrowcolor": "#2a3f5f",
           "arrowhead": 0,
           "arrowwidth": 1
          },
          "autotypenumbers": "strict",
          "coloraxis": {
           "colorbar": {
            "outlinewidth": 0,
            "ticks": ""
           }
          },
          "colorscale": {
           "diverging": [
            [
             0,
             "#8e0152"
            ],
            [
             0.1,
             "#c51b7d"
            ],
            [
             0.2,
             "#de77ae"
            ],
            [
             0.3,
             "#f1b6da"
            ],
            [
             0.4,
             "#fde0ef"
            ],
            [
             0.5,
             "#f7f7f7"
            ],
            [
             0.6,
             "#e6f5d0"
            ],
            [
             0.7,
             "#b8e186"
            ],
            [
             0.8,
             "#7fbc41"
            ],
            [
             0.9,
             "#4d9221"
            ],
            [
             1,
             "#276419"
            ]
           ],
           "sequential": [
            [
             0,
             "#0d0887"
            ],
            [
             0.1111111111111111,
             "#46039f"
            ],
            [
             0.2222222222222222,
             "#7201a8"
            ],
            [
             0.3333333333333333,
             "#9c179e"
            ],
            [
             0.4444444444444444,
             "#bd3786"
            ],
            [
             0.5555555555555556,
             "#d8576b"
            ],
            [
             0.6666666666666666,
             "#ed7953"
            ],
            [
             0.7777777777777778,
             "#fb9f3a"
            ],
            [
             0.8888888888888888,
             "#fdca26"
            ],
            [
             1,
             "#f0f921"
            ]
           ],
           "sequentialminus": [
            [
             0,
             "#0d0887"
            ],
            [
             0.1111111111111111,
             "#46039f"
            ],
            [
             0.2222222222222222,
             "#7201a8"
            ],
            [
             0.3333333333333333,
             "#9c179e"
            ],
            [
             0.4444444444444444,
             "#bd3786"
            ],
            [
             0.5555555555555556,
             "#d8576b"
            ],
            [
             0.6666666666666666,
             "#ed7953"
            ],
            [
             0.7777777777777778,
             "#fb9f3a"
            ],
            [
             0.8888888888888888,
             "#fdca26"
            ],
            [
             1,
             "#f0f921"
            ]
           ]
          },
          "colorway": [
           "#636efa",
           "#EF553B",
           "#00cc96",
           "#ab63fa",
           "#FFA15A",
           "#19d3f3",
           "#FF6692",
           "#B6E880",
           "#FF97FF",
           "#FECB52"
          ],
          "font": {
           "color": "#2a3f5f"
          },
          "geo": {
           "bgcolor": "white",
           "lakecolor": "white",
           "landcolor": "#E5ECF6",
           "showlakes": true,
           "showland": true,
           "subunitcolor": "white"
          },
          "hoverlabel": {
           "align": "left"
          },
          "hovermode": "closest",
          "mapbox": {
           "style": "light"
          },
          "paper_bgcolor": "white",
          "plot_bgcolor": "#E5ECF6",
          "polar": {
           "angularaxis": {
            "gridcolor": "white",
            "linecolor": "white",
            "ticks": ""
           },
           "bgcolor": "#E5ECF6",
           "radialaxis": {
            "gridcolor": "white",
            "linecolor": "white",
            "ticks": ""
           }
          },
          "scene": {
           "xaxis": {
            "backgroundcolor": "#E5ECF6",
            "gridcolor": "white",
            "gridwidth": 2,
            "linecolor": "white",
            "showbackground": true,
            "ticks": "",
            "zerolinecolor": "white"
           },
           "yaxis": {
            "backgroundcolor": "#E5ECF6",
            "gridcolor": "white",
            "gridwidth": 2,
            "linecolor": "white",
            "showbackground": true,
            "ticks": "",
            "zerolinecolor": "white"
           },
           "zaxis": {
            "backgroundcolor": "#E5ECF6",
            "gridcolor": "white",
            "gridwidth": 2,
            "linecolor": "white",
            "showbackground": true,
            "ticks": "",
            "zerolinecolor": "white"
           }
          },
          "shapedefaults": {
           "line": {
            "color": "#2a3f5f"
           }
          },
          "ternary": {
           "aaxis": {
            "gridcolor": "white",
            "linecolor": "white",
            "ticks": ""
           },
           "baxis": {
            "gridcolor": "white",
            "linecolor": "white",
            "ticks": ""
           },
           "bgcolor": "#E5ECF6",
           "caxis": {
            "gridcolor": "white",
            "linecolor": "white",
            "ticks": ""
           }
          },
          "title": {
           "x": 0.05
          },
          "xaxis": {
           "automargin": true,
           "gridcolor": "white",
           "linecolor": "white",
           "ticks": "",
           "title": {
            "standoff": 15
           },
           "zerolinecolor": "white",
           "zerolinewidth": 2
          },
          "yaxis": {
           "automargin": true,
           "gridcolor": "white",
           "linecolor": "white",
           "ticks": "",
           "title": {
            "standoff": 15
           },
           "zerolinecolor": "white",
           "zerolinewidth": 2
          }
         }
        },
        "title": {
         "text": "Fsn Distribution-Category F"
        }
       }
      },
      "text/html": [
       "<div>                            <div id=\"3e599788-ce65-4fdc-b9b6-11158a2f28d0\" class=\"plotly-graph-div\" style=\"height:525px; width:100%;\"></div>            <script type=\"text/javascript\">                require([\"plotly\"], function(Plotly) {                    window.PLOTLYENV=window.PLOTLYENV || {};                                    if (document.getElementById(\"3e599788-ce65-4fdc-b9b6-11158a2f28d0\")) {                    Plotly.newPlot(                        \"3e599788-ce65-4fdc-b9b6-11158a2f28d0\",                        [{\"domain\":{\"x\":[0.0,1.0],\"y\":[0.0,1.0]},\"hole\":0.4,\"hovertemplate\":\"Dept=%{label}<extra></extra>\",\"labels\":[\"MBO\",\"EMD\",\"EMD\",\"EMD\",\"EMD\",\"CCO\",\"CCO\",\"CCO\",\"CCO\",\"CCO\",\"CCO\",\"CCO\",\"CCO\",\"CCO\",\"MBO\",\"MBO\",\"MBO\",\"MBO\",\"MBO\",\"EMD\",\"EMD\",\"EMD\",\"EMD\",\"CCO\",\"CCO\",\"CCO\",\"CCO\",\"MBO\",\"EMD\",\"CCO\",\"CCO\",\"CCO\",\"CCO\",\"CCO\",\"CCO\",\"CCO\",\"CCO\",\"CCO\"],\"legendgroup\":\"\",\"name\":\"\",\"showlegend\":true,\"type\":\"pie\"}],                        {\"template\":{\"data\":{\"histogram2dcontour\":[{\"type\":\"histogram2dcontour\",\"colorbar\":{\"outlinewidth\":0,\"ticks\":\"\"},\"colorscale\":[[0.0,\"#0d0887\"],[0.1111111111111111,\"#46039f\"],[0.2222222222222222,\"#7201a8\"],[0.3333333333333333,\"#9c179e\"],[0.4444444444444444,\"#bd3786\"],[0.5555555555555556,\"#d8576b\"],[0.6666666666666666,\"#ed7953\"],[0.7777777777777778,\"#fb9f3a\"],[0.8888888888888888,\"#fdca26\"],[1.0,\"#f0f921\"]]}],\"choropleth\":[{\"type\":\"choropleth\",\"colorbar\":{\"outlinewidth\":0,\"ticks\":\"\"}}],\"histogram2d\":[{\"type\":\"histogram2d\",\"colorbar\":{\"outlinewidth\":0,\"ticks\":\"\"},\"colorscale\":[[0.0,\"#0d0887\"],[0.1111111111111111,\"#46039f\"],[0.2222222222222222,\"#7201a8\"],[0.3333333333333333,\"#9c179e\"],[0.4444444444444444,\"#bd3786\"],[0.5555555555555556,\"#d8576b\"],[0.6666666666666666,\"#ed7953\"],[0.7777777777777778,\"#fb9f3a\"],[0.8888888888888888,\"#fdca26\"],[1.0,\"#f0f921\"]]}],\"heatmap\":[{\"type\":\"heatmap\",\"colorbar\":{\"outlinewidth\":0,\"ticks\":\"\"},\"colorscale\":[[0.0,\"#0d0887\"],[0.1111111111111111,\"#46039f\"],[0.2222222222222222,\"#7201a8\"],[0.3333333333333333,\"#9c179e\"],[0.4444444444444444,\"#bd3786\"],[0.5555555555555556,\"#d8576b\"],[0.6666666666666666,\"#ed7953\"],[0.7777777777777778,\"#fb9f3a\"],[0.8888888888888888,\"#fdca26\"],[1.0,\"#f0f921\"]]}],\"heatmapgl\":[{\"type\":\"heatmapgl\",\"colorbar\":{\"outlinewidth\":0,\"ticks\":\"\"},\"colorscale\":[[0.0,\"#0d0887\"],[0.1111111111111111,\"#46039f\"],[0.2222222222222222,\"#7201a8\"],[0.3333333333333333,\"#9c179e\"],[0.4444444444444444,\"#bd3786\"],[0.5555555555555556,\"#d8576b\"],[0.6666666666666666,\"#ed7953\"],[0.7777777777777778,\"#fb9f3a\"],[0.8888888888888888,\"#fdca26\"],[1.0,\"#f0f921\"]]}],\"contourcarpet\":[{\"type\":\"contourcarpet\",\"colorbar\":{\"outlinewidth\":0,\"ticks\":\"\"}}],\"contour\":[{\"type\":\"contour\",\"colorbar\":{\"outlinewidth\":0,\"ticks\":\"\"},\"colorscale\":[[0.0,\"#0d0887\"],[0.1111111111111111,\"#46039f\"],[0.2222222222222222,\"#7201a8\"],[0.3333333333333333,\"#9c179e\"],[0.4444444444444444,\"#bd3786\"],[0.5555555555555556,\"#d8576b\"],[0.6666666666666666,\"#ed7953\"],[0.7777777777777778,\"#fb9f3a\"],[0.8888888888888888,\"#fdca26\"],[1.0,\"#f0f921\"]]}],\"surface\":[{\"type\":\"surface\",\"colorbar\":{\"outlinewidth\":0,\"ticks\":\"\"},\"colorscale\":[[0.0,\"#0d0887\"],[0.1111111111111111,\"#46039f\"],[0.2222222222222222,\"#7201a8\"],[0.3333333333333333,\"#9c179e\"],[0.4444444444444444,\"#bd3786\"],[0.5555555555555556,\"#d8576b\"],[0.6666666666666666,\"#ed7953\"],[0.7777777777777778,\"#fb9f3a\"],[0.8888888888888888,\"#fdca26\"],[1.0,\"#f0f921\"]]}],\"mesh3d\":[{\"type\":\"mesh3d\",\"colorbar\":{\"outlinewidth\":0,\"ticks\":\"\"}}],\"scatter\":[{\"fillpattern\":{\"fillmode\":\"overlay\",\"size\":10,\"solidity\":0.2},\"type\":\"scatter\"}],\"parcoords\":[{\"type\":\"parcoords\",\"line\":{\"colorbar\":{\"outlinewidth\":0,\"ticks\":\"\"}}}],\"scatterpolargl\":[{\"type\":\"scatterpolargl\",\"marker\":{\"colorbar\":{\"outlinewidth\":0,\"ticks\":\"\"}}}],\"bar\":[{\"error_x\":{\"color\":\"#2a3f5f\"},\"error_y\":{\"color\":\"#2a3f5f\"},\"marker\":{\"line\":{\"color\":\"#E5ECF6\",\"width\":0.5},\"pattern\":{\"fillmode\":\"overlay\",\"size\":10,\"solidity\":0.2}},\"type\":\"bar\"}],\"scattergeo\":[{\"type\":\"scattergeo\",\"marker\":{\"colorbar\":{\"outlinewidth\":0,\"ticks\":\"\"}}}],\"scatterpolar\":[{\"type\":\"scatterpolar\",\"marker\":{\"colorbar\":{\"outlinewidth\":0,\"ticks\":\"\"}}}],\"histogram\":[{\"marker\":{\"pattern\":{\"fillmode\":\"overlay\",\"size\":10,\"solidity\":0.2}},\"type\":\"histogram\"}],\"scattergl\":[{\"type\":\"scattergl\",\"marker\":{\"colorbar\":{\"outlinewidth\":0,\"ticks\":\"\"}}}],\"scatter3d\":[{\"type\":\"scatter3d\",\"line\":{\"colorbar\":{\"outlinewidth\":0,\"ticks\":\"\"}},\"marker\":{\"colorbar\":{\"outlinewidth\":0,\"ticks\":\"\"}}}],\"scattermapbox\":[{\"type\":\"scattermapbox\",\"marker\":{\"colorbar\":{\"outlinewidth\":0,\"ticks\":\"\"}}}],\"scatterternary\":[{\"type\":\"scatterternary\",\"marker\":{\"colorbar\":{\"outlinewidth\":0,\"ticks\":\"\"}}}],\"scattercarpet\":[{\"type\":\"scattercarpet\",\"marker\":{\"colorbar\":{\"outlinewidth\":0,\"ticks\":\"\"}}}],\"carpet\":[{\"aaxis\":{\"endlinecolor\":\"#2a3f5f\",\"gridcolor\":\"white\",\"linecolor\":\"white\",\"minorgridcolor\":\"white\",\"startlinecolor\":\"#2a3f5f\"},\"baxis\":{\"endlinecolor\":\"#2a3f5f\",\"gridcolor\":\"white\",\"linecolor\":\"white\",\"minorgridcolor\":\"white\",\"startlinecolor\":\"#2a3f5f\"},\"type\":\"carpet\"}],\"table\":[{\"cells\":{\"fill\":{\"color\":\"#EBF0F8\"},\"line\":{\"color\":\"white\"}},\"header\":{\"fill\":{\"color\":\"#C8D4E3\"},\"line\":{\"color\":\"white\"}},\"type\":\"table\"}],\"barpolar\":[{\"marker\":{\"line\":{\"color\":\"#E5ECF6\",\"width\":0.5},\"pattern\":{\"fillmode\":\"overlay\",\"size\":10,\"solidity\":0.2}},\"type\":\"barpolar\"}],\"pie\":[{\"automargin\":true,\"type\":\"pie\"}]},\"layout\":{\"autotypenumbers\":\"strict\",\"colorway\":[\"#636efa\",\"#EF553B\",\"#00cc96\",\"#ab63fa\",\"#FFA15A\",\"#19d3f3\",\"#FF6692\",\"#B6E880\",\"#FF97FF\",\"#FECB52\"],\"font\":{\"color\":\"#2a3f5f\"},\"hovermode\":\"closest\",\"hoverlabel\":{\"align\":\"left\"},\"paper_bgcolor\":\"white\",\"plot_bgcolor\":\"#E5ECF6\",\"polar\":{\"bgcolor\":\"#E5ECF6\",\"angularaxis\":{\"gridcolor\":\"white\",\"linecolor\":\"white\",\"ticks\":\"\"},\"radialaxis\":{\"gridcolor\":\"white\",\"linecolor\":\"white\",\"ticks\":\"\"}},\"ternary\":{\"bgcolor\":\"#E5ECF6\",\"aaxis\":{\"gridcolor\":\"white\",\"linecolor\":\"white\",\"ticks\":\"\"},\"baxis\":{\"gridcolor\":\"white\",\"linecolor\":\"white\",\"ticks\":\"\"},\"caxis\":{\"gridcolor\":\"white\",\"linecolor\":\"white\",\"ticks\":\"\"}},\"coloraxis\":{\"colorbar\":{\"outlinewidth\":0,\"ticks\":\"\"}},\"colorscale\":{\"sequential\":[[0.0,\"#0d0887\"],[0.1111111111111111,\"#46039f\"],[0.2222222222222222,\"#7201a8\"],[0.3333333333333333,\"#9c179e\"],[0.4444444444444444,\"#bd3786\"],[0.5555555555555556,\"#d8576b\"],[0.6666666666666666,\"#ed7953\"],[0.7777777777777778,\"#fb9f3a\"],[0.8888888888888888,\"#fdca26\"],[1.0,\"#f0f921\"]],\"sequentialminus\":[[0.0,\"#0d0887\"],[0.1111111111111111,\"#46039f\"],[0.2222222222222222,\"#7201a8\"],[0.3333333333333333,\"#9c179e\"],[0.4444444444444444,\"#bd3786\"],[0.5555555555555556,\"#d8576b\"],[0.6666666666666666,\"#ed7953\"],[0.7777777777777778,\"#fb9f3a\"],[0.8888888888888888,\"#fdca26\"],[1.0,\"#f0f921\"]],\"diverging\":[[0,\"#8e0152\"],[0.1,\"#c51b7d\"],[0.2,\"#de77ae\"],[0.3,\"#f1b6da\"],[0.4,\"#fde0ef\"],[0.5,\"#f7f7f7\"],[0.6,\"#e6f5d0\"],[0.7,\"#b8e186\"],[0.8,\"#7fbc41\"],[0.9,\"#4d9221\"],[1,\"#276419\"]]},\"xaxis\":{\"gridcolor\":\"white\",\"linecolor\":\"white\",\"ticks\":\"\",\"title\":{\"standoff\":15},\"zerolinecolor\":\"white\",\"automargin\":true,\"zerolinewidth\":2},\"yaxis\":{\"gridcolor\":\"white\",\"linecolor\":\"white\",\"ticks\":\"\",\"title\":{\"standoff\":15},\"zerolinecolor\":\"white\",\"automargin\":true,\"zerolinewidth\":2},\"scene\":{\"xaxis\":{\"backgroundcolor\":\"#E5ECF6\",\"gridcolor\":\"white\",\"linecolor\":\"white\",\"showbackground\":true,\"ticks\":\"\",\"zerolinecolor\":\"white\",\"gridwidth\":2},\"yaxis\":{\"backgroundcolor\":\"#E5ECF6\",\"gridcolor\":\"white\",\"linecolor\":\"white\",\"showbackground\":true,\"ticks\":\"\",\"zerolinecolor\":\"white\",\"gridwidth\":2},\"zaxis\":{\"backgroundcolor\":\"#E5ECF6\",\"gridcolor\":\"white\",\"linecolor\":\"white\",\"showbackground\":true,\"ticks\":\"\",\"zerolinecolor\":\"white\",\"gridwidth\":2}},\"shapedefaults\":{\"line\":{\"color\":\"#2a3f5f\"}},\"annotationdefaults\":{\"arrowcolor\":\"#2a3f5f\",\"arrowhead\":0,\"arrowwidth\":1},\"geo\":{\"bgcolor\":\"white\",\"landcolor\":\"#E5ECF6\",\"subunitcolor\":\"white\",\"showland\":true,\"showlakes\":true,\"lakecolor\":\"white\"},\"title\":{\"x\":0.05},\"mapbox\":{\"style\":\"light\"}}},\"legend\":{\"tracegroupgap\":0,\"title\":{\"text\":\"Department\"}},\"title\":{\"text\":\"Fsn Distribution-Category F\"},\"piecolorway\":[\"darkgreen\"],\"showlegend\":true},                        {\"responsive\": true}                    ).then(function(){\n",
       "                            \n",
       "var gd = document.getElementById('3e599788-ce65-4fdc-b9b6-11158a2f28d0');\n",
       "var x = new MutationObserver(function (mutations, observer) {{\n",
       "        var display = window.getComputedStyle(gd).display;\n",
       "        if (!display || display === 'none') {{\n",
       "            console.log([gd, 'removed!']);\n",
       "            Plotly.purge(gd);\n",
       "            observer.disconnect();\n",
       "        }}\n",
       "}});\n",
       "\n",
       "// Listen for the removal of the full notebook cells\n",
       "var notebookContainer = gd.closest('#notebook-container');\n",
       "if (notebookContainer) {{\n",
       "    x.observe(notebookContainer, {childList: true});\n",
       "}}\n",
       "\n",
       "// Listen for the clearing of the current output cell\n",
       "var outputEl = gd.closest('.output');\n",
       "if (outputEl) {{\n",
       "    x.observe(outputEl, {childList: true});\n",
       "}}\n",
       "\n",
       "                        })                };                });            </script>        </div>"
      ]
     },
     "metadata": {},
     "output_type": "display_data"
    }
   ],
   "source": [
    "#Pie chart for 'F' Category\n",
    "fig_f = px.pie(df_f, names = 'Dept', title = 'Fsn Distribution-Category F', hole = .4,\n",
    "              color_discrete_sequence = ['darkgreen'])\n",
    "fig_f.update_layout(showlegend = True, legend = dict(title='Department'))\n",
    "fig_f.show()\n"
   ]
  },
  {
   "cell_type": "code",
   "execution_count": null,
   "id": "14370192",
   "metadata": {},
   "outputs": [],
   "source": []
  }
 ],
 "metadata": {
  "kernelspec": {
   "display_name": "Python 3 (ipykernel)",
   "language": "python",
   "name": "python3"
  },
  "language_info": {
   "codemirror_mode": {
    "name": "ipython",
    "version": 3
   },
   "file_extension": ".py",
   "mimetype": "text/x-python",
   "name": "python",
   "nbconvert_exporter": "python",
   "pygments_lexer": "ipython3",
   "version": "3.10.9"
  }
 },
 "nbformat": 4,
 "nbformat_minor": 5
}
